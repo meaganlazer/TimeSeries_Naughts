{
 "cells": [
  {
   "cell_type": "markdown",
   "metadata": {},
   "source": [
    "# COVID"
   ]
  },
  {
   "cell_type": "markdown",
   "metadata": {},
   "source": [
    "2019 Novel Coronavirus (2019-nCoV) is a virus (more specifically, a coronavirus) identified as the cause of an outbreak of respiratory illness first detected in Wuhan, China. Early on, many of the patients in the outbreak in Wuhan, China reportedly had some link to a large seafood and animal market, suggesting animal-to-person spread. However, a growing number of patients reportedly have not had exposure to animal markets, indicating person-to-person spread is occurring. At this time, it’s unclear how easily or sustainably this virus is spreading between people - CDC\n",
    "\n",
    "This dataset has daily level information on the number of affected cases, deaths and recovery from 2019 novel coronavirus. Please note that this is a time series data and so the number of cases on any given day is the cumulative number.\n",
    "\n",
    "The data is available from 22 Jan, 2020."
   ]
  },
  {
   "cell_type": "code",
   "execution_count": 3,
   "metadata": {},
   "outputs": [
    {
     "name": "stdout",
     "output_type": "stream",
     "text": [
      "Collecting pmdarima\n",
      "\u001b[?25l  Downloading https://files.pythonhosted.org/packages/b2/f0/dafa58329b853a2c62aa7f142cbc3c38f764ccd3be8257a136767a372e03/pmdarima-1.5.3-cp36-cp36m-macosx_10_15_x86_64.whl (601kB)\n",
      "\u001b[K     |████████████████████████████████| 604kB 1.8MB/s eta 0:00:01\n",
      "\u001b[?25hCollecting scikit-learn>=0.22 (from pmdarima)\n",
      "\u001b[?25l  Downloading https://files.pythonhosted.org/packages/0c/e1/b640df8f5cc31842953ab26b50bb4735ed3ec92712c2b47ceb712a96a926/scikit_learn-0.22.2.post1-cp36-cp36m-macosx_10_9_x86_64.whl (7.2MB)\n",
      "\u001b[K     |████████████████████████████████| 7.2MB 3.0MB/s eta 0:00:01\n",
      "\u001b[?25hRequirement already satisfied: joblib>=0.11 in /opt/anaconda3/envs/learn-env/lib/python3.6/site-packages (from pmdarima) (0.13.2)\n",
      "Requirement already satisfied: Cython>=0.29 in /opt/anaconda3/envs/learn-env/lib/python3.6/site-packages (from pmdarima) (0.29.13)\n",
      "Collecting scipy>=1.3.2 (from pmdarima)\n",
      "\u001b[?25l  Downloading https://files.pythonhosted.org/packages/96/94/cd76305a69fff844e83655ed7b254835df4eddd5fc0e2d0eb2914501b36e/scipy-1.4.1-cp36-cp36m-macosx_10_6_intel.whl (28.5MB)\n",
      "\u001b[K     |████████████████████████████████| 28.5MB 2.7MB/s eta 0:00:01     |█████████████████▌              | 15.6MB 3.1MB/s eta 0:00:05\n",
      "\u001b[?25hRequirement already satisfied: urllib3 in /opt/anaconda3/envs/learn-env/lib/python3.6/site-packages (from pmdarima) (1.24.2)\n",
      "Collecting statsmodels>=0.10.2 (from pmdarima)\n",
      "\u001b[?25l  Downloading https://files.pythonhosted.org/packages/f0/68/7e7ce7a1c6f4ec65083ae9be678d55a3c32d2b12baa579824fffba9b082e/statsmodels-0.11.1-cp36-cp36m-macosx_10_13_x86_64.whl (8.4MB)\n",
      "\u001b[K     |████████████████████████████████| 8.4MB 3.1MB/s eta 0:00:01\n",
      "\u001b[?25hRequirement already satisfied: pandas>=0.19 in /opt/anaconda3/envs/learn-env/lib/python3.6/site-packages (from pmdarima) (0.25.1)\n",
      "Collecting numpy>=1.17.3 (from pmdarima)\n",
      "\u001b[?25l  Downloading https://files.pythonhosted.org/packages/ec/b7/9a09a0322fce2999cc5168a71dd25ab64bd57103e607c3865132e4a5f304/numpy-1.18.2-cp36-cp36m-macosx_10_9_x86_64.whl (15.2MB)\n",
      "\u001b[K     |████████████████████████████████| 15.2MB 3.0MB/s eta 0:00:01\n",
      "\u001b[?25hRequirement already satisfied: patsy>=0.5 in /opt/anaconda3/envs/learn-env/lib/python3.6/site-packages (from statsmodels>=0.10.2->pmdarima) (0.5.1)\n",
      "Requirement already satisfied: pytz>=2017.2 in /opt/anaconda3/envs/learn-env/lib/python3.6/site-packages (from pandas>=0.19->pmdarima) (2019.2)\n",
      "Requirement already satisfied: python-dateutil>=2.6.1 in /opt/anaconda3/envs/learn-env/lib/python3.6/site-packages (from pandas>=0.19->pmdarima) (2.8.0)\n",
      "Requirement already satisfied: six in /opt/anaconda3/envs/learn-env/lib/python3.6/site-packages (from patsy>=0.5->statsmodels>=0.10.2->pmdarima) (1.12.0)\n",
      "\u001b[31mERROR: keras 2.2.4 has requirement keras-applications>=1.0.6, but you'll have keras-applications 1.0.4 which is incompatible.\u001b[0m\n",
      "\u001b[31mERROR: keras 2.2.4 has requirement keras-preprocessing>=1.0.5, but you'll have keras-preprocessing 1.0.2 which is incompatible.\u001b[0m\n",
      "Installing collected packages: numpy, scipy, scikit-learn, statsmodels, pmdarima\n",
      "  Found existing installation: numpy 1.16.5\n",
      "    Uninstalling numpy-1.16.5:\n",
      "      Successfully uninstalled numpy-1.16.5\n",
      "  Found existing installation: scipy 1.3.1\n",
      "    Uninstalling scipy-1.3.1:\n",
      "      Successfully uninstalled scipy-1.3.1\n",
      "  Found existing installation: scikit-learn 0.21.2\n",
      "    Uninstalling scikit-learn-0.21.2:\n",
      "      Successfully uninstalled scikit-learn-0.21.2\n",
      "  Found existing installation: statsmodels 0.10.1\n",
      "    Uninstalling statsmodels-0.10.1:\n",
      "      Successfully uninstalled statsmodels-0.10.1\n",
      "Successfully installed numpy-1.18.2 pmdarima-1.5.3 scikit-learn-0.22.2.post1 scipy-1.4.1 statsmodels-0.11.1\n",
      "Note: you may need to restart the kernel to use updated packages.\n"
     ]
    }
   ],
   "source": [
    "pip install pmdarima"
   ]
  },
  {
   "cell_type": "code",
   "execution_count": 4,
   "metadata": {},
   "outputs": [],
   "source": [
    "# import libraries\n",
    "import pandas as pd\n",
    "from scipy import stats\n",
    "from scipy.stats import norm\n",
    "import seaborn as sns\n",
    "import numpy as np\n",
    "import matplotlib.pyplot as plt\n",
    "%matplotlib inline\n",
    "\n",
    "import statsmodels.api as sm\n",
    "import statsmodels.formula.api as smf\n",
    "\n",
    "# RUN THIS CELL\n",
    "import pandas as pd\n",
    "import numpy as np\n",
    "%matplotlib inline\n",
    "\n",
    "# Load specific forecasting tools\n",
    "from statsmodels.tsa.statespace.sarimax import SARIMAX\n",
    "\n",
    "from statsmodels.graphics.tsaplots import plot_acf,plot_pacf # for determining (p,q) orders\n",
    "from statsmodels.tsa.seasonal import seasonal_decompose      # for ETS Plots\n",
    "from pmdarima import auto_arima                              # for determining ARIMA orders\n",
    "\n",
    "# Load specific evaluation tools\n",
    "from sklearn.metrics import mean_squared_error\n",
    "from statsmodels.tools.eval_measures import rmse\n",
    "\n",
    "# Ignore harmless warnings\n",
    "import warnings\n",
    "warnings.filterwarnings(\"ignore\")"
   ]
  },
  {
   "cell_type": "code",
   "execution_count": 5,
   "metadata": {},
   "outputs": [
    {
     "data": {
      "text/html": [
       "<div>\n",
       "<style scoped>\n",
       "    .dataframe tbody tr th:only-of-type {\n",
       "        vertical-align: middle;\n",
       "    }\n",
       "\n",
       "    .dataframe tbody tr th {\n",
       "        vertical-align: top;\n",
       "    }\n",
       "\n",
       "    .dataframe thead th {\n",
       "        text-align: right;\n",
       "    }\n",
       "</style>\n",
       "<table border=\"1\" class=\"dataframe\">\n",
       "  <thead>\n",
       "    <tr style=\"text-align: right;\">\n",
       "      <th></th>\n",
       "      <th>SNo</th>\n",
       "      <th>ObservationDate</th>\n",
       "      <th>Province/State</th>\n",
       "      <th>Country/Region</th>\n",
       "      <th>Last Update</th>\n",
       "      <th>Confirmed</th>\n",
       "      <th>Deaths</th>\n",
       "      <th>Recovered</th>\n",
       "    </tr>\n",
       "  </thead>\n",
       "  <tbody>\n",
       "    <tr>\n",
       "      <td>0</td>\n",
       "      <td>1</td>\n",
       "      <td>01/22/2020</td>\n",
       "      <td>Anhui</td>\n",
       "      <td>Mainland China</td>\n",
       "      <td>1/22/2020 17:00</td>\n",
       "      <td>1.0</td>\n",
       "      <td>0.0</td>\n",
       "      <td>0.0</td>\n",
       "    </tr>\n",
       "    <tr>\n",
       "      <td>1</td>\n",
       "      <td>2</td>\n",
       "      <td>01/22/2020</td>\n",
       "      <td>Beijing</td>\n",
       "      <td>Mainland China</td>\n",
       "      <td>1/22/2020 17:00</td>\n",
       "      <td>14.0</td>\n",
       "      <td>0.0</td>\n",
       "      <td>0.0</td>\n",
       "    </tr>\n",
       "    <tr>\n",
       "      <td>2</td>\n",
       "      <td>3</td>\n",
       "      <td>01/22/2020</td>\n",
       "      <td>Chongqing</td>\n",
       "      <td>Mainland China</td>\n",
       "      <td>1/22/2020 17:00</td>\n",
       "      <td>6.0</td>\n",
       "      <td>0.0</td>\n",
       "      <td>0.0</td>\n",
       "    </tr>\n",
       "    <tr>\n",
       "      <td>3</td>\n",
       "      <td>4</td>\n",
       "      <td>01/22/2020</td>\n",
       "      <td>Fujian</td>\n",
       "      <td>Mainland China</td>\n",
       "      <td>1/22/2020 17:00</td>\n",
       "      <td>1.0</td>\n",
       "      <td>0.0</td>\n",
       "      <td>0.0</td>\n",
       "    </tr>\n",
       "    <tr>\n",
       "      <td>4</td>\n",
       "      <td>5</td>\n",
       "      <td>01/22/2020</td>\n",
       "      <td>Gansu</td>\n",
       "      <td>Mainland China</td>\n",
       "      <td>1/22/2020 17:00</td>\n",
       "      <td>0.0</td>\n",
       "      <td>0.0</td>\n",
       "      <td>0.0</td>\n",
       "    </tr>\n",
       "  </tbody>\n",
       "</table>\n",
       "</div>"
      ],
      "text/plain": [
       "   SNo ObservationDate Province/State  Country/Region      Last Update  \\\n",
       "0    1      01/22/2020          Anhui  Mainland China  1/22/2020 17:00   \n",
       "1    2      01/22/2020        Beijing  Mainland China  1/22/2020 17:00   \n",
       "2    3      01/22/2020      Chongqing  Mainland China  1/22/2020 17:00   \n",
       "3    4      01/22/2020         Fujian  Mainland China  1/22/2020 17:00   \n",
       "4    5      01/22/2020          Gansu  Mainland China  1/22/2020 17:00   \n",
       "\n",
       "   Confirmed  Deaths  Recovered  \n",
       "0        1.0     0.0        0.0  \n",
       "1       14.0     0.0        0.0  \n",
       "2        6.0     0.0        0.0  \n",
       "3        1.0     0.0        0.0  \n",
       "4        0.0     0.0        0.0  "
      ]
     },
     "execution_count": 5,
     "metadata": {},
     "output_type": "execute_result"
    }
   ],
   "source": [
    "# Import the dataset from Kaggle, located here: https://www.kaggle.com/abhinand05/covid-19-digging-a-bit-deeper\n",
    "\n",
    "df = pd.read_csv('covid_19_data.csv')\n",
    "df.head()"
   ]
  },
  {
   "cell_type": "code",
   "execution_count": 7,
   "metadata": {},
   "outputs": [
    {
     "data": {
      "text/plain": [
       "(7926, 8)"
      ]
     },
     "execution_count": 7,
     "metadata": {},
     "output_type": "execute_result"
    }
   ],
   "source": [
    "df.shape"
   ]
  },
  {
   "cell_type": "code",
   "execution_count": 8,
   "metadata": {},
   "outputs": [
    {
     "data": {
      "text/plain": [
       "(array([1, 2, 3, 4]), <a list of 4 Text xticklabel objects>)"
      ]
     },
     "execution_count": 8,
     "metadata": {},
     "output_type": "execute_result"
    },
    {
     "data": {
      "image/png": "[encoded data removed]",
      "text/plain": [
       "<Figure size 576x576 with 1 Axes>"
      ]
     },
     "metadata": {
      "needs_background": "light"
     },
     "output_type": "display_data"
    }
   ],
   "source": [
    "pd.DataFrame.boxplot(df,figsize=(8,8))\n",
    "plt.xticks(rotation=90)"
   ]
  },
  {
   "cell_type": "code",
   "execution_count": 9,
   "metadata": {},
   "outputs": [],
   "source": [
    "confirmed = df['Confirmed']"
   ]
  },
  {
   "cell_type": "code",
   "execution_count": 13,
   "metadata": {},
   "outputs": [
    {
     "data": {
      "text/plain": [
       "<matplotlib.axes._subplots.AxesSubplot at 0x1c250caac8>"
      ]
     },
     "execution_count": 13,
     "metadata": {},
     "output_type": "execute_result"
    },
    {
     "data": {
      "image/png": "[encoded data removed]",
      "text/plain": [
       "<Figure size 864x576 with 1 Axes>"
      ]
     },
     "metadata": {
      "needs_background": "light"
     },
     "output_type": "display_data"
    }
   ],
   "source": [
    "confirmed.plot(figsize=(12,8), title= 'Confirmed Cases', fontsize=14)\n",
    "# plt.savefig('confirmed'.png', bbox_inches='tight')"
   ]
  },
  {
   "cell_type": "code",
   "execution_count": null,
   "metadata": {},
   "outputs": [],
   "source": []
  },
  {
   "cell_type": "code",
   "execution_count": null,
   "metadata": {},
   "outputs": [],
   "source": []
  },
  {
   "cell_type": "code",
   "execution_count": null,
   "metadata": {},
   "outputs": [],
   "source": []
  },
  {
   "cell_type": "code",
   "execution_count": null,
   "metadata": {},
   "outputs": [],
   "source": []
  },
  {
   "cell_type": "code",
   "execution_count": null,
   "metadata": {},
   "outputs": [],
   "source": []
  },
  {
   "cell_type": "code",
   "execution_count": null,
   "metadata": {},
   "outputs": [],
   "source": []
  },
  {
   "cell_type": "code",
   "execution_count": null,
   "metadata": {},
   "outputs": [],
   "source": []
  },
  {
   "cell_type": "code",
   "execution_count": null,
   "metadata": {},
   "outputs": [],
   "source": []
  },
  {
   "cell_type": "code",
   "execution_count": null,
   "metadata": {},
   "outputs": [],
   "source": []
  },
  {
   "cell_type": "code",
   "execution_count": null,
   "metadata": {},
   "outputs": [],
   "source": []
  },
  {
   "cell_type": "code",
   "execution_count": null,
   "metadata": {},
   "outputs": [],
   "source": [
    "Hyperparameter Tuning"
   ]
  },
  {
   "cell_type": "code",
   "execution_count": null,
   "metadata": {},
   "outputs": [],
   "source": [
    "X = df.drop(['Attrition'],axis=1)\n",
    "y = df['Attrition']\n",
    "\n",
    "sns.set(style=\"whitegrid\", palette=(\"deep\"),font='calibri')\n",
    "sns.set_context(\"poster\")\n",
    "\n",
    "X.corrwith(df['Attrition']).plot.bar(figsize = (20, 10), title =\"Correlation with Attrition\", fontsize = 10,\n",
    "rot = 90, grid = True,)\n",
    "\n",
    "sns.palplot(sns.color_palette())"
   ]
  }
 ],
 "metadata": {
  "kernelspec": {
   "display_name": "Python 3",
   "language": "python",
   "name": "python3"
  },
  "language_info": {
   "codemirror_mode": {
    "name": "ipython",
    "version": 3
   },
   "file_extension": ".py",
   "mimetype": "text/x-python",
   "name": "python",
   "nbconvert_exporter": "python",
   "pygments_lexer": "ipython3",
   "version": "3.6.9"
  },
  "toc": {
   "base_numbering": 1,
   "nav_menu": {},
   "number_sections": true,
   "sideBar": true,
   "skip_h1_title": false,
   "title_cell": "Table of Contents",
   "title_sidebar": "Contents",
   "toc_cell": false,
   "toc_position": {},
   "toc_section_display": true,
   "toc_window_display": false
  }
 },
 "nbformat": 4,
 "nbformat_minor": 2
}
