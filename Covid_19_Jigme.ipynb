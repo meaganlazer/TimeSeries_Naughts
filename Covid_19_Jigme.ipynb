{
 "cells": [
  {
   "cell_type": "markdown",
   "metadata": {},
   "source": [
    "#### Imports "
   ]
  },
  {
   "cell_type": "code",
   "execution_count": 1,
   "metadata": {},
   "outputs": [],
   "source": [
    "# import libraries\n",
    "import pandas as pd\n",
    "from scipy import stats\n",
    "from scipy.stats import norm\n",
    "import seaborn as sns\n",
    "import numpy as np\n",
    "import matplotlib.pyplot as plt\n",
    "from pylab import rcParams\n",
    "import statsmodels.tsa.stattools as sts \n",
    "from statsmodels.tsa.arima_model import ARMA\n",
    "from scipy.stats.distributions import chi2\n",
    "rcParams['figure.figsize'] = 12, 7\n",
    "%matplotlib inline"
   ]
  },
  {
   "cell_type": "markdown",
   "metadata": {},
   "source": [
    "#### Load the dataset"
   ]
  },
  {
   "cell_type": "code",
   "execution_count": 2,
   "metadata": {},
   "outputs": [],
   "source": [
    "df = pd.read_csv('covid_19_data.csv')\n"
   ]
  },
  {
   "cell_type": "markdown",
   "metadata": {},
   "source": [
    "#### Data Cleaning "
   ]
  },
  {
   "cell_type": "code",
   "execution_count": 3,
   "metadata": {},
   "outputs": [
    {
     "name": "stdout",
     "output_type": "stream",
     "text": [
      "<class 'pandas.core.frame.DataFrame'>\n",
      "RangeIndex: 7926 entries, 0 to 7925\n",
      "Data columns (total 8 columns):\n",
      " #   Column           Non-Null Count  Dtype  \n",
      "---  ------           --------------  -----  \n",
      " 0   SNo              7926 non-null   int64  \n",
      " 1   ObservationDate  7926 non-null   object \n",
      " 2   Province/State   4493 non-null   object \n",
      " 3   Country/Region   7926 non-null   object \n",
      " 4   Last Update      7926 non-null   object \n",
      " 5   Confirmed        7926 non-null   float64\n",
      " 6   Deaths           7926 non-null   float64\n",
      " 7   Recovered        7926 non-null   float64\n",
      "dtypes: float64(3), int64(1), object(4)\n",
      "memory usage: 495.5+ KB\n"
     ]
    }
   ],
   "source": [
    "df.info()"
   ]
  },
  {
   "cell_type": "code",
   "execution_count": 4,
   "metadata": {
    "scrolled": true
   },
   "outputs": [
    {
     "data": {
      "text/plain": [
       "SNo                   0\n",
       "ObservationDate       0\n",
       "Province/State     3433\n",
       "Country/Region        0\n",
       "Last Update           0\n",
       "Confirmed             0\n",
       "Deaths                0\n",
       "Recovered             0\n",
       "dtype: int64"
      ]
     },
     "execution_count": 4,
     "metadata": {},
     "output_type": "execute_result"
    }
   ],
   "source": [
    "df.isnull().sum()"
   ]
  },
  {
   "cell_type": "code",
   "execution_count": 5,
   "metadata": {
    "scrolled": true
   },
   "outputs": [
    {
     "data": {
      "text/plain": [
       "array(['Anhui', 'Beijing', 'Chongqing', 'Fujian', 'Gansu', 'Guangdong',\n",
       "       'Guangxi', 'Guizhou', 'Hainan', 'Hebei', 'Heilongjiang', 'Henan',\n",
       "       'Hong Kong', 'Hubei', 'Hunan', 'Inner Mongolia', 'Jiangsu',\n",
       "       'Jiangxi', 'Jilin', 'Liaoning', 'Macau', 'Ningxia', 'Qinghai',\n",
       "       'Shaanxi', 'Shandong', 'Shanghai', 'Shanxi', 'Sichuan', 'Taiwan',\n",
       "       'Tianjin', 'Tibet', 'Washington', 'Xinjiang', 'Yunnan', 'Zhejiang',\n",
       "       nan, 'Chicago', 'Illinois', 'California', 'Arizona', 'Ontario',\n",
       "       'New South Wales', 'Victoria', 'British Columbia', 'Bavaria',\n",
       "       'Queensland', 'Chicago, IL', 'South Australia', 'Boston, MA',\n",
       "       'Los Angeles, CA', 'Orange, CA', 'Santa Clara, CA', 'Seattle, WA',\n",
       "       'Tempe, AZ', 'San Benito, CA', 'Toronto, ON', 'London, ON',\n",
       "       'Madison, WI', 'Cruise Ship', 'Diamond Princess cruise ship',\n",
       "       'San Diego County, CA', 'San Antonio, TX', 'Ashland, NE',\n",
       "       'Travis, CA', 'From Diamond Princess', 'Lackland, TX', 'None',\n",
       "       'Humboldt County, CA', 'Sacramento County, CA',\n",
       "       'Omaha, NE (From Diamond Princess)',\n",
       "       'Travis, CA (From Diamond Princess)',\n",
       "       'Lackland, TX (From Diamond Princess)',\n",
       "       'Unassigned Location (From Diamond Princess)', ' Montreal, QC',\n",
       "       'Western Australia', 'Portland, OR', 'Snohomish County, WA',\n",
       "       'Providence, RI', 'King County, WA', 'Cook County, IL', 'Tasmania',\n",
       "       'Grafton County, NH', 'Hillsborough, FL', 'New York City, NY',\n",
       "       'Placer County, CA', 'San Mateo, CA', 'Sarasota, FL',\n",
       "       'Sonoma County, CA', 'Umatilla, OR', 'Fulton County, GA',\n",
       "       'Washington County, OR', ' Norfolk County, MA', 'Berkeley, CA',\n",
       "       'Maricopa County, AZ', 'Wake County, NC', 'Westchester County, NY',\n",
       "       'Orange County, CA', 'Northern Territory',\n",
       "       'Contra Costa County, CA', 'Bergen County, NJ',\n",
       "       'Harris County, TX', 'San Francisco County, CA',\n",
       "       'Clark County, NV', 'Fort Bend County, TX', 'Grant County, WA',\n",
       "       'Queens County, NY', 'Santa Rosa County, FL',\n",
       "       'Williamson County, TN', 'New York County, NY',\n",
       "       'Unassigned Location, WA', 'Montgomery County, MD',\n",
       "       'Suffolk County, MA', 'Denver County, CO', 'Summit County, CO',\n",
       "       'Calgary, Alberta', 'Chatham County, NC', 'Delaware County, PA',\n",
       "       'Douglas County, NE', 'Fayette County, KY', 'Floyd County, GA',\n",
       "       'Marion County, IN', 'Middlesex County, MA', 'Nassau County, NY',\n",
       "       'Norwell County, MA', 'Ramsey County, MN', 'Washoe County, NV',\n",
       "       'Wayne County, PA', 'Yolo County, CA', 'Santa Clara County, CA',\n",
       "       'Grand Princess Cruise Ship', 'Douglas County, CO',\n",
       "       'Providence County, RI', 'Alameda County, CA',\n",
       "       'Broward County, FL', 'Fairfield County, CT', 'Lee County, FL',\n",
       "       'Pinal County, AZ', 'Rockland County, NY', 'Saratoga County, NY',\n",
       "       'Edmonton, Alberta', 'Charleston County, SC', 'Clark County, WA',\n",
       "       'Cobb County, GA', 'Davis County, UT', 'El Paso County, CO',\n",
       "       'Honolulu County, HI', 'Jackson County, OR ',\n",
       "       'Jefferson County, WA', 'Kershaw County, SC', 'Klamath County, OR',\n",
       "       'Madera County, CA', 'Pierce County, WA', 'Plymouth County, MA',\n",
       "       'Santa Cruz County, CA', 'Tulsa County, OK',\n",
       "       'Montgomery County, TX', 'Norfolk County, MA',\n",
       "       'Montgomery County, PA', 'Fairfax County, VA',\n",
       "       'Rockingham County, NH', 'Washington, D.C.',\n",
       "       'Berkshire County, MA', 'Davidson County, TN',\n",
       "       'Douglas County, OR', 'Fresno County, CA', 'Harford County, MD',\n",
       "       'Hendricks County, IN', 'Hudson County, NJ', 'Johnson County, KS',\n",
       "       'Kittitas County, WA', 'Manatee County, FL', 'Marion County, OR',\n",
       "       'Okaloosa County, FL', 'Polk County, GA', 'Riverside County, CA',\n",
       "       'Shelby County, TN', 'Spokane County, WA', 'St. Louis County, MO',\n",
       "       'Suffolk County, NY', 'Ulster County, NY',\n",
       "       'Unassigned Location, VT', 'Unknown Location, MA',\n",
       "       'Volusia County, FL', 'Alberta', 'Quebec', 'Johnson County, IA',\n",
       "       'Harrison County, KY', 'Bennington County, VT',\n",
       "       'Carver County, MN', 'Charlotte County, FL', 'Cherokee County, GA',\n",
       "       'Collin County, TX', 'Jefferson County, KY',\n",
       "       'Jefferson Parish, LA', 'Shasta County, CA',\n",
       "       'Spartanburg County, SC', 'New York', 'Massachusetts',\n",
       "       'Grand Princess', 'Georgia', 'Colorado', 'Florida', 'New Jersey',\n",
       "       'Oregon', 'Texas', 'Pennsylvania', 'Iowa', 'Maryland',\n",
       "       'North Carolina', 'South Carolina', 'Tennessee', 'Virginia',\n",
       "       'Indiana', 'Kentucky', 'District of Columbia', 'Nevada',\n",
       "       'New Hampshire', 'Minnesota', 'Nebraska', 'Ohio', 'Rhode Island',\n",
       "       'Wisconsin', 'Connecticut', 'Hawaii', 'Oklahoma', 'Utah', 'Kansas',\n",
       "       'Louisiana', 'Missouri', 'Vermont', 'Alaska', 'Arkansas',\n",
       "       'Delaware', 'Idaho', 'Maine', 'Michigan', 'Mississippi', 'Montana',\n",
       "       'New Mexico', 'North Dakota', 'South Dakota', 'West Virginia',\n",
       "       'Wyoming', 'France', 'UK', 'Denmark', 'Faroe Islands', 'St Martin',\n",
       "       'Channel Islands', 'New Brunswick', 'Saint Barthelemy',\n",
       "       'Gibraltar', 'Australian Capital Territory', 'United Kingdom',\n",
       "       'French Polynesia', 'Manitoba', 'Saskatchewan', 'Alabama',\n",
       "       'Fench Guiana', 'Puerto Rico', 'Virgin Islands, U.S.',\n",
       "       'French Guiana', 'Guam', 'Newfoundland and Labrador',\n",
       "       'Prince Edward Island', 'Mayotte', 'Netherlands', 'Nova Scotia',\n",
       "       'Guadeloupe', 'Curacao', 'Virgin Islands', 'Cayman Islands',\n",
       "       'Reunion', 'Aruba', 'United States Virgin Islands', 'US',\n",
       "       'Montserrat', 'Greenland', 'New Caledonia', 'Bermuda',\n",
       "       'Sint Maarten', 'Isle of Man', 'Northwest Territories'],\n",
       "      dtype=object)"
      ]
     },
     "execution_count": 5,
     "metadata": {},
     "output_type": "execute_result"
    }
   ],
   "source": [
    "df['Province/State'].unique()"
   ]
  },
  {
   "cell_type": "code",
   "execution_count": 6,
   "metadata": {},
   "outputs": [],
   "source": [
    "df[\"ObservationDate\"]=pd.to_datetime(df[\"ObservationDate\"])"
   ]
  },
  {
   "cell_type": "code",
   "execution_count": 7,
   "metadata": {
    "scrolled": true
   },
   "outputs": [
    {
     "data": {
      "text/html": [
       "<div>\n",
       "<style scoped>\n",
       "    .dataframe tbody tr th:only-of-type {\n",
       "        vertical-align: middle;\n",
       "    }\n",
       "\n",
       "    .dataframe tbody tr th {\n",
       "        vertical-align: top;\n",
       "    }\n",
       "\n",
       "    .dataframe thead th {\n",
       "        text-align: right;\n",
       "    }\n",
       "</style>\n",
       "<table border=\"1\" class=\"dataframe\">\n",
       "  <thead>\n",
       "    <tr style=\"text-align: right;\">\n",
       "      <th></th>\n",
       "      <th>SNo</th>\n",
       "      <th>ObservationDate</th>\n",
       "      <th>Province/State</th>\n",
       "      <th>Country/Region</th>\n",
       "      <th>Last Update</th>\n",
       "      <th>Confirmed</th>\n",
       "      <th>Deaths</th>\n",
       "      <th>Recovered</th>\n",
       "    </tr>\n",
       "  </thead>\n",
       "  <tbody>\n",
       "    <tr>\n",
       "      <th>0</th>\n",
       "      <td>1</td>\n",
       "      <td>2020-01-22</td>\n",
       "      <td>Anhui</td>\n",
       "      <td>Mainland China</td>\n",
       "      <td>1/22/2020 17:00</td>\n",
       "      <td>1.0</td>\n",
       "      <td>0.0</td>\n",
       "      <td>0.0</td>\n",
       "    </tr>\n",
       "    <tr>\n",
       "      <th>1</th>\n",
       "      <td>2</td>\n",
       "      <td>2020-01-22</td>\n",
       "      <td>Beijing</td>\n",
       "      <td>Mainland China</td>\n",
       "      <td>1/22/2020 17:00</td>\n",
       "      <td>14.0</td>\n",
       "      <td>0.0</td>\n",
       "      <td>0.0</td>\n",
       "    </tr>\n",
       "    <tr>\n",
       "      <th>2</th>\n",
       "      <td>3</td>\n",
       "      <td>2020-01-22</td>\n",
       "      <td>Chongqing</td>\n",
       "      <td>Mainland China</td>\n",
       "      <td>1/22/2020 17:00</td>\n",
       "      <td>6.0</td>\n",
       "      <td>0.0</td>\n",
       "      <td>0.0</td>\n",
       "    </tr>\n",
       "    <tr>\n",
       "      <th>3</th>\n",
       "      <td>4</td>\n",
       "      <td>2020-01-22</td>\n",
       "      <td>Fujian</td>\n",
       "      <td>Mainland China</td>\n",
       "      <td>1/22/2020 17:00</td>\n",
       "      <td>1.0</td>\n",
       "      <td>0.0</td>\n",
       "      <td>0.0</td>\n",
       "    </tr>\n",
       "    <tr>\n",
       "      <th>4</th>\n",
       "      <td>5</td>\n",
       "      <td>2020-01-22</td>\n",
       "      <td>Gansu</td>\n",
       "      <td>Mainland China</td>\n",
       "      <td>1/22/2020 17:00</td>\n",
       "      <td>0.0</td>\n",
       "      <td>0.0</td>\n",
       "      <td>0.0</td>\n",
       "    </tr>\n",
       "    <tr>\n",
       "      <th>...</th>\n",
       "      <td>...</td>\n",
       "      <td>...</td>\n",
       "      <td>...</td>\n",
       "      <td>...</td>\n",
       "      <td>...</td>\n",
       "      <td>...</td>\n",
       "      <td>...</td>\n",
       "      <td>...</td>\n",
       "    </tr>\n",
       "    <tr>\n",
       "      <th>7921</th>\n",
       "      <td>7922</td>\n",
       "      <td>2020-03-22</td>\n",
       "      <td>NaN</td>\n",
       "      <td>Jersey</td>\n",
       "      <td>2020-03-17T18:33:03</td>\n",
       "      <td>0.0</td>\n",
       "      <td>0.0</td>\n",
       "      <td>0.0</td>\n",
       "    </tr>\n",
       "    <tr>\n",
       "      <th>7922</th>\n",
       "      <td>7923</td>\n",
       "      <td>2020-03-22</td>\n",
       "      <td>NaN</td>\n",
       "      <td>Puerto Rico</td>\n",
       "      <td>2020-03-22T22:43:02</td>\n",
       "      <td>0.0</td>\n",
       "      <td>1.0</td>\n",
       "      <td>0.0</td>\n",
       "    </tr>\n",
       "    <tr>\n",
       "      <th>7923</th>\n",
       "      <td>7924</td>\n",
       "      <td>2020-03-22</td>\n",
       "      <td>NaN</td>\n",
       "      <td>Republic of the Congo</td>\n",
       "      <td>2020-03-17T21:33:03</td>\n",
       "      <td>0.0</td>\n",
       "      <td>0.0</td>\n",
       "      <td>0.0</td>\n",
       "    </tr>\n",
       "    <tr>\n",
       "      <th>7924</th>\n",
       "      <td>7925</td>\n",
       "      <td>2020-03-22</td>\n",
       "      <td>NaN</td>\n",
       "      <td>The Bahamas</td>\n",
       "      <td>2020-03-19T12:13:38</td>\n",
       "      <td>0.0</td>\n",
       "      <td>0.0</td>\n",
       "      <td>0.0</td>\n",
       "    </tr>\n",
       "    <tr>\n",
       "      <th>7925</th>\n",
       "      <td>7926</td>\n",
       "      <td>2020-03-22</td>\n",
       "      <td>NaN</td>\n",
       "      <td>The Gambia</td>\n",
       "      <td>2020-03-18T14:13:56</td>\n",
       "      <td>0.0</td>\n",
       "      <td>0.0</td>\n",
       "      <td>0.0</td>\n",
       "    </tr>\n",
       "  </tbody>\n",
       "</table>\n",
       "<p>7926 rows × 8 columns</p>\n",
       "</div>"
      ],
      "text/plain": [
       "       SNo ObservationDate Province/State         Country/Region  \\\n",
       "0        1      2020-01-22          Anhui         Mainland China   \n",
       "1        2      2020-01-22        Beijing         Mainland China   \n",
       "2        3      2020-01-22      Chongqing         Mainland China   \n",
       "3        4      2020-01-22         Fujian         Mainland China   \n",
       "4        5      2020-01-22          Gansu         Mainland China   \n",
       "...    ...             ...            ...                    ...   \n",
       "7921  7922      2020-03-22            NaN                 Jersey   \n",
       "7922  7923      2020-03-22            NaN            Puerto Rico   \n",
       "7923  7924      2020-03-22            NaN  Republic of the Congo   \n",
       "7924  7925      2020-03-22            NaN            The Bahamas   \n",
       "7925  7926      2020-03-22            NaN             The Gambia   \n",
       "\n",
       "              Last Update  Confirmed  Deaths  Recovered  \n",
       "0         1/22/2020 17:00        1.0     0.0        0.0  \n",
       "1         1/22/2020 17:00       14.0     0.0        0.0  \n",
       "2         1/22/2020 17:00        6.0     0.0        0.0  \n",
       "3         1/22/2020 17:00        1.0     0.0        0.0  \n",
       "4         1/22/2020 17:00        0.0     0.0        0.0  \n",
       "...                   ...        ...     ...        ...  \n",
       "7921  2020-03-17T18:33:03        0.0     0.0        0.0  \n",
       "7922  2020-03-22T22:43:02        0.0     1.0        0.0  \n",
       "7923  2020-03-17T21:33:03        0.0     0.0        0.0  \n",
       "7924  2020-03-19T12:13:38        0.0     0.0        0.0  \n",
       "7925  2020-03-18T14:13:56        0.0     0.0        0.0  \n",
       "\n",
       "[7926 rows x 8 columns]"
      ]
     },
     "execution_count": 7,
     "metadata": {},
     "output_type": "execute_result"
    }
   ],
   "source": [
    "df"
   ]
  },
  {
   "cell_type": "code",
   "execution_count": 8,
   "metadata": {},
   "outputs": [
    {
     "data": {
      "text/html": [
       "<div>\n",
       "<style scoped>\n",
       "    .dataframe tbody tr th:only-of-type {\n",
       "        vertical-align: middle;\n",
       "    }\n",
       "\n",
       "    .dataframe tbody tr th {\n",
       "        vertical-align: top;\n",
       "    }\n",
       "\n",
       "    .dataframe thead th {\n",
       "        text-align: right;\n",
       "    }\n",
       "</style>\n",
       "<table border=\"1\" class=\"dataframe\">\n",
       "  <thead>\n",
       "    <tr style=\"text-align: right;\">\n",
       "      <th></th>\n",
       "      <th>Confirmed</th>\n",
       "      <th>Recovered</th>\n",
       "      <th>Deaths</th>\n",
       "    </tr>\n",
       "    <tr>\n",
       "      <th>ObservationDate</th>\n",
       "      <th></th>\n",
       "      <th></th>\n",
       "      <th></th>\n",
       "    </tr>\n",
       "  </thead>\n",
       "  <tbody>\n",
       "    <tr>\n",
       "      <th>2020-01-22</th>\n",
       "      <td>555.0</td>\n",
       "      <td>28.0</td>\n",
       "      <td>17.0</td>\n",
       "    </tr>\n",
       "    <tr>\n",
       "      <th>2020-01-23</th>\n",
       "      <td>653.0</td>\n",
       "      <td>30.0</td>\n",
       "      <td>18.0</td>\n",
       "    </tr>\n",
       "    <tr>\n",
       "      <th>2020-01-24</th>\n",
       "      <td>941.0</td>\n",
       "      <td>36.0</td>\n",
       "      <td>26.0</td>\n",
       "    </tr>\n",
       "    <tr>\n",
       "      <th>2020-01-25</th>\n",
       "      <td>1438.0</td>\n",
       "      <td>39.0</td>\n",
       "      <td>42.0</td>\n",
       "    </tr>\n",
       "    <tr>\n",
       "      <th>2020-01-26</th>\n",
       "      <td>2118.0</td>\n",
       "      <td>52.0</td>\n",
       "      <td>56.0</td>\n",
       "    </tr>\n",
       "  </tbody>\n",
       "</table>\n",
       "</div>"
      ],
      "text/plain": [
       "                 Confirmed  Recovered  Deaths\n",
       "ObservationDate                              \n",
       "2020-01-22           555.0       28.0    17.0\n",
       "2020-01-23           653.0       30.0    18.0\n",
       "2020-01-24           941.0       36.0    26.0\n",
       "2020-01-25          1438.0       39.0    42.0\n",
       "2020-01-26          2118.0       52.0    56.0"
      ]
     },
     "execution_count": 8,
     "metadata": {},
     "output_type": "execute_result"
    }
   ],
   "source": [
    "bydate=df.groupby([\"ObservationDate\"]).agg({\"Confirmed\":'sum',\"Recovered\":'sum',\"Deaths\":'sum'})\n",
    "bydate.head()"
   ]
  },
  {
   "cell_type": "code",
   "execution_count": 9,
   "metadata": {},
   "outputs": [
    {
     "name": "stdout",
     "output_type": "stream",
     "text": [
      "Basic Information\n",
      "Totol number of countries with Disease Spread:  200\n",
      "Total number of Confirmed Cases:  335957.0\n",
      "Total number of Recovered Cases:  97882.0\n",
      "Total number of Deaths Cases:  14634.0\n",
      "Total number of Active Cases around the World:  238075.0\n"
     ]
    }
   ],
   "source": [
    "print(\"Basic Information\")\n",
    "print(\"Totol number of countries with Disease Spread: \",len(df[\"Country/Region\"].unique()))\n",
    "print(\"Total number of Confirmed Cases: \",bydate[\"Confirmed\"].iloc[-1])\n",
    "print(\"Total number of Recovered Cases: \",bydate[\"Recovered\"].iloc[-1])\n",
    "print(\"Total number of Deaths Cases: \",bydate[\"Deaths\"].iloc[-1])\n",
    "print(\"Total number of Active Cases around the World: \",(bydate[\"Confirmed\"].iloc[-1]-bydate[\"Recovered\"].iloc[-1]))"
   ]
  },
  {
   "cell_type": "code",
   "execution_count": null,
   "metadata": {},
   "outputs": [],
   "source": []
  },
  {
   "cell_type": "markdown",
   "metadata": {},
   "source": [
    "#### EDA"
   ]
  },
  {
   "cell_type": "code",
   "execution_count": 10,
   "metadata": {},
   "outputs": [
    {
     "data": {
      "text/plain": [
       "<matplotlib.axes._subplots.AxesSubplot at 0x1085674a8>"
      ]
     },
     "execution_count": 10,
     "metadata": {},
     "output_type": "execute_result"
    },
    {
     "data": {
      "image/png": "[encoded data removed]",
      "text/plain": [
       "<Figure size 432x288 with 1 Axes>"
      ]
     },
     "metadata": {
      "needs_background": "light"
     },
     "output_type": "display_data"
    }
   ],
   "source": [
    "df.Confirmed.plot()"
   ]
  },
  {
   "cell_type": "code",
   "execution_count": 11,
   "metadata": {},
   "outputs": [
    {
     "data": {
      "text/html": [
       "<div>\n",
       "<style scoped>\n",
       "    .dataframe tbody tr th:only-of-type {\n",
       "        vertical-align: middle;\n",
       "    }\n",
       "\n",
       "    .dataframe tbody tr th {\n",
       "        vertical-align: top;\n",
       "    }\n",
       "\n",
       "    .dataframe thead th {\n",
       "        text-align: right;\n",
       "    }\n",
       "</style>\n",
       "<table border=\"1\" class=\"dataframe\">\n",
       "  <thead>\n",
       "    <tr style=\"text-align: right;\">\n",
       "      <th></th>\n",
       "      <th>Confirmed</th>\n",
       "      <th>Recovered</th>\n",
       "      <th>Deaths</th>\n",
       "    </tr>\n",
       "    <tr>\n",
       "      <th>ObservationDate</th>\n",
       "      <th></th>\n",
       "      <th></th>\n",
       "      <th></th>\n",
       "    </tr>\n",
       "  </thead>\n",
       "  <tbody>\n",
       "    <tr>\n",
       "      <th>2020-01-22</th>\n",
       "      <td>555.0</td>\n",
       "      <td>28.0</td>\n",
       "      <td>17.0</td>\n",
       "    </tr>\n",
       "    <tr>\n",
       "      <th>2020-01-23</th>\n",
       "      <td>653.0</td>\n",
       "      <td>30.0</td>\n",
       "      <td>18.0</td>\n",
       "    </tr>\n",
       "    <tr>\n",
       "      <th>2020-01-24</th>\n",
       "      <td>941.0</td>\n",
       "      <td>36.0</td>\n",
       "      <td>26.0</td>\n",
       "    </tr>\n",
       "    <tr>\n",
       "      <th>2020-01-25</th>\n",
       "      <td>1438.0</td>\n",
       "      <td>39.0</td>\n",
       "      <td>42.0</td>\n",
       "    </tr>\n",
       "    <tr>\n",
       "      <th>2020-01-26</th>\n",
       "      <td>2118.0</td>\n",
       "      <td>52.0</td>\n",
       "      <td>56.0</td>\n",
       "    </tr>\n",
       "    <tr>\n",
       "      <th>...</th>\n",
       "      <td>...</td>\n",
       "      <td>...</td>\n",
       "      <td>...</td>\n",
       "    </tr>\n",
       "    <tr>\n",
       "      <th>2020-03-18</th>\n",
       "      <td>214915.0</td>\n",
       "      <td>83313.0</td>\n",
       "      <td>8733.0</td>\n",
       "    </tr>\n",
       "    <tr>\n",
       "      <th>2020-03-19</th>\n",
       "      <td>242713.0</td>\n",
       "      <td>84962.0</td>\n",
       "      <td>9867.0</td>\n",
       "    </tr>\n",
       "    <tr>\n",
       "      <th>2020-03-20</th>\n",
       "      <td>272167.0</td>\n",
       "      <td>87403.0</td>\n",
       "      <td>11299.0</td>\n",
       "    </tr>\n",
       "    <tr>\n",
       "      <th>2020-03-21</th>\n",
       "      <td>304528.0</td>\n",
       "      <td>91676.0</td>\n",
       "      <td>12973.0</td>\n",
       "    </tr>\n",
       "    <tr>\n",
       "      <th>2020-03-22</th>\n",
       "      <td>335957.0</td>\n",
       "      <td>97882.0</td>\n",
       "      <td>14634.0</td>\n",
       "    </tr>\n",
       "  </tbody>\n",
       "</table>\n",
       "<p>61 rows × 3 columns</p>\n",
       "</div>"
      ],
      "text/plain": [
       "                 Confirmed  Recovered   Deaths\n",
       "ObservationDate                               \n",
       "2020-01-22           555.0       28.0     17.0\n",
       "2020-01-23           653.0       30.0     18.0\n",
       "2020-01-24           941.0       36.0     26.0\n",
       "2020-01-25          1438.0       39.0     42.0\n",
       "2020-01-26          2118.0       52.0     56.0\n",
       "...                    ...        ...      ...\n",
       "2020-03-18        214915.0    83313.0   8733.0\n",
       "2020-03-19        242713.0    84962.0   9867.0\n",
       "2020-03-20        272167.0    87403.0  11299.0\n",
       "2020-03-21        304528.0    91676.0  12973.0\n",
       "2020-03-22        335957.0    97882.0  14634.0\n",
       "\n",
       "[61 rows x 3 columns]"
      ]
     },
     "execution_count": 11,
     "metadata": {},
     "output_type": "execute_result"
    }
   ],
   "source": [
    "bydate"
   ]
  },
  {
   "cell_type": "code",
   "execution_count": 12,
   "metadata": {},
   "outputs": [
    {
     "data": {
      "image/png": "[encoded data removed]",
      "text/plain": [
       "<Figure size 864x504 with 1 Axes>"
      ]
     },
     "metadata": {
      "needs_background": "light"
     },
     "output_type": "display_data"
    }
   ],
   "source": [
    "x= df[\"ObservationDate\"].values\n",
    "y=[df.Confirmed.values, df.Deaths.values, df.Recovered.values]\n",
    " \n",
    "# Plot\n",
    "pal = sns.color_palette(\"Set1\")\n",
    "plt.figure(figsize=[12.0, 7.0])\n",
    "plt.stackplot(x,y, labels=['Confirmed','Deaths','Recovered'], colors=pal, alpha=0.7)\n",
    "plt.legend(loc='upper left')\n",
    "plt.show()"
   ]
  },
  {
   "cell_type": "code",
   "execution_count": 14,
   "metadata": {
    "scrolled": true
   },
   "outputs": [
    {
     "data": {
      "image/png": "[encoded data removed]",
      "text/plain": [
       "<Figure size 1440x360 with 1 Axes>"
      ]
     },
     "metadata": {
      "needs_background": "light"
     },
     "output_type": "display_data"
    }
   ],
   "source": [
    "bydate.Confirmed.plot(figsize = (20,5))\n",
    "plt.title(\"Confirmed Cases\", size= 24)\n",
    "plt.show()"
   ]
  },
  {
   "cell_type": "code",
   "execution_count": 15,
   "metadata": {},
   "outputs": [
    {
     "data": {
      "image/png": "[encoded data removed]",
      "text/plain": [
       "<Figure size 1440x360 with 1 Axes>"
      ]
     },
     "metadata": {
      "needs_background": "light"
     },
     "output_type": "display_data"
    }
   ],
   "source": [
    "bydate.Deaths.plot(figsize = (20,5))\n",
    "plt.title(\"Deaths\", size= 24)\n",
    "plt.show()"
   ]
  },
  {
   "cell_type": "code",
   "execution_count": 16,
   "metadata": {},
   "outputs": [
    {
     "data": {
      "image/png": "[encoded data removed]",
      "text/plain": [
       "<Figure size 1440x360 with 1 Axes>"
      ]
     },
     "metadata": {
      "needs_background": "light"
     },
     "output_type": "display_data"
    }
   ],
   "source": [
    "bydate.Recovered.plot(figsize = (20,5))\n",
    "plt.title(\"Recovery\", size= 24)\n",
    "plt.show()"
   ]
  },
  {
   "cell_type": "markdown",
   "metadata": {},
   "source": [
    "#### Models"
   ]
  },
  {
   "cell_type": "markdown",
   "metadata": {},
   "source": [
    "##### Train_Test_split"
   ]
  },
  {
   "cell_type": "code",
   "execution_count": 17,
   "metadata": {},
   "outputs": [],
   "source": [
    "bydate=bydate.asfreq('b')"
   ]
  },
  {
   "cell_type": "code",
   "execution_count": 18,
   "metadata": {},
   "outputs": [],
   "source": [
    "size = int(len(bydate)*0.8)"
   ]
  },
  {
   "cell_type": "code",
   "execution_count": 19,
   "metadata": {},
   "outputs": [],
   "source": [
    "df_train, df_test = bydate.iloc[:size], bydate.iloc[size:]"
   ]
  },
  {
   "cell_type": "code",
   "execution_count": null,
   "metadata": {},
   "outputs": [],
   "source": []
  },
  {
   "cell_type": "code",
   "execution_count": 20,
   "metadata": {
    "scrolled": true
   },
   "outputs": [
    {
     "data": {
      "text/plain": [
       "(0.35749835243175193,\n",
       " 0.979834033765333,\n",
       " 0,\n",
       " 33,\n",
       " {'1%': -3.6461350877925254,\n",
       "  '5%': -2.954126991123355,\n",
       "  '10%': -2.6159676124885216},\n",
       " 446.84844796741805)"
      ]
     },
     "execution_count": 20,
     "metadata": {},
     "output_type": "execute_result"
    }
   ],
   "source": [
    "sts.adfuller(df_train.Confirmed)"
   ]
  },
  {
   "cell_type": "code",
   "execution_count": 21,
   "metadata": {},
   "outputs": [
    {
     "data": {
      "text/plain": [
       "(0.7268896472835629,\n",
       " 0.9903595014404736,\n",
       " 10,\n",
       " 23,\n",
       " {'1%': -3.7529275211638033,\n",
       "  '5%': -2.998499866852963,\n",
       "  '10%': -2.6389669754253307},\n",
       " 287.78318802696754)"
      ]
     },
     "execution_count": 21,
     "metadata": {},
     "output_type": "execute_result"
    }
   ],
   "source": [
    "sts.adfuller(df_train.Deaths)"
   ]
  },
  {
   "cell_type": "code",
   "execution_count": 22,
   "metadata": {
    "scrolled": true
   },
   "outputs": [
    {
     "data": {
      "text/plain": [
       "(-3.0529090481279635,\n",
       " 0.030240156204245416,\n",
       " 5,\n",
       " 28,\n",
       " {'1%': -3.6889256286443146,\n",
       "  '5%': -2.9719894897959187,\n",
       "  '10%': -2.6252957653061224},\n",
       " 394.7927297172709)"
      ]
     },
     "execution_count": 22,
     "metadata": {},
     "output_type": "execute_result"
    }
   ],
   "source": [
    "sts.adfuller(df_train.Recovered)"
   ]
  },
  {
   "cell_type": "markdown",
   "metadata": {},
   "source": [
    "##### AR(1)"
   ]
  },
  {
   "cell_type": "code",
   "execution_count": 23,
   "metadata": {},
   "outputs": [],
   "source": [
    "model_ar = ARMA(bydate.Confirmed, order=(1,0))"
   ]
  },
  {
   "cell_type": "code",
   "execution_count": 24,
   "metadata": {},
   "outputs": [],
   "source": [
    "results_ar = model_ar.fit()"
   ]
  },
  {
   "cell_type": "code",
   "execution_count": 25,
   "metadata": {
    "scrolled": true
   },
   "outputs": [
    {
     "data": {
      "text/html": [
       "<table class=\"simpletable\">\n",
       "<caption>ARMA Model Results</caption>\n",
       "<tr>\n",
       "  <th>Dep. Variable:</th>     <td>Confirmed</td>    <th>  No. Observations:  </th>    <td>43</td>    \n",
       "</tr>\n",
       "<tr>\n",
       "  <th>Model:</th>            <td>ARMA(1, 0)</td>    <th>  Log Likelihood     </th> <td>-461.948</td> \n",
       "</tr>\n",
       "<tr>\n",
       "  <th>Method:</th>             <td>css-mle</td>     <th>  S.D. of innovations</th> <td>10549.502</td>\n",
       "</tr>\n",
       "<tr>\n",
       "  <th>Date:</th>          <td>Wed, 25 Mar 2020</td> <th>  AIC                </th>  <td>929.897</td> \n",
       "</tr>\n",
       "<tr>\n",
       "  <th>Time:</th>              <td>15:59:51</td>     <th>  BIC                </th>  <td>935.181</td> \n",
       "</tr>\n",
       "<tr>\n",
       "  <th>Sample:</th>           <td>01-22-2020</td>    <th>  HQIC               </th>  <td>931.845</td> \n",
       "</tr>\n",
       "<tr>\n",
       "  <th></th>                 <td>- 03-20-2020</td>   <th>                     </th>     <td> </td>    \n",
       "</tr>\n",
       "</table>\n",
       "<table class=\"simpletable\">\n",
       "<tr>\n",
       "         <td></td>            <th>coef</th>     <th>std err</th>      <th>z</th>      <th>P>|z|</th>  <th>[0.025</th>    <th>0.975]</th>  \n",
       "</tr>\n",
       "<tr>\n",
       "  <th>const</th>           <td> 7.988e+04</td> <td> 1.63e+05</td> <td>    0.491</td> <td> 0.624</td> <td>-2.39e+05</td> <td> 3.99e+05</td>\n",
       "</tr>\n",
       "<tr>\n",
       "  <th>ar.L1.Confirmed</th> <td>    0.9972</td> <td>    0.005</td> <td>  209.955</td> <td> 0.000</td> <td>    0.988</td> <td>    1.006</td>\n",
       "</tr>\n",
       "</table>\n",
       "<table class=\"simpletable\">\n",
       "<caption>Roots</caption>\n",
       "<tr>\n",
       "    <td></td>   <th>            Real</th>  <th>         Imaginary</th> <th>         Modulus</th>  <th>        Frequency</th>\n",
       "</tr>\n",
       "<tr>\n",
       "  <th>AR.1</th> <td>           1.0028</td> <td>          +0.0000j</td> <td>           1.0028</td> <td>           0.0000</td>\n",
       "</tr>\n",
       "</table>"
      ],
      "text/plain": [
       "<class 'statsmodels.iolib.summary.Summary'>\n",
       "\"\"\"\n",
       "                              ARMA Model Results                              \n",
       "==============================================================================\n",
       "Dep. Variable:              Confirmed   No. Observations:                   43\n",
       "Model:                     ARMA(1, 0)   Log Likelihood                -461.948\n",
       "Method:                       css-mle   S.D. of innovations          10549.502\n",
       "Date:                Wed, 25 Mar 2020   AIC                            929.897\n",
       "Time:                        15:59:51   BIC                            935.181\n",
       "Sample:                    01-22-2020   HQIC                           931.845\n",
       "                         - 03-20-2020                                         \n",
       "===================================================================================\n",
       "                      coef    std err          z      P>|z|      [0.025      0.975]\n",
       "-----------------------------------------------------------------------------------\n",
       "const            7.988e+04   1.63e+05      0.491      0.624   -2.39e+05    3.99e+05\n",
       "ar.L1.Confirmed     0.9972      0.005    209.955      0.000       0.988       1.006\n",
       "                                    Roots                                    \n",
       "=============================================================================\n",
       "                  Real          Imaginary           Modulus         Frequency\n",
       "-----------------------------------------------------------------------------\n",
       "AR.1            1.0028           +0.0000j            1.0028            0.0000\n",
       "-----------------------------------------------------------------------------\n",
       "\"\"\""
      ]
     },
     "execution_count": 25,
     "metadata": {},
     "output_type": "execute_result"
    }
   ],
   "source": [
    "results_ar.summary()"
   ]
  },
  {
   "cell_type": "code",
   "execution_count": 26,
   "metadata": {},
   "outputs": [
    {
     "name": "stderr",
     "output_type": "stream",
     "text": [
      "/anaconda3/envs/learn-env/lib/python3.6/site-packages/statsmodels/base/model.py:548: HessianInversionWarning: Inverting hessian failed, no bse or cov_params available\n",
      "  'available', HessianInversionWarning)\n",
      "/anaconda3/envs/learn-env/lib/python3.6/site-packages/statsmodels/base/model.py:568: ConvergenceWarning: Maximum Likelihood optimization failed to converge. Check mle_retvals\n",
      "  \"Check mle_retvals\", ConvergenceWarning)\n",
      "/anaconda3/envs/learn-env/lib/python3.6/site-packages/statsmodels/tsa/arima_model.py:1490: RuntimeWarning: invalid value encountered in sqrt\n",
      "  return np.sqrt(np.diag(-inv(hess)))\n",
      "/anaconda3/envs/learn-env/lib/python3.6/site-packages/scipy/stats/_distn_infrastructure.py:903: RuntimeWarning: invalid value encountered in greater\n",
      "  return (a < x) & (x < b)\n",
      "/anaconda3/envs/learn-env/lib/python3.6/site-packages/scipy/stats/_distn_infrastructure.py:903: RuntimeWarning: invalid value encountered in less\n",
      "  return (a < x) & (x < b)\n",
      "/anaconda3/envs/learn-env/lib/python3.6/site-packages/scipy/stats/_distn_infrastructure.py:1912: RuntimeWarning: invalid value encountered in less_equal\n",
      "  cond2 = cond0 & (x <= _a)\n"
     ]
    },
    {
     "data": {
      "text/html": [
       "<table class=\"simpletable\">\n",
       "<caption>ARMA Model Results</caption>\n",
       "<tr>\n",
       "  <th>Dep. Variable:</th>     <td>Confirmed</td>    <th>  No. Observations:  </th>    <td>43</td>   \n",
       "</tr>\n",
       "<tr>\n",
       "  <th>Model:</th>            <td>ARMA(2, 0)</td>    <th>  Log Likelihood     </th> <td>-447.471</td>\n",
       "</tr>\n",
       "<tr>\n",
       "  <th>Method:</th>             <td>css-mle</td>     <th>  S.D. of innovations</th> <td>6367.883</td>\n",
       "</tr>\n",
       "<tr>\n",
       "  <th>Date:</th>          <td>Wed, 25 Mar 2020</td> <th>  AIC                </th>  <td>902.943</td>\n",
       "</tr>\n",
       "<tr>\n",
       "  <th>Time:</th>              <td>16:04:36</td>     <th>  BIC                </th>  <td>909.987</td>\n",
       "</tr>\n",
       "<tr>\n",
       "  <th>Sample:</th>           <td>01-22-2020</td>    <th>  HQIC               </th>  <td>905.540</td>\n",
       "</tr>\n",
       "<tr>\n",
       "  <th></th>                 <td>- 03-20-2020</td>   <th>                     </th>     <td> </td>   \n",
       "</tr>\n",
       "</table>\n",
       "<table class=\"simpletable\">\n",
       "<tr>\n",
       "         <td></td>            <th>coef</th>     <th>std err</th>      <th>z</th>      <th>P>|z|</th>  <th>[0.025</th>    <th>0.975]</th>  \n",
       "</tr>\n",
       "<tr>\n",
       "  <th>const</th>           <td> 7.988e+04</td> <td>      nan</td> <td>      nan</td> <td>   nan</td> <td>      nan</td> <td>      nan</td>\n",
       "</tr>\n",
       "<tr>\n",
       "  <th>ar.L1.Confirmed</th> <td>    1.8775</td> <td> 1.93e-05</td> <td> 9.74e+04</td> <td> 0.000</td> <td>    1.877</td> <td>    1.877</td>\n",
       "</tr>\n",
       "<tr>\n",
       "  <th>ar.L2.Confirmed</th> <td>   -0.8775</td> <td>    9e-06</td> <td>-9.74e+04</td> <td> 0.000</td> <td>   -0.877</td> <td>   -0.877</td>\n",
       "</tr>\n",
       "</table>\n",
       "<table class=\"simpletable\">\n",
       "<caption>Roots</caption>\n",
       "<tr>\n",
       "    <td></td>   <th>            Real</th>  <th>         Imaginary</th> <th>         Modulus</th>  <th>        Frequency</th>\n",
       "</tr>\n",
       "<tr>\n",
       "  <th>AR.1</th> <td>           1.0000</td> <td>          +0.0000j</td> <td>           1.0000</td> <td>           0.0000</td>\n",
       "</tr>\n",
       "<tr>\n",
       "  <th>AR.2</th> <td>           1.1397</td> <td>          +0.0000j</td> <td>           1.1397</td> <td>           0.0000</td>\n",
       "</tr>\n",
       "</table>"
      ],
      "text/plain": [
       "<class 'statsmodels.iolib.summary.Summary'>\n",
       "\"\"\"\n",
       "                              ARMA Model Results                              \n",
       "==============================================================================\n",
       "Dep. Variable:              Confirmed   No. Observations:                   43\n",
       "Model:                     ARMA(2, 0)   Log Likelihood                -447.471\n",
       "Method:                       css-mle   S.D. of innovations           6367.883\n",
       "Date:                Wed, 25 Mar 2020   AIC                            902.943\n",
       "Time:                        16:04:36   BIC                            909.987\n",
       "Sample:                    01-22-2020   HQIC                           905.540\n",
       "                         - 03-20-2020                                         \n",
       "===================================================================================\n",
       "                      coef    std err          z      P>|z|      [0.025      0.975]\n",
       "-----------------------------------------------------------------------------------\n",
       "const            7.988e+04        nan        nan        nan         nan         nan\n",
       "ar.L1.Confirmed     1.8775   1.93e-05   9.74e+04      0.000       1.877       1.877\n",
       "ar.L2.Confirmed    -0.8775      9e-06  -9.74e+04      0.000      -0.877      -0.877\n",
       "                                    Roots                                    \n",
       "=============================================================================\n",
       "                  Real          Imaginary           Modulus         Frequency\n",
       "-----------------------------------------------------------------------------\n",
       "AR.1            1.0000           +0.0000j            1.0000            0.0000\n",
       "AR.2            1.1397           +0.0000j            1.1397            0.0000\n",
       "-----------------------------------------------------------------------------\n",
       "\"\"\""
      ]
     },
     "execution_count": 26,
     "metadata": {},
     "output_type": "execute_result"
    }
   ],
   "source": [
    "model_ar_2 = ARMA(bydate.Confirmed, order=(2,0))\n",
    "results_ar_2 = model_ar_2.fit()\n",
    "results_ar_2.summary()"
   ]
  },
  {
   "cell_type": "code",
   "execution_count": null,
   "metadata": {},
   "outputs": [],
   "source": [
    "model_ar_3 = ARMA(bydate.Confirmed, order=(3,0))\n",
    "results_ar_3 = model_ar_3.fit()\n",
    "results_ar_3.summary()"
   ]
  },
  {
   "cell_type": "code",
   "execution_count": null,
   "metadata": {},
   "outputs": [],
   "source": [
    "model_ar_4 = ARMA(bydate.Confirmed, order=(4,0))\n",
    "results_ar_4 = model_ar_4.fit()\n",
    "results_ar_4.summary()"
   ]
  },
  {
   "cell_type": "markdown",
   "metadata": {},
   "source": [
    "#### Final Model"
   ]
  }
 ],
 "metadata": {
  "kernelspec": {
   "display_name": "Python 3",
   "language": "python",
   "name": "python3"
  },
  "language_info": {
   "codemirror_mode": {
    "name": "ipython",
    "version": 3
   },
   "file_extension": ".py",
   "mimetype": "text/x-python",
   "name": "python",
   "nbconvert_exporter": "python",
   "pygments_lexer": "ipython3",
   "version": "3.6.9"
  },
  "toc": {
   "base_numbering": 1,
   "nav_menu": {},
   "number_sections": true,
   "sideBar": true,
   "skip_h1_title": false,
   "title_cell": "Table of Contents",
   "title_sidebar": "Contents",
   "toc_cell": false,
   "toc_position": {},
   "toc_section_display": true,
   "toc_window_display": true
  }
 },
 "nbformat": 4,
 "nbformat_minor": 2
}
