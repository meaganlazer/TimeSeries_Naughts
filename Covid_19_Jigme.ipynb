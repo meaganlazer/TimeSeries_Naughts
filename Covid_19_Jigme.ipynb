{
 "cells": [
  {
   "cell_type": "markdown",
   "metadata": {},
   "source": [
    "#### Imports "
   ]
  },
  {
   "cell_type": "code",
<<<<<<< HEAD
   "execution_count": 61,
=======
   "execution_count": 1,
>>>>>>> a40f3019ece5336afa0fd70f70bf0cb776ac90b4
   "metadata": {},
   "outputs": [],
   "source": [
    "# import libraries\n",
    "import pandas as pd\n",
    "from scipy import stats\n",
    "from scipy.stats import norm\n",
    "import seaborn as sns\n",
    "import numpy as np\n",
    "import matplotlib.pyplot as plt\n",
    "from pylab import rcParams\n",
    "import statsmodels.tsa.stattools as sts \n",
    "import statsmodels.graphics.tsaplots as sgt\n",
    "from statsmodels.tsa.arima_model import ARMA\n",
    "from statsmodels.tsa.arima_model import ARIMA\n",
    "from statsmodels.tsa.statespace.sarimax import SARIMAX\n",
    "from scipy.stats.distributions import chi2\n",
    "rcParams['figure.figsize'] = 12, 7\n",
    "%matplotlib inline"
   ]
  },
  {
   "cell_type": "markdown",
   "metadata": {},
   "source": [
    "#### Load the dataset"
   ]
  },
  {
   "cell_type": "code",
   "execution_count": 2,
   "metadata": {},
   "outputs": [],
   "source": [
    "df = pd.read_csv('covid_19_data.csv')\n"
   ]
  },
  {
   "cell_type": "markdown",
   "metadata": {},
   "source": [
    "#### Data Cleaning "
   ]
  },
  {
   "cell_type": "code",
   "execution_count": 3,
   "metadata": {},
   "outputs": [
    {
     "name": "stdout",
     "output_type": "stream",
     "text": [
      "<class 'pandas.core.frame.DataFrame'>\n",
      "RangeIndex: 7926 entries, 0 to 7925\n",
      "Data columns (total 8 columns):\n",
      "SNo                7926 non-null int64\n",
      "ObservationDate    7926 non-null object\n",
      "Province/State     4493 non-null object\n",
      "Country/Region     7926 non-null object\n",
      "Last Update        7926 non-null object\n",
      "Confirmed          7926 non-null float64\n",
      "Deaths             7926 non-null float64\n",
      "Recovered          7926 non-null float64\n",
      "dtypes: float64(3), int64(1), object(4)\n",
      "memory usage: 495.5+ KB\n"
     ]
    }
   ],
   "source": [
    "df.info()"
   ]
  },
  {
   "cell_type": "code",
   "execution_count": 4,
   "metadata": {
    "scrolled": true
   },
   "outputs": [
    {
     "data": {
      "text/plain": [
       "SNo                   0\n",
       "ObservationDate       0\n",
       "Province/State     3433\n",
       "Country/Region        0\n",
       "Last Update           0\n",
       "Confirmed             0\n",
       "Deaths                0\n",
       "Recovered             0\n",
       "dtype: int64"
      ]
     },
     "execution_count": 4,
     "metadata": {},
     "output_type": "execute_result"
    }
   ],
   "source": [
    "df.isnull().sum()"
   ]
  },
  {
   "cell_type": "code",
   "execution_count": 5,
   "metadata": {
    "scrolled": true
   },
   "outputs": [
    {
     "data": {
      "text/plain": [
       "array(['Anhui', 'Beijing', 'Chongqing', 'Fujian', 'Gansu', 'Guangdong',\n",
       "       'Guangxi', 'Guizhou', 'Hainan', 'Hebei', 'Heilongjiang', 'Henan',\n",
       "       'Hong Kong', 'Hubei', 'Hunan', 'Inner Mongolia', 'Jiangsu',\n",
       "       'Jiangxi', 'Jilin', 'Liaoning', 'Macau', 'Ningxia', 'Qinghai',\n",
       "       'Shaanxi', 'Shandong', 'Shanghai', 'Shanxi', 'Sichuan', 'Taiwan',\n",
       "       'Tianjin', 'Tibet', 'Washington', 'Xinjiang', 'Yunnan', 'Zhejiang',\n",
       "       nan, 'Chicago', 'Illinois', 'California', 'Arizona', 'Ontario',\n",
       "       'New South Wales', 'Victoria', 'British Columbia', 'Bavaria',\n",
       "       'Queensland', 'Chicago, IL', 'South Australia', 'Boston, MA',\n",
       "       'Los Angeles, CA', 'Orange, CA', 'Santa Clara, CA', 'Seattle, WA',\n",
       "       'Tempe, AZ', 'San Benito, CA', 'Toronto, ON', 'London, ON',\n",
       "       'Madison, WI', 'Cruise Ship', 'Diamond Princess cruise ship',\n",
       "       'San Diego County, CA', 'San Antonio, TX', 'Ashland, NE',\n",
       "       'Travis, CA', 'From Diamond Princess', 'Lackland, TX', 'None',\n",
       "       'Humboldt County, CA', 'Sacramento County, CA',\n",
       "       'Omaha, NE (From Diamond Princess)',\n",
       "       'Travis, CA (From Diamond Princess)',\n",
       "       'Lackland, TX (From Diamond Princess)',\n",
       "       'Unassigned Location (From Diamond Princess)', ' Montreal, QC',\n",
       "       'Western Australia', 'Portland, OR', 'Snohomish County, WA',\n",
       "       'Providence, RI', 'King County, WA', 'Cook County, IL', 'Tasmania',\n",
       "       'Grafton County, NH', 'Hillsborough, FL', 'New York City, NY',\n",
       "       'Placer County, CA', 'San Mateo, CA', 'Sarasota, FL',\n",
       "       'Sonoma County, CA', 'Umatilla, OR', 'Fulton County, GA',\n",
       "       'Washington County, OR', ' Norfolk County, MA', 'Berkeley, CA',\n",
       "       'Maricopa County, AZ', 'Wake County, NC', 'Westchester County, NY',\n",
       "       'Orange County, CA', 'Northern Territory',\n",
       "       'Contra Costa County, CA', 'Bergen County, NJ',\n",
       "       'Harris County, TX', 'San Francisco County, CA',\n",
       "       'Clark County, NV', 'Fort Bend County, TX', 'Grant County, WA',\n",
       "       'Queens County, NY', 'Santa Rosa County, FL',\n",
       "       'Williamson County, TN', 'New York County, NY',\n",
       "       'Unassigned Location, WA', 'Montgomery County, MD',\n",
       "       'Suffolk County, MA', 'Denver County, CO', 'Summit County, CO',\n",
       "       'Calgary, Alberta', 'Chatham County, NC', 'Delaware County, PA',\n",
       "       'Douglas County, NE', 'Fayette County, KY', 'Floyd County, GA',\n",
       "       'Marion County, IN', 'Middlesex County, MA', 'Nassau County, NY',\n",
       "       'Norwell County, MA', 'Ramsey County, MN', 'Washoe County, NV',\n",
       "       'Wayne County, PA', 'Yolo County, CA', 'Santa Clara County, CA',\n",
       "       'Grand Princess Cruise Ship', 'Douglas County, CO',\n",
       "       'Providence County, RI', 'Alameda County, CA',\n",
       "       'Broward County, FL', 'Fairfield County, CT', 'Lee County, FL',\n",
       "       'Pinal County, AZ', 'Rockland County, NY', 'Saratoga County, NY',\n",
       "       'Edmonton, Alberta', 'Charleston County, SC', 'Clark County, WA',\n",
       "       'Cobb County, GA', 'Davis County, UT', 'El Paso County, CO',\n",
       "       'Honolulu County, HI', 'Jackson County, OR ',\n",
       "       'Jefferson County, WA', 'Kershaw County, SC', 'Klamath County, OR',\n",
       "       'Madera County, CA', 'Pierce County, WA', 'Plymouth County, MA',\n",
       "       'Santa Cruz County, CA', 'Tulsa County, OK',\n",
       "       'Montgomery County, TX', 'Norfolk County, MA',\n",
       "       'Montgomery County, PA', 'Fairfax County, VA',\n",
       "       'Rockingham County, NH', 'Washington, D.C.',\n",
       "       'Berkshire County, MA', 'Davidson County, TN',\n",
       "       'Douglas County, OR', 'Fresno County, CA', 'Harford County, MD',\n",
       "       'Hendricks County, IN', 'Hudson County, NJ', 'Johnson County, KS',\n",
       "       'Kittitas County, WA', 'Manatee County, FL', 'Marion County, OR',\n",
       "       'Okaloosa County, FL', 'Polk County, GA', 'Riverside County, CA',\n",
       "       'Shelby County, TN', 'Spokane County, WA', 'St. Louis County, MO',\n",
       "       'Suffolk County, NY', 'Ulster County, NY',\n",
       "       'Unassigned Location, VT', 'Unknown Location, MA',\n",
       "       'Volusia County, FL', 'Alberta', 'Quebec', 'Johnson County, IA',\n",
       "       'Harrison County, KY', 'Bennington County, VT',\n",
       "       'Carver County, MN', 'Charlotte County, FL', 'Cherokee County, GA',\n",
       "       'Collin County, TX', 'Jefferson County, KY',\n",
       "       'Jefferson Parish, LA', 'Shasta County, CA',\n",
       "       'Spartanburg County, SC', 'New York', 'Massachusetts',\n",
       "       'Grand Princess', 'Georgia', 'Colorado', 'Florida', 'New Jersey',\n",
       "       'Oregon', 'Texas', 'Pennsylvania', 'Iowa', 'Maryland',\n",
       "       'North Carolina', 'South Carolina', 'Tennessee', 'Virginia',\n",
       "       'Indiana', 'Kentucky', 'District of Columbia', 'Nevada',\n",
       "       'New Hampshire', 'Minnesota', 'Nebraska', 'Ohio', 'Rhode Island',\n",
       "       'Wisconsin', 'Connecticut', 'Hawaii', 'Oklahoma', 'Utah', 'Kansas',\n",
       "       'Louisiana', 'Missouri', 'Vermont', 'Alaska', 'Arkansas',\n",
       "       'Delaware', 'Idaho', 'Maine', 'Michigan', 'Mississippi', 'Montana',\n",
       "       'New Mexico', 'North Dakota', 'South Dakota', 'West Virginia',\n",
       "       'Wyoming', 'France', 'UK', 'Denmark', 'Faroe Islands', 'St Martin',\n",
       "       'Channel Islands', 'New Brunswick', 'Saint Barthelemy',\n",
       "       'Gibraltar', 'Australian Capital Territory', 'United Kingdom',\n",
       "       'French Polynesia', 'Manitoba', 'Saskatchewan', 'Alabama',\n",
       "       'Fench Guiana', 'Puerto Rico', 'Virgin Islands, U.S.',\n",
       "       'French Guiana', 'Guam', 'Newfoundland and Labrador',\n",
       "       'Prince Edward Island', 'Mayotte', 'Netherlands', 'Nova Scotia',\n",
       "       'Guadeloupe', 'Curacao', 'Virgin Islands', 'Cayman Islands',\n",
       "       'Reunion', 'Aruba', 'United States Virgin Islands', 'US',\n",
       "       'Montserrat', 'Greenland', 'New Caledonia', 'Bermuda',\n",
       "       'Sint Maarten', 'Isle of Man', 'Northwest Territories'],\n",
       "      dtype=object)"
      ]
     },
     "execution_count": 5,
     "metadata": {},
     "output_type": "execute_result"
    }
   ],
   "source": [
    "df['Province/State'].unique()"
   ]
  },
  {
   "cell_type": "code",
   "execution_count": 6,
   "metadata": {},
   "outputs": [],
   "source": [
    "df[\"ObservationDate\"]=pd.to_datetime(df[\"ObservationDate\"])"
   ]
  },
  {
   "cell_type": "code",
   "execution_count": 7,
   "metadata": {
    "scrolled": true
   },
   "outputs": [
    {
     "data": {
      "text/html": [
       "<div>\n",
       "<style scoped>\n",
       "    .dataframe tbody tr th:only-of-type {\n",
       "        vertical-align: middle;\n",
       "    }\n",
       "\n",
       "    .dataframe tbody tr th {\n",
       "        vertical-align: top;\n",
       "    }\n",
       "\n",
       "    .dataframe thead th {\n",
       "        text-align: right;\n",
       "    }\n",
       "</style>\n",
       "<table border=\"1\" class=\"dataframe\">\n",
       "  <thead>\n",
       "    <tr style=\"text-align: right;\">\n",
       "      <th></th>\n",
       "      <th>SNo</th>\n",
       "      <th>ObservationDate</th>\n",
       "      <th>Province/State</th>\n",
       "      <th>Country/Region</th>\n",
       "      <th>Last Update</th>\n",
       "      <th>Confirmed</th>\n",
       "      <th>Deaths</th>\n",
       "      <th>Recovered</th>\n",
       "    </tr>\n",
       "  </thead>\n",
       "  <tbody>\n",
       "    <tr>\n",
       "      <td>0</td>\n",
       "      <td>1</td>\n",
       "      <td>2020-01-22</td>\n",
       "      <td>Anhui</td>\n",
       "      <td>Mainland China</td>\n",
       "      <td>1/22/2020 17:00</td>\n",
       "      <td>1.0</td>\n",
       "      <td>0.0</td>\n",
       "      <td>0.0</td>\n",
       "    </tr>\n",
       "    <tr>\n",
       "      <td>1</td>\n",
       "      <td>2</td>\n",
       "      <td>2020-01-22</td>\n",
       "      <td>Beijing</td>\n",
       "      <td>Mainland China</td>\n",
       "      <td>1/22/2020 17:00</td>\n",
       "      <td>14.0</td>\n",
       "      <td>0.0</td>\n",
       "      <td>0.0</td>\n",
       "    </tr>\n",
       "    <tr>\n",
       "      <td>2</td>\n",
       "      <td>3</td>\n",
       "      <td>2020-01-22</td>\n",
       "      <td>Chongqing</td>\n",
       "      <td>Mainland China</td>\n",
       "      <td>1/22/2020 17:00</td>\n",
       "      <td>6.0</td>\n",
       "      <td>0.0</td>\n",
       "      <td>0.0</td>\n",
       "    </tr>\n",
       "    <tr>\n",
       "      <td>3</td>\n",
       "      <td>4</td>\n",
       "      <td>2020-01-22</td>\n",
       "      <td>Fujian</td>\n",
       "      <td>Mainland China</td>\n",
       "      <td>1/22/2020 17:00</td>\n",
       "      <td>1.0</td>\n",
       "      <td>0.0</td>\n",
       "      <td>0.0</td>\n",
       "    </tr>\n",
       "    <tr>\n",
       "      <td>4</td>\n",
       "      <td>5</td>\n",
       "      <td>2020-01-22</td>\n",
       "      <td>Gansu</td>\n",
       "      <td>Mainland China</td>\n",
       "      <td>1/22/2020 17:00</td>\n",
       "      <td>0.0</td>\n",
       "      <td>0.0</td>\n",
       "      <td>0.0</td>\n",
       "    </tr>\n",
       "    <tr>\n",
       "      <td>...</td>\n",
       "      <td>...</td>\n",
       "      <td>...</td>\n",
       "      <td>...</td>\n",
       "      <td>...</td>\n",
       "      <td>...</td>\n",
       "      <td>...</td>\n",
       "      <td>...</td>\n",
       "      <td>...</td>\n",
       "    </tr>\n",
       "    <tr>\n",
       "      <td>7921</td>\n",
       "      <td>7922</td>\n",
       "      <td>2020-03-22</td>\n",
       "      <td>NaN</td>\n",
       "      <td>Jersey</td>\n",
       "      <td>2020-03-17T18:33:03</td>\n",
       "      <td>0.0</td>\n",
       "      <td>0.0</td>\n",
       "      <td>0.0</td>\n",
       "    </tr>\n",
       "    <tr>\n",
       "      <td>7922</td>\n",
       "      <td>7923</td>\n",
       "      <td>2020-03-22</td>\n",
       "      <td>NaN</td>\n",
       "      <td>Puerto Rico</td>\n",
       "      <td>2020-03-22T22:43:02</td>\n",
       "      <td>0.0</td>\n",
       "      <td>1.0</td>\n",
       "      <td>0.0</td>\n",
       "    </tr>\n",
       "    <tr>\n",
       "      <td>7923</td>\n",
       "      <td>7924</td>\n",
       "      <td>2020-03-22</td>\n",
       "      <td>NaN</td>\n",
       "      <td>Republic of the Congo</td>\n",
       "      <td>2020-03-17T21:33:03</td>\n",
       "      <td>0.0</td>\n",
       "      <td>0.0</td>\n",
       "      <td>0.0</td>\n",
       "    </tr>\n",
       "    <tr>\n",
       "      <td>7924</td>\n",
       "      <td>7925</td>\n",
       "      <td>2020-03-22</td>\n",
       "      <td>NaN</td>\n",
       "      <td>The Bahamas</td>\n",
       "      <td>2020-03-19T12:13:38</td>\n",
       "      <td>0.0</td>\n",
       "      <td>0.0</td>\n",
       "      <td>0.0</td>\n",
       "    </tr>\n",
       "    <tr>\n",
       "      <td>7925</td>\n",
       "      <td>7926</td>\n",
       "      <td>2020-03-22</td>\n",
       "      <td>NaN</td>\n",
       "      <td>The Gambia</td>\n",
       "      <td>2020-03-18T14:13:56</td>\n",
       "      <td>0.0</td>\n",
       "      <td>0.0</td>\n",
       "      <td>0.0</td>\n",
       "    </tr>\n",
       "  </tbody>\n",
       "</table>\n",
       "<p>7926 rows × 8 columns</p>\n",
       "</div>"
      ],
      "text/plain": [
       "       SNo ObservationDate Province/State         Country/Region  \\\n",
       "0        1      2020-01-22          Anhui         Mainland China   \n",
       "1        2      2020-01-22        Beijing         Mainland China   \n",
       "2        3      2020-01-22      Chongqing         Mainland China   \n",
       "3        4      2020-01-22         Fujian         Mainland China   \n",
       "4        5      2020-01-22          Gansu         Mainland China   \n",
       "...    ...             ...            ...                    ...   \n",
       "7921  7922      2020-03-22            NaN                 Jersey   \n",
       "7922  7923      2020-03-22            NaN            Puerto Rico   \n",
       "7923  7924      2020-03-22            NaN  Republic of the Congo   \n",
       "7924  7925      2020-03-22            NaN            The Bahamas   \n",
       "7925  7926      2020-03-22            NaN             The Gambia   \n",
       "\n",
       "              Last Update  Confirmed  Deaths  Recovered  \n",
       "0         1/22/2020 17:00        1.0     0.0        0.0  \n",
       "1         1/22/2020 17:00       14.0     0.0        0.0  \n",
       "2         1/22/2020 17:00        6.0     0.0        0.0  \n",
       "3         1/22/2020 17:00        1.0     0.0        0.0  \n",
       "4         1/22/2020 17:00        0.0     0.0        0.0  \n",
       "...                   ...        ...     ...        ...  \n",
       "7921  2020-03-17T18:33:03        0.0     0.0        0.0  \n",
       "7922  2020-03-22T22:43:02        0.0     1.0        0.0  \n",
       "7923  2020-03-17T21:33:03        0.0     0.0        0.0  \n",
       "7924  2020-03-19T12:13:38        0.0     0.0        0.0  \n",
       "7925  2020-03-18T14:13:56        0.0     0.0        0.0  \n",
       "\n",
       "[7926 rows x 8 columns]"
      ]
     },
     "execution_count": 7,
     "metadata": {},
     "output_type": "execute_result"
    }
   ],
   "source": [
    "df"
   ]
  },
  {
   "cell_type": "code",
   "execution_count": 8,
   "metadata": {},
   "outputs": [
    {
     "data": {
      "text/html": [
       "<div>\n",
       "<style scoped>\n",
       "    .dataframe tbody tr th:only-of-type {\n",
       "        vertical-align: middle;\n",
       "    }\n",
       "\n",
       "    .dataframe tbody tr th {\n",
       "        vertical-align: top;\n",
       "    }\n",
       "\n",
       "    .dataframe thead th {\n",
       "        text-align: right;\n",
       "    }\n",
       "</style>\n",
       "<table border=\"1\" class=\"dataframe\">\n",
       "  <thead>\n",
       "    <tr style=\"text-align: right;\">\n",
       "      <th></th>\n",
       "      <th>Confirmed</th>\n",
       "      <th>Recovered</th>\n",
       "      <th>Deaths</th>\n",
       "    </tr>\n",
       "    <tr>\n",
       "      <th>ObservationDate</th>\n",
       "      <th></th>\n",
       "      <th></th>\n",
       "      <th></th>\n",
       "    </tr>\n",
       "  </thead>\n",
       "  <tbody>\n",
       "    <tr>\n",
       "      <td>2020-01-22</td>\n",
       "      <td>555.0</td>\n",
       "      <td>28.0</td>\n",
       "      <td>17.0</td>\n",
       "    </tr>\n",
       "    <tr>\n",
       "      <td>2020-01-23</td>\n",
       "      <td>653.0</td>\n",
       "      <td>30.0</td>\n",
       "      <td>18.0</td>\n",
       "    </tr>\n",
       "    <tr>\n",
       "      <td>2020-01-24</td>\n",
       "      <td>941.0</td>\n",
       "      <td>36.0</td>\n",
       "      <td>26.0</td>\n",
       "    </tr>\n",
       "    <tr>\n",
       "      <td>2020-01-25</td>\n",
       "      <td>1438.0</td>\n",
       "      <td>39.0</td>\n",
       "      <td>42.0</td>\n",
       "    </tr>\n",
       "    <tr>\n",
       "      <td>2020-01-26</td>\n",
       "      <td>2118.0</td>\n",
       "      <td>52.0</td>\n",
       "      <td>56.0</td>\n",
       "    </tr>\n",
       "  </tbody>\n",
       "</table>\n",
       "</div>"
      ],
      "text/plain": [
       "                 Confirmed  Recovered  Deaths\n",
       "ObservationDate                              \n",
       "2020-01-22           555.0       28.0    17.0\n",
       "2020-01-23           653.0       30.0    18.0\n",
       "2020-01-24           941.0       36.0    26.0\n",
       "2020-01-25          1438.0       39.0    42.0\n",
       "2020-01-26          2118.0       52.0    56.0"
      ]
     },
     "execution_count": 8,
     "metadata": {},
     "output_type": "execute_result"
    }
   ],
   "source": [
    "bydate=df.groupby([\"ObservationDate\"]).agg({\"Confirmed\":'sum',\"Recovered\":'sum',\"Deaths\":'sum'})\n",
    "bydate.head()"
   ]
  },
  {
   "cell_type": "code",
   "execution_count": 9,
   "metadata": {},
   "outputs": [
    {
     "name": "stdout",
     "output_type": "stream",
     "text": [
      "Basic Information\n",
      "Totol number of countries with Disease Spread:  200\n",
      "Total number of Confirmed Cases:  335957.0\n",
      "Total number of Recovered Cases:  97882.0\n",
      "Total number of Deaths Cases:  14634.0\n",
      "Total number of Active Cases around the World:  238075.0\n"
     ]
    }
   ],
   "source": [
    "print(\"Basic Information\")\n",
    "print(\"Totol number of countries with Disease Spread: \",len(df[\"Country/Region\"].unique()))\n",
    "print(\"Total number of Confirmed Cases: \",bydate[\"Confirmed\"].iloc[-1])\n",
    "print(\"Total number of Recovered Cases: \",bydate[\"Recovered\"].iloc[-1])\n",
    "print(\"Total number of Deaths Cases: \",bydate[\"Deaths\"].iloc[-1])\n",
    "print(\"Total number of Active Cases around the World: \",(bydate[\"Confirmed\"].iloc[-1]-bydate[\"Recovered\"].iloc[-1]))"
   ]
  },
  {
   "cell_type": "code",
   "execution_count": null,
   "metadata": {},
   "outputs": [],
   "source": []
  },
  {
   "cell_type": "markdown",
   "metadata": {},
   "source": [
    "#### EDA"
   ]
  },
  {
   "cell_type": "code",
   "execution_count": null,
   "metadata": {},
<<<<<<< HEAD
   "outputs": [],
=======
   "outputs": [
    {
     "data": {
      "text/plain": [
       "<matplotlib.axes._subplots.AxesSubplot at 0x117ce4ba8>"
      ]
     },
     "execution_count": 10,
     "metadata": {},
     "output_type": "execute_result"
    },
    {
     "data": {
      "image/png": "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\n",
      "text/plain": [
       "<Figure size 432x288 with 1 Axes>"
      ]
     },
     "metadata": {
      "needs_background": "light"
     },
     "output_type": "display_data"
    }
   ],
>>>>>>> a40f3019ece5336afa0fd70f70bf0cb776ac90b4
   "source": [
    "df.Confirmed.plot()"
   ]
  },
  {
   "cell_type": "code",
   "execution_count": null,
   "metadata": {},
<<<<<<< HEAD
   "outputs": [],
=======
   "outputs": [
    {
     "data": {
      "text/html": [
       "<div>\n",
       "<style scoped>\n",
       "    .dataframe tbody tr th:only-of-type {\n",
       "        vertical-align: middle;\n",
       "    }\n",
       "\n",
       "    .dataframe tbody tr th {\n",
       "        vertical-align: top;\n",
       "    }\n",
       "\n",
       "    .dataframe thead th {\n",
       "        text-align: right;\n",
       "    }\n",
       "</style>\n",
       "<table border=\"1\" class=\"dataframe\">\n",
       "  <thead>\n",
       "    <tr style=\"text-align: right;\">\n",
       "      <th></th>\n",
       "      <th>Confirmed</th>\n",
       "      <th>Recovered</th>\n",
       "      <th>Deaths</th>\n",
       "    </tr>\n",
       "    <tr>\n",
       "      <th>ObservationDate</th>\n",
       "      <th></th>\n",
       "      <th></th>\n",
       "      <th></th>\n",
       "    </tr>\n",
       "  </thead>\n",
       "  <tbody>\n",
       "    <tr>\n",
       "      <td>2020-01-22</td>\n",
       "      <td>555.0</td>\n",
       "      <td>28.0</td>\n",
       "      <td>17.0</td>\n",
       "    </tr>\n",
       "    <tr>\n",
       "      <td>2020-01-23</td>\n",
       "      <td>653.0</td>\n",
       "      <td>30.0</td>\n",
       "      <td>18.0</td>\n",
       "    </tr>\n",
       "    <tr>\n",
       "      <td>2020-01-24</td>\n",
       "      <td>941.0</td>\n",
       "      <td>36.0</td>\n",
       "      <td>26.0</td>\n",
       "    </tr>\n",
       "    <tr>\n",
       "      <td>2020-01-25</td>\n",
       "      <td>1438.0</td>\n",
       "      <td>39.0</td>\n",
       "      <td>42.0</td>\n",
       "    </tr>\n",
       "    <tr>\n",
       "      <td>2020-01-26</td>\n",
       "      <td>2118.0</td>\n",
       "      <td>52.0</td>\n",
       "      <td>56.0</td>\n",
       "    </tr>\n",
       "    <tr>\n",
       "      <td>...</td>\n",
       "      <td>...</td>\n",
       "      <td>...</td>\n",
       "      <td>...</td>\n",
       "    </tr>\n",
       "    <tr>\n",
       "      <td>2020-03-18</td>\n",
       "      <td>214915.0</td>\n",
       "      <td>83313.0</td>\n",
       "      <td>8733.0</td>\n",
       "    </tr>\n",
       "    <tr>\n",
       "      <td>2020-03-19</td>\n",
       "      <td>242713.0</td>\n",
       "      <td>84962.0</td>\n",
       "      <td>9867.0</td>\n",
       "    </tr>\n",
       "    <tr>\n",
       "      <td>2020-03-20</td>\n",
       "      <td>272167.0</td>\n",
       "      <td>87403.0</td>\n",
       "      <td>11299.0</td>\n",
       "    </tr>\n",
       "    <tr>\n",
       "      <td>2020-03-21</td>\n",
       "      <td>304528.0</td>\n",
       "      <td>91676.0</td>\n",
       "      <td>12973.0</td>\n",
       "    </tr>\n",
       "    <tr>\n",
       "      <td>2020-03-22</td>\n",
       "      <td>335957.0</td>\n",
       "      <td>97882.0</td>\n",
       "      <td>14634.0</td>\n",
       "    </tr>\n",
       "  </tbody>\n",
       "</table>\n",
       "<p>61 rows × 3 columns</p>\n",
       "</div>"
      ],
      "text/plain": [
       "                 Confirmed  Recovered   Deaths\n",
       "ObservationDate                               \n",
       "2020-01-22           555.0       28.0     17.0\n",
       "2020-01-23           653.0       30.0     18.0\n",
       "2020-01-24           941.0       36.0     26.0\n",
       "2020-01-25          1438.0       39.0     42.0\n",
       "2020-01-26          2118.0       52.0     56.0\n",
       "...                    ...        ...      ...\n",
       "2020-03-18        214915.0    83313.0   8733.0\n",
       "2020-03-19        242713.0    84962.0   9867.0\n",
       "2020-03-20        272167.0    87403.0  11299.0\n",
       "2020-03-21        304528.0    91676.0  12973.0\n",
       "2020-03-22        335957.0    97882.0  14634.0\n",
       "\n",
       "[61 rows x 3 columns]"
      ]
     },
     "execution_count": 11,
     "metadata": {},
     "output_type": "execute_result"
    }
   ],
>>>>>>> a40f3019ece5336afa0fd70f70bf0cb776ac90b4
   "source": [
    "bydate"
   ]
  },
  {
   "cell_type": "code",
   "execution_count": 10,
   "metadata": {},
   "outputs": [
    {
     "data": {
      "image/png": "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\n",
      "text/plain": [
       "<Figure size 864x504 with 1 Axes>"
      ]
     },
     "metadata": {
      "needs_background": "light"
     },
     "output_type": "display_data"
    }
   ],
   "source": [
    "x= df[\"ObservationDate\"].values\n",
    "y=[df.Confirmed.values, df.Deaths.values, df.Recovered.values]\n",
    " \n",
    "# Plot\n",
    "pal = sns.color_palette(\"Set1\")\n",
    "plt.figure(figsize=[12.0, 7.0])\n",
    "plt.stackplot(x,y, labels=['Confirmed','Deaths','Recovered'], colors=pal, alpha=0.7)\n",
    "plt.legend(loc='upper left')\n",
    "plt.show()"
   ]
  },
  {
   "cell_type": "code",
<<<<<<< HEAD
   "execution_count": 11,
=======
   "execution_count": 13,
>>>>>>> a40f3019ece5336afa0fd70f70bf0cb776ac90b4
   "metadata": {
    "scrolled": true
   },
   "outputs": [
    {
     "data": {
      "image/png": "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\n",
      "text/plain": [
       "<Figure size 1440x360 with 1 Axes>"
      ]
     },
     "metadata": {
      "needs_background": "light"
     },
     "output_type": "display_data"
    }
   ],
   "source": [
    "bydate.Confirmed.plot(figsize = (20,5))\n",
    "plt.title(\"Confirmed Cases\", size= 24)\n",
    "plt.show()"
   ]
  },
  {
   "cell_type": "code",
<<<<<<< HEAD
   "execution_count": 12,
=======
   "execution_count": 14,
>>>>>>> a40f3019ece5336afa0fd70f70bf0cb776ac90b4
   "metadata": {},
   "outputs": [
    {
     "data": {
      "image/png": "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\n",
      "text/plain": [
       "<Figure size 1440x360 with 1 Axes>"
      ]
     },
     "metadata": {
      "needs_background": "light"
     },
     "output_type": "display_data"
    }
   ],
   "source": [
    "bydate.Deaths.plot(figsize = (20,5))\n",
    "plt.title(\"Deaths\", size= 24)\n",
    "plt.show()"
   ]
  },
  {
   "cell_type": "code",
<<<<<<< HEAD
   "execution_count": 13,
=======
   "execution_count": 15,
>>>>>>> a40f3019ece5336afa0fd70f70bf0cb776ac90b4
   "metadata": {},
   "outputs": [
    {
     "data": {
      "image/png": "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\n",
      "text/plain": [
       "<Figure size 1440x360 with 1 Axes>"
      ]
     },
     "metadata": {
      "needs_background": "light"
     },
     "output_type": "display_data"
    }
   ],
   "source": [
    "bydate.Recovered.plot(figsize = (20,5))\n",
    "plt.title(\"Recovery\", size= 24)\n",
    "plt.show()"
   ]
  },
  {
   "cell_type": "markdown",
   "metadata": {},
   "source": [
    "#### Models"
   ]
  },
  {
   "cell_type": "markdown",
   "metadata": {},
   "source": [
    "##### Train_Test_split"
   ]
  },
  {
   "cell_type": "code",
<<<<<<< HEAD
   "execution_count": 14,
=======
   "execution_count": 16,
>>>>>>> a40f3019ece5336afa0fd70f70bf0cb776ac90b4
   "metadata": {},
   "outputs": [],
   "source": [
    "bydate= bydate.asfreq('D') # resampling daily "
   ]
  },
  {
   "cell_type": "code",
<<<<<<< HEAD
   "execution_count": null,
=======
   "execution_count": 17,
>>>>>>> a40f3019ece5336afa0fd70f70bf0cb776ac90b4
   "metadata": {},
   "outputs": [],
   "source": [
    "bydate.head(55)"
   ]
  },
  {
   "cell_type": "code",
<<<<<<< HEAD
   "execution_count": 20,
=======
   "execution_count": 18,
>>>>>>> a40f3019ece5336afa0fd70f70bf0cb776ac90b4
   "metadata": {},
   "outputs": [],
   "source": [
    "size = int(len(bydate)*0.8)"
   ]
  },
  {
   "cell_type": "code",
   "execution_count": 23,
   "metadata": {},
   "outputs": [],
<<<<<<< HEAD
=======
   "source": []
  },
  {
   "cell_type": "code",
   "execution_count": 19,
   "metadata": {
    "scrolled": true
   },
   "outputs": [
    {
     "data": {
      "text/plain": [
       "(-0.08517900910687627,\n",
       " 0.9508948981630362,\n",
       " 1,\n",
       " 46,\n",
       " {'1%': -3.5812576580093696,\n",
       "  '5%': -2.9267849124681518,\n",
       "  '10%': -2.6015409829867675},\n",
       " 684.8639672388251)"
      ]
     },
     "execution_count": 19,
     "metadata": {},
     "output_type": "execute_result"
    }
   ],
>>>>>>> a40f3019ece5336afa0fd70f70bf0cb776ac90b4
   "source": [
    "df_train, df_test = bydate.iloc[:size], bydate.iloc[size:]"
   ]
  },
  {
   "cell_type": "code",
<<<<<<< HEAD
   "execution_count": 27,
   "metadata": {},
   "outputs": [
    {
     "name": "stderr",
     "output_type": "stream",
     "text": [
      "/anaconda3/envs/learn-env/lib/python3.6/site-packages/ipykernel_launcher.py:1: SettingWithCopyWarning: \n",
      "A value is trying to be set on a copy of a slice from a DataFrame.\n",
      "Try using .loc[row_indexer,col_indexer] = value instead\n",
      "\n",
      "See the caveats in the documentation: https://pandas.pydata.org/pandas-docs/stable/user_guide/indexing.html#returning-a-view-versus-a-copy\n",
      "  \"\"\"Entry point for launching an IPython kernel.\n"
     ]
    }
   ],
   "source": [
    "df_train['nat_Confirmed'] = df_train.Confirmed.apply(lambda x: np.log(x))  \n"
=======
   "execution_count": 20,
   "metadata": {},
   "outputs": [
    {
     "data": {
      "text/plain": [
       "(3.1113277087454,\n",
       " 1.0,\n",
       " 0,\n",
       " 47,\n",
       " {'1%': -3.5778480370438146,\n",
       "  '5%': -2.925338105429433,\n",
       "  '10%': -2.6007735310095064},\n",
       " 406.45091771978224)"
      ]
     },
     "execution_count": 20,
     "metadata": {},
     "output_type": "execute_result"
    }
   ],
   "source": [
    "sts.adfuller(df_train.Deaths)"
   ]
  },
  {
   "cell_type": "code",
   "execution_count": 21,
   "metadata": {
    "scrolled": true
   },
   "outputs": [
    {
     "data": {
      "text/plain": [
       "(-1.2199819215797936,\n",
       " 0.6649414741450057,\n",
       " 3,\n",
       " 44,\n",
       " {'1%': -3.5885733964124715,\n",
       "  '5%': -2.929885661157025,\n",
       "  '10%': -2.6031845661157025},\n",
       " 582.9641018011513)"
      ]
     },
     "execution_count": 21,
     "metadata": {},
     "output_type": "execute_result"
    }
   ],
   "source": [
    "sts.adfuller(df_train.Recovered)"
   ]
  },
  {
   "cell_type": "markdown",
   "metadata": {},
   "source": [
    "##### AR(1)"
   ]
  },
  {
   "cell_type": "code",
   "execution_count": 22,
   "metadata": {},
   "outputs": [],
   "source": [
    "model_ar = ARMA(df_train.Confirmed, order=(1,0))"
   ]
  },
  {
   "cell_type": "code",
   "execution_count": 23,
   "metadata": {},
   "outputs": [],
   "source": [
    "results_ar = model_ar.fit()"
>>>>>>> a40f3019ece5336afa0fd70f70bf0cb776ac90b4
   ]
  },
  {
   "cell_type": "code",
<<<<<<< HEAD
   "execution_count": 28,
=======
   "execution_count": 24,
>>>>>>> a40f3019ece5336afa0fd70f70bf0cb776ac90b4
   "metadata": {
    "collapsed": true
   },
   "outputs": [
    {
     "data": {
      "text/html": [
<<<<<<< HEAD
       "<div>\n",
       "<style scoped>\n",
       "    .dataframe tbody tr th:only-of-type {\n",
       "        vertical-align: middle;\n",
       "    }\n",
       "\n",
       "    .dataframe tbody tr th {\n",
       "        vertical-align: top;\n",
       "    }\n",
       "\n",
       "    .dataframe thead th {\n",
       "        text-align: right;\n",
       "    }\n",
       "</style>\n",
       "<table border=\"1\" class=\"dataframe\">\n",
       "  <thead>\n",
       "    <tr style=\"text-align: right;\">\n",
       "      <th></th>\n",
       "      <th>Confirmed</th>\n",
       "      <th>Recovered</th>\n",
       "      <th>Deaths</th>\n",
       "      <th>nat_Confirmed</th>\n",
       "    </tr>\n",
       "    <tr>\n",
       "      <th>ObservationDate</th>\n",
       "      <th></th>\n",
       "      <th></th>\n",
       "      <th></th>\n",
       "      <th></th>\n",
       "    </tr>\n",
       "  </thead>\n",
       "  <tbody>\n",
       "    <tr>\n",
       "      <th>2020-01-22</th>\n",
       "      <td>555.0</td>\n",
       "      <td>28.0</td>\n",
       "      <td>17.0</td>\n",
       "      <td>6.318968</td>\n",
       "    </tr>\n",
       "    <tr>\n",
       "      <th>2020-01-23</th>\n",
       "      <td>653.0</td>\n",
       "      <td>30.0</td>\n",
       "      <td>18.0</td>\n",
       "      <td>6.481577</td>\n",
       "    </tr>\n",
       "    <tr>\n",
       "      <th>2020-01-24</th>\n",
       "      <td>941.0</td>\n",
       "      <td>36.0</td>\n",
       "      <td>26.0</td>\n",
       "      <td>6.846943</td>\n",
       "    </tr>\n",
       "    <tr>\n",
       "      <th>2020-01-25</th>\n",
       "      <td>1438.0</td>\n",
       "      <td>39.0</td>\n",
       "      <td>42.0</td>\n",
       "      <td>7.271009</td>\n",
       "    </tr>\n",
       "    <tr>\n",
       "      <th>2020-01-26</th>\n",
       "      <td>2118.0</td>\n",
       "      <td>52.0</td>\n",
       "      <td>56.0</td>\n",
       "      <td>7.658228</td>\n",
       "    </tr>\n",
       "    <tr>\n",
       "      <th>2020-01-27</th>\n",
       "      <td>2927.0</td>\n",
       "      <td>61.0</td>\n",
       "      <td>82.0</td>\n",
       "      <td>7.981733</td>\n",
       "    </tr>\n",
       "    <tr>\n",
       "      <th>2020-01-28</th>\n",
       "      <td>5578.0</td>\n",
       "      <td>107.0</td>\n",
       "      <td>131.0</td>\n",
       "      <td>8.626586</td>\n",
       "    </tr>\n",
       "    <tr>\n",
       "      <th>2020-01-29</th>\n",
       "      <td>6165.0</td>\n",
       "      <td>126.0</td>\n",
       "      <td>133.0</td>\n",
       "      <td>8.726643</td>\n",
       "    </tr>\n",
       "    <tr>\n",
       "      <th>2020-01-30</th>\n",
       "      <td>8235.0</td>\n",
       "      <td>143.0</td>\n",
       "      <td>171.0</td>\n",
       "      <td>9.016149</td>\n",
       "    </tr>\n",
       "    <tr>\n",
       "      <th>2020-01-31</th>\n",
       "      <td>9925.0</td>\n",
       "      <td>222.0</td>\n",
       "      <td>213.0</td>\n",
       "      <td>9.202812</td>\n",
       "    </tr>\n",
       "    <tr>\n",
       "      <th>2020-02-01</th>\n",
       "      <td>12038.0</td>\n",
       "      <td>284.0</td>\n",
       "      <td>259.0</td>\n",
       "      <td>9.395824</td>\n",
       "    </tr>\n",
       "    <tr>\n",
       "      <th>2020-02-02</th>\n",
       "      <td>16787.0</td>\n",
       "      <td>472.0</td>\n",
       "      <td>362.0</td>\n",
       "      <td>9.728360</td>\n",
       "    </tr>\n",
       "    <tr>\n",
       "      <th>2020-02-03</th>\n",
       "      <td>19881.0</td>\n",
       "      <td>623.0</td>\n",
       "      <td>426.0</td>\n",
       "      <td>9.897520</td>\n",
       "    </tr>\n",
       "    <tr>\n",
       "      <th>2020-02-04</th>\n",
       "      <td>23892.0</td>\n",
       "      <td>852.0</td>\n",
       "      <td>492.0</td>\n",
       "      <td>10.081299</td>\n",
       "    </tr>\n",
       "    <tr>\n",
       "      <th>2020-02-05</th>\n",
       "      <td>27636.0</td>\n",
       "      <td>1124.0</td>\n",
       "      <td>564.0</td>\n",
       "      <td>10.226875</td>\n",
       "    </tr>\n",
       "    <tr>\n",
       "      <th>2020-02-06</th>\n",
       "      <td>30818.0</td>\n",
       "      <td>1487.0</td>\n",
       "      <td>634.0</td>\n",
       "      <td>10.335854</td>\n",
       "    </tr>\n",
       "    <tr>\n",
       "      <th>2020-02-07</th>\n",
       "      <td>34392.0</td>\n",
       "      <td>2011.0</td>\n",
       "      <td>719.0</td>\n",
       "      <td>10.445579</td>\n",
       "    </tr>\n",
       "    <tr>\n",
       "      <th>2020-02-08</th>\n",
       "      <td>37121.0</td>\n",
       "      <td>2616.0</td>\n",
       "      <td>806.0</td>\n",
       "      <td>10.521938</td>\n",
       "    </tr>\n",
       "    <tr>\n",
       "      <th>2020-02-09</th>\n",
       "      <td>40151.0</td>\n",
       "      <td>3244.0</td>\n",
       "      <td>906.0</td>\n",
       "      <td>10.600403</td>\n",
       "    </tr>\n",
       "    <tr>\n",
       "      <th>2020-02-10</th>\n",
       "      <td>42763.0</td>\n",
       "      <td>3946.0</td>\n",
       "      <td>1013.0</td>\n",
       "      <td>10.663429</td>\n",
       "    </tr>\n",
       "    <tr>\n",
       "      <th>2020-02-11</th>\n",
       "      <td>44803.0</td>\n",
       "      <td>4683.0</td>\n",
       "      <td>1113.0</td>\n",
       "      <td>10.710030</td>\n",
       "    </tr>\n",
       "    <tr>\n",
       "      <th>2020-02-12</th>\n",
       "      <td>45222.0</td>\n",
       "      <td>5150.0</td>\n",
       "      <td>1118.0</td>\n",
       "      <td>10.719339</td>\n",
       "    </tr>\n",
       "    <tr>\n",
       "      <th>2020-02-13</th>\n",
       "      <td>60370.0</td>\n",
       "      <td>6295.0</td>\n",
       "      <td>1371.0</td>\n",
       "      <td>11.008248</td>\n",
       "    </tr>\n",
       "    <tr>\n",
       "      <th>2020-02-14</th>\n",
       "      <td>66887.0</td>\n",
       "      <td>8058.0</td>\n",
       "      <td>1523.0</td>\n",
       "      <td>11.110760</td>\n",
       "    </tr>\n",
       "    <tr>\n",
       "      <th>2020-02-15</th>\n",
       "      <td>69032.0</td>\n",
       "      <td>9395.0</td>\n",
       "      <td>1666.0</td>\n",
       "      <td>11.142325</td>\n",
       "    </tr>\n",
       "    <tr>\n",
       "      <th>2020-02-16</th>\n",
       "      <td>71226.0</td>\n",
       "      <td>10865.0</td>\n",
       "      <td>1770.0</td>\n",
       "      <td>11.173613</td>\n",
       "    </tr>\n",
       "    <tr>\n",
       "      <th>2020-02-17</th>\n",
       "      <td>73260.0</td>\n",
       "      <td>12583.0</td>\n",
       "      <td>1868.0</td>\n",
       "      <td>11.201770</td>\n",
       "    </tr>\n",
       "    <tr>\n",
       "      <th>2020-02-18</th>\n",
       "      <td>75138.0</td>\n",
       "      <td>14352.0</td>\n",
       "      <td>2007.0</td>\n",
       "      <td>11.227082</td>\n",
       "    </tr>\n",
       "    <tr>\n",
       "      <th>2020-02-19</th>\n",
       "      <td>75641.0</td>\n",
       "      <td>16121.0</td>\n",
       "      <td>2122.0</td>\n",
       "      <td>11.233754</td>\n",
       "    </tr>\n",
       "    <tr>\n",
       "      <th>2020-02-20</th>\n",
       "      <td>76199.0</td>\n",
       "      <td>18177.0</td>\n",
       "      <td>2247.0</td>\n",
       "      <td>11.241104</td>\n",
       "    </tr>\n",
       "    <tr>\n",
       "      <th>2020-02-21</th>\n",
       "      <td>76843.0</td>\n",
       "      <td>18890.0</td>\n",
       "      <td>2251.0</td>\n",
       "      <td>11.249520</td>\n",
       "    </tr>\n",
       "    <tr>\n",
       "      <th>2020-02-22</th>\n",
       "      <td>78599.0</td>\n",
       "      <td>22886.0</td>\n",
       "      <td>2458.0</td>\n",
       "      <td>11.272114</td>\n",
       "    </tr>\n",
       "    <tr>\n",
       "      <th>2020-02-23</th>\n",
       "      <td>78985.0</td>\n",
       "      <td>23394.0</td>\n",
       "      <td>2469.0</td>\n",
       "      <td>11.277013</td>\n",
       "    </tr>\n",
       "    <tr>\n",
       "      <th>2020-02-24</th>\n",
       "      <td>79570.0</td>\n",
       "      <td>25227.0</td>\n",
       "      <td>2629.0</td>\n",
       "      <td>11.284392</td>\n",
       "    </tr>\n",
       "    <tr>\n",
       "      <th>2020-02-25</th>\n",
       "      <td>80415.0</td>\n",
       "      <td>27905.0</td>\n",
       "      <td>2708.0</td>\n",
       "      <td>11.294956</td>\n",
       "    </tr>\n",
       "    <tr>\n",
       "      <th>2020-02-26</th>\n",
       "      <td>81397.0</td>\n",
       "      <td>30384.0</td>\n",
       "      <td>2770.0</td>\n",
       "      <td>11.307094</td>\n",
       "    </tr>\n",
       "    <tr>\n",
       "      <th>2020-02-27</th>\n",
       "      <td>82756.0</td>\n",
       "      <td>33277.0</td>\n",
       "      <td>2814.0</td>\n",
       "      <td>11.323652</td>\n",
       "    </tr>\n",
       "    <tr>\n",
       "      <th>2020-02-28</th>\n",
       "      <td>84124.0</td>\n",
       "      <td>36711.0</td>\n",
       "      <td>2872.0</td>\n",
       "      <td>11.340047</td>\n",
       "    </tr>\n",
       "    <tr>\n",
       "      <th>2020-02-29</th>\n",
       "      <td>86013.0</td>\n",
       "      <td>39782.0</td>\n",
       "      <td>2941.0</td>\n",
       "      <td>11.362254</td>\n",
       "    </tr>\n",
       "    <tr>\n",
       "      <th>2020-03-01</th>\n",
       "      <td>88371.0</td>\n",
       "      <td>42716.0</td>\n",
       "      <td>2996.0</td>\n",
       "      <td>11.389299</td>\n",
       "    </tr>\n",
       "    <tr>\n",
       "      <th>2020-03-02</th>\n",
       "      <td>90309.0</td>\n",
       "      <td>45602.0</td>\n",
       "      <td>3085.0</td>\n",
       "      <td>11.410992</td>\n",
       "    </tr>\n",
       "    <tr>\n",
       "      <th>2020-03-03</th>\n",
       "      <td>92844.0</td>\n",
       "      <td>48229.0</td>\n",
       "      <td>3160.0</td>\n",
       "      <td>11.438676</td>\n",
       "    </tr>\n",
       "    <tr>\n",
       "      <th>2020-03-04</th>\n",
       "      <td>95124.0</td>\n",
       "      <td>51171.0</td>\n",
       "      <td>3254.0</td>\n",
       "      <td>11.462937</td>\n",
       "    </tr>\n",
       "    <tr>\n",
       "      <th>2020-03-05</th>\n",
       "      <td>97886.0</td>\n",
       "      <td>53797.0</td>\n",
       "      <td>3348.0</td>\n",
       "      <td>11.491559</td>\n",
       "    </tr>\n",
       "    <tr>\n",
       "      <th>2020-03-06</th>\n",
       "      <td>101800.0</td>\n",
       "      <td>55866.0</td>\n",
       "      <td>3460.0</td>\n",
       "      <td>11.530765</td>\n",
       "    </tr>\n",
       "    <tr>\n",
       "      <th>2020-03-07</th>\n",
       "      <td>105836.0</td>\n",
       "      <td>58359.0</td>\n",
       "      <td>3558.0</td>\n",
       "      <td>11.569646</td>\n",
       "    </tr>\n",
       "    <tr>\n",
       "      <th>2020-03-08</th>\n",
       "      <td>109835.0</td>\n",
       "      <td>60695.0</td>\n",
       "      <td>3803.0</td>\n",
       "      <td>11.606735</td>\n",
       "    </tr>\n",
       "    <tr>\n",
       "      <th>2020-03-09</th>\n",
       "      <td>113582.0</td>\n",
       "      <td>62512.0</td>\n",
       "      <td>3996.0</td>\n",
       "      <td>11.640280</td>\n",
       "    </tr>\n",
       "  </tbody>\n",
       "</table>\n",
       "</div>"
      ],
      "text/plain": [
       "                 Confirmed  Recovered  Deaths  nat_Confirmed\n",
       "ObservationDate                                             \n",
       "2020-01-22           555.0       28.0    17.0       6.318968\n",
       "2020-01-23           653.0       30.0    18.0       6.481577\n",
       "2020-01-24           941.0       36.0    26.0       6.846943\n",
       "2020-01-25          1438.0       39.0    42.0       7.271009\n",
       "2020-01-26          2118.0       52.0    56.0       7.658228\n",
       "2020-01-27          2927.0       61.0    82.0       7.981733\n",
       "2020-01-28          5578.0      107.0   131.0       8.626586\n",
       "2020-01-29          6165.0      126.0   133.0       8.726643\n",
       "2020-01-30          8235.0      143.0   171.0       9.016149\n",
       "2020-01-31          9925.0      222.0   213.0       9.202812\n",
       "2020-02-01         12038.0      284.0   259.0       9.395824\n",
       "2020-02-02         16787.0      472.0   362.0       9.728360\n",
       "2020-02-03         19881.0      623.0   426.0       9.897520\n",
       "2020-02-04         23892.0      852.0   492.0      10.081299\n",
       "2020-02-05         27636.0     1124.0   564.0      10.226875\n",
       "2020-02-06         30818.0     1487.0   634.0      10.335854\n",
       "2020-02-07         34392.0     2011.0   719.0      10.445579\n",
       "2020-02-08         37121.0     2616.0   806.0      10.521938\n",
       "2020-02-09         40151.0     3244.0   906.0      10.600403\n",
       "2020-02-10         42763.0     3946.0  1013.0      10.663429\n",
       "2020-02-11         44803.0     4683.0  1113.0      10.710030\n",
       "2020-02-12         45222.0     5150.0  1118.0      10.719339\n",
       "2020-02-13         60370.0     6295.0  1371.0      11.008248\n",
       "2020-02-14         66887.0     8058.0  1523.0      11.110760\n",
       "2020-02-15         69032.0     9395.0  1666.0      11.142325\n",
       "2020-02-16         71226.0    10865.0  1770.0      11.173613\n",
       "2020-02-17         73260.0    12583.0  1868.0      11.201770\n",
       "2020-02-18         75138.0    14352.0  2007.0      11.227082\n",
       "2020-02-19         75641.0    16121.0  2122.0      11.233754\n",
       "2020-02-20         76199.0    18177.0  2247.0      11.241104\n",
       "2020-02-21         76843.0    18890.0  2251.0      11.249520\n",
       "2020-02-22         78599.0    22886.0  2458.0      11.272114\n",
       "2020-02-23         78985.0    23394.0  2469.0      11.277013\n",
       "2020-02-24         79570.0    25227.0  2629.0      11.284392\n",
       "2020-02-25         80415.0    27905.0  2708.0      11.294956\n",
       "2020-02-26         81397.0    30384.0  2770.0      11.307094\n",
       "2020-02-27         82756.0    33277.0  2814.0      11.323652\n",
       "2020-02-28         84124.0    36711.0  2872.0      11.340047\n",
       "2020-02-29         86013.0    39782.0  2941.0      11.362254\n",
       "2020-03-01         88371.0    42716.0  2996.0      11.389299\n",
       "2020-03-02         90309.0    45602.0  3085.0      11.410992\n",
       "2020-03-03         92844.0    48229.0  3160.0      11.438676\n",
       "2020-03-04         95124.0    51171.0  3254.0      11.462937\n",
       "2020-03-05         97886.0    53797.0  3348.0      11.491559\n",
       "2020-03-06        101800.0    55866.0  3460.0      11.530765\n",
       "2020-03-07        105836.0    58359.0  3558.0      11.569646\n",
       "2020-03-08        109835.0    60695.0  3803.0      11.606735\n",
       "2020-03-09        113582.0    62512.0  3996.0      11.640280"
      ]
     },
     "execution_count": 28,
=======
       "<table class=\"simpletable\">\n",
       "<caption>ARMA Model Results</caption>\n",
       "<tr>\n",
       "  <th>Dep. Variable:</th>     <td>Confirmed</td>    <th>  No. Observations:  </th>    <td>48</td>   \n",
       "</tr>\n",
       "<tr>\n",
       "  <th>Model:</th>            <td>ARMA(1, 0)</td>    <th>  Log Likelihood     </th> <td>-460.443</td>\n",
       "</tr>\n",
       "<tr>\n",
       "  <th>Method:</th>             <td>css-mle</td>     <th>  S.D. of innovations</th> <td>3345.043</td>\n",
       "</tr>\n",
       "<tr>\n",
       "  <th>Date:</th>          <td>Thu, 26 Mar 2020</td> <th>  AIC                </th>  <td>926.887</td>\n",
       "</tr>\n",
       "<tr>\n",
       "  <th>Time:</th>              <td>06:48:20</td>     <th>  BIC                </th>  <td>932.500</td>\n",
       "</tr>\n",
       "<tr>\n",
       "  <th>Sample:</th>           <td>01-22-2020</td>    <th>  HQIC               </th>  <td>929.008</td>\n",
       "</tr>\n",
       "<tr>\n",
       "  <th></th>                 <td>- 03-09-2020</td>   <th>                     </th>     <td> </td>   \n",
       "</tr>\n",
       "</table>\n",
       "<table class=\"simpletable\">\n",
       "<tr>\n",
       "         <td></td>            <th>coef</th>     <th>std err</th>      <th>z</th>      <th>P>|z|</th>  <th>[0.025</th>    <th>0.975]</th>  \n",
       "</tr>\n",
       "<tr>\n",
       "  <th>const</th>           <td> 5.429e+04</td> <td> 5.42e+04</td> <td>    1.003</td> <td> 0.316</td> <td>-5.18e+04</td> <td>  1.6e+05</td>\n",
       "</tr>\n",
       "<tr>\n",
       "  <th>ar.L1.Confirmed</th> <td>    0.9982</td> <td>    0.003</td> <td>  385.261</td> <td> 0.000</td> <td>    0.993</td> <td>    1.003</td>\n",
       "</tr>\n",
       "</table>\n",
       "<table class=\"simpletable\">\n",
       "<caption>Roots</caption>\n",
       "<tr>\n",
       "    <td></td>   <th>            Real</th>  <th>         Imaginary</th> <th>         Modulus</th>  <th>        Frequency</th>\n",
       "</tr>\n",
       "<tr>\n",
       "  <th>AR.1</th> <td>           1.0018</td> <td>          +0.0000j</td> <td>           1.0018</td> <td>           0.0000</td>\n",
       "</tr>\n",
       "</table>"
      ],
      "text/plain": [
       "<class 'statsmodels.iolib.summary.Summary'>\n",
       "\"\"\"\n",
       "                              ARMA Model Results                              \n",
       "==============================================================================\n",
       "Dep. Variable:              Confirmed   No. Observations:                   48\n",
       "Model:                     ARMA(1, 0)   Log Likelihood                -460.443\n",
       "Method:                       css-mle   S.D. of innovations           3345.043\n",
       "Date:                Thu, 26 Mar 2020   AIC                            926.887\n",
       "Time:                        06:48:20   BIC                            932.500\n",
       "Sample:                    01-22-2020   HQIC                           929.008\n",
       "                         - 03-09-2020                                         \n",
       "===================================================================================\n",
       "                      coef    std err          z      P>|z|      [0.025      0.975]\n",
       "-----------------------------------------------------------------------------------\n",
       "const            5.429e+04   5.42e+04      1.003      0.316   -5.18e+04     1.6e+05\n",
       "ar.L1.Confirmed     0.9982      0.003    385.261      0.000       0.993       1.003\n",
       "                                    Roots                                    \n",
       "=============================================================================\n",
       "                  Real          Imaginary           Modulus         Frequency\n",
       "-----------------------------------------------------------------------------\n",
       "AR.1            1.0018           +0.0000j            1.0018            0.0000\n",
       "-----------------------------------------------------------------------------\n",
       "\"\"\""
      ]
     },
     "execution_count": 24,
>>>>>>> a40f3019ece5336afa0fd70f70bf0cb776ac90b4
     "metadata": {},
     "output_type": "execute_result"
    }
   ],
   "source": [
    "df_train"
   ]
  },
  {
   "cell_type": "code",
<<<<<<< HEAD
   "execution_count": null,
   "metadata": {},
   "outputs": [],
   "source": []
  },
  {
   "cell_type": "code",
   "execution_count": 29,
   "metadata": {
    "scrolled": true
   },
   "outputs": [
    {
     "data": {
      "text/plain": [
       "(-9.416550023516224,\n",
       " 5.649067772527874e-16,\n",
       " 0,\n",
       " 47,\n",
       " {'1%': -3.5778480370438146,\n",
       "  '5%': -2.925338105429433,\n",
       "  '10%': -2.6007735310095064},\n",
       " -118.64847437695377)"
      ]
     },
     "execution_count": 29,
     "metadata": {},
     "output_type": "execute_result"
    }
   ],
   "source": [
    "sts.adfuller(df_train.nat_Confirmed) # dickey-fuller test to check for staionarity "
   ]
  },
  {
   "cell_type": "code",
=======
>>>>>>> a40f3019ece5336afa0fd70f70bf0cb776ac90b4
   "execution_count": 25,
   "metadata": {},
   "outputs": [
    {
     "name": "stderr",
     "output_type": "stream",
     "text": [
      "/opt/anaconda3/envs/learn-env/lib/python3.6/site-packages/statsmodels/base/model.py:548: HessianInversionWarning: Inverting hessian failed, no bse or cov_params available\n",
      "  'available', HessianInversionWarning)\n",
      "/opt/anaconda3/envs/learn-env/lib/python3.6/site-packages/statsmodels/tsa/arima_model.py:1490: RuntimeWarning: invalid value encountered in sqrt\n",
      "  return np.sqrt(np.diag(-inv(hess)))\n",
      "/opt/anaconda3/envs/learn-env/lib/python3.6/site-packages/scipy/stats/_distn_infrastructure.py:903: RuntimeWarning: invalid value encountered in greater\n",
      "  return (a < x) & (x < b)\n",
      "/opt/anaconda3/envs/learn-env/lib/python3.6/site-packages/scipy/stats/_distn_infrastructure.py:903: RuntimeWarning: invalid value encountered in less\n",
      "  return (a < x) & (x < b)\n",
      "/opt/anaconda3/envs/learn-env/lib/python3.6/site-packages/scipy/stats/_distn_infrastructure.py:1912: RuntimeWarning: invalid value encountered in less_equal\n",
      "  cond2 = cond0 & (x <= _a)\n"
     ]
    },
    {
     "data": {
      "text/plain": [
       "(3.1113277087454,\n",
       " 1.0,\n",
       " 0,\n",
       " 47,\n",
       " {'1%': -3.5778480370438146,\n",
       "  '5%': -2.925338105429433,\n",
       "  '10%': -2.6007735310095064},\n",
       " 406.45091771978224)"
      ]
     },
     "execution_count": 25,
     "metadata": {},
     "output_type": "execute_result"
    }
   ],
   "source": [
    "sts.adfuller(df_train.Deaths)"
   ]
  },
  {
   "cell_type": "code",
   "execution_count": 26,
   "metadata": {
    "scrolled": true
   },
   "outputs": [
    {
     "data": {
      "text/plain": [
       "(-1.2199819215797936,\n",
       " 0.6649414741450057,\n",
       " 3,\n",
       " 44,\n",
       " {'1%': -3.5885733964124715,\n",
       "  '5%': -2.929885661157025,\n",
       "  '10%': -2.6031845661157025},\n",
       " 582.9641018011513)"
      ]
     },
     "execution_count": 26,
     "metadata": {},
     "output_type": "execute_result"
    }
   ],
   "source": [
    "sts.adfuller(df_train.Recovered)"
   ]
  },
  {
   "cell_type": "markdown",
   "metadata": {},
   "source": [
    "##### AR(1)"
   ]
  },
  {
   "cell_type": "code",
   "execution_count": 30,
   "metadata": {},
   "outputs": [],
   "source": [
    "model_ar = ARMA(df_train.nat_Confirmed, order=(1,0))"
   ]
  },
  {
   "cell_type": "code",
   "execution_count": 31,
   "metadata": {},
   "outputs": [],
   "source": [
    "results_ar = model_ar.fit()"
   ]
  },
  {
   "cell_type": "code",
   "execution_count": 32,
   "metadata": {
    "collapsed": true
   },
   "outputs": [
    {
     "data": {
      "text/html": [
       "<table class=\"simpletable\">\n",
       "<caption>ARMA Model Results</caption>\n",
       "<tr>\n",
<<<<<<< HEAD
       "  <th>Dep. Variable:</th>   <td>nat_Confirmed</td>  <th>  No. Observations:  </th>   <td>48</td>   \n",
       "</tr>\n",
       "<tr>\n",
       "  <th>Model:</th>            <td>ARMA(1, 0)</td>    <th>  Log Likelihood     </th> <td>11.579</td> \n",
       "</tr>\n",
       "<tr>\n",
       "  <th>Method:</th>             <td>css-mle</td>     <th>  S.D. of innovations</th>  <td>0.180</td> \n",
       "</tr>\n",
       "<tr>\n",
       "  <th>Date:</th>          <td>Thu, 26 Mar 2020</td> <th>  AIC                </th> <td>-17.158</td>\n",
       "</tr>\n",
       "<tr>\n",
       "  <th>Time:</th>              <td>14:58:22</td>     <th>  BIC                </th> <td>-11.545</td>\n",
       "</tr>\n",
       "<tr>\n",
       "  <th>Sample:</th>           <td>01-22-2020</td>    <th>  HQIC               </th> <td>-15.037</td>\n",
=======
       "  <th>Dep. Variable:</th>     <td>Confirmed</td>    <th>  No. Observations:  </th>    <td>48</td>   \n",
       "</tr>\n",
       "<tr>\n",
       "  <th>Model:</th>            <td>ARMA(2, 0)</td>    <th>  Log Likelihood     </th> <td>-447.715</td>\n",
       "</tr>\n",
       "<tr>\n",
       "  <th>Method:</th>             <td>css-mle</td>     <th>  S.D. of innovations</th> <td>2486.917</td>\n",
       "</tr>\n",
       "<tr>\n",
       "  <th>Date:</th>          <td>Thu, 26 Mar 2020</td> <th>  AIC                </th>  <td>903.430</td>\n",
       "</tr>\n",
       "<tr>\n",
       "  <th>Time:</th>              <td>06:48:20</td>     <th>  BIC                </th>  <td>910.915</td>\n",
       "</tr>\n",
       "<tr>\n",
       "  <th>Sample:</th>           <td>01-22-2020</td>    <th>  HQIC               </th>  <td>906.259</td>\n",
>>>>>>> a40f3019ece5336afa0fd70f70bf0cb776ac90b4
       "</tr>\n",
       "<tr>\n",
       "  <th></th>                 <td>- 03-09-2020</td>   <th>                     </th>    <td> </td>   \n",
       "</tr>\n",
       "</table>\n",
       "<table class=\"simpletable\">\n",
       "<tr>\n",
       "           <td></td>              <th>coef</th>     <th>std err</th>      <th>z</th>      <th>P>|z|</th>  <th>[0.025</th>    <th>0.975]</th>  \n",
       "</tr>\n",
       "<tr>\n",
<<<<<<< HEAD
       "  <th>const</th>               <td>    9.0536</td> <td>    2.528</td> <td>    3.582</td> <td> 0.000</td> <td>    4.099</td> <td>   14.008</td>\n",
       "</tr>\n",
       "<tr>\n",
       "  <th>ar.L1.nat_Confirmed</th> <td>    0.9976</td> <td>    0.003</td> <td>  299.153</td> <td> 0.000</td> <td>    0.991</td> <td>    1.004</td>\n",
       "</tr>\n",
       "</table>\n",
       "<table class=\"simpletable\">\n",
       "<caption>Roots</caption>\n",
       "<tr>\n",
       "    <td></td>   <th>            Real</th>  <th>         Imaginary</th> <th>         Modulus</th>  <th>        Frequency</th>\n",
       "</tr>\n",
       "<tr>\n",
       "  <th>AR.1</th> <td>           1.0024</td> <td>          +0.0000j</td> <td>           1.0024</td> <td>           0.0000</td>\n",
       "</tr>\n",
       "</table>"
      ],
      "text/plain": [
       "<class 'statsmodels.iolib.summary.Summary'>\n",
       "\"\"\"\n",
       "                              ARMA Model Results                              \n",
       "==============================================================================\n",
       "Dep. Variable:          nat_Confirmed   No. Observations:                   48\n",
       "Model:                     ARMA(1, 0)   Log Likelihood                  11.579\n",
       "Method:                       css-mle   S.D. of innovations              0.180\n",
       "Date:                Thu, 26 Mar 2020   AIC                            -17.158\n",
       "Time:                        14:58:22   BIC                            -11.545\n",
       "Sample:                    01-22-2020   HQIC                           -15.037\n",
       "                         - 03-09-2020                                         \n",
       "=======================================================================================\n",
       "                          coef    std err          z      P>|z|      [0.025      0.975]\n",
       "---------------------------------------------------------------------------------------\n",
       "const                   9.0536      2.528      3.582      0.000       4.099      14.008\n",
       "ar.L1.nat_Confirmed     0.9976      0.003    299.153      0.000       0.991       1.004\n",
       "                                    Roots                                    \n",
       "=============================================================================\n",
       "                  Real          Imaginary           Modulus         Frequency\n",
       "-----------------------------------------------------------------------------\n",
       "AR.1            1.0024           +0.0000j            1.0024            0.0000\n",
       "-----------------------------------------------------------------------------\n",
       "\"\"\""
      ]
     },
     "execution_count": 32,
     "metadata": {},
     "output_type": "execute_result"
    }
   ],
   "source": [
    "results_ar.summary()"
   ]
  },
  {
   "cell_type": "code",
   "execution_count": 33,
   "metadata": {
    "collapsed": true
   },
   "outputs": [
    {
     "data": {
      "text/html": [
       "<table class=\"simpletable\">\n",
       "<caption>ARMA Model Results</caption>\n",
       "<tr>\n",
       "  <th>Dep. Variable:</th>   <td>nat_Confirmed</td>  <th>  No. Observations:  </th>   <td>48</td>   \n",
       "</tr>\n",
       "<tr>\n",
       "  <th>Model:</th>            <td>ARMA(2, 0)</td>    <th>  Log Likelihood     </th> <td>33.160</td> \n",
       "</tr>\n",
       "<tr>\n",
       "  <th>Method:</th>             <td>css-mle</td>     <th>  S.D. of innovations</th>  <td>0.113</td> \n",
       "</tr>\n",
       "<tr>\n",
       "  <th>Date:</th>          <td>Thu, 26 Mar 2020</td> <th>  AIC                </th> <td>-58.320</td>\n",
       "</tr>\n",
       "<tr>\n",
       "  <th>Time:</th>              <td>14:58:41</td>     <th>  BIC                </th> <td>-50.835</td>\n",
       "</tr>\n",
       "<tr>\n",
       "  <th>Sample:</th>           <td>01-22-2020</td>    <th>  HQIC               </th> <td>-55.492</td>\n",
       "</tr>\n",
       "<tr>\n",
       "  <th></th>                 <td>- 03-09-2020</td>   <th>                     </th>    <td> </td>   \n",
       "</tr>\n",
       "</table>\n",
       "<table class=\"simpletable\">\n",
       "<tr>\n",
       "           <td></td>              <th>coef</th>     <th>std err</th>      <th>z</th>      <th>P>|z|</th>  <th>[0.025</th>    <th>0.975]</th>  \n",
       "</tr>\n",
       "<tr>\n",
       "  <th>const</th>               <td>    9.2828</td> <td>    2.077</td> <td>    4.470</td> <td> 0.000</td> <td>    5.212</td> <td>   13.353</td>\n",
       "</tr>\n",
       "<tr>\n",
       "  <th>ar.L1.nat_Confirmed</th> <td>    1.7688</td> <td>    0.088</td> <td>   20.207</td> <td> 0.000</td> <td>    1.597</td> <td>    1.940</td>\n",
       "</tr>\n",
       "<tr>\n",
       "  <th>ar.L2.nat_Confirmed</th> <td>   -0.7734</td> <td>    0.089</td> <td>   -8.696</td> <td> 0.000</td> <td>   -0.948</td> <td>   -0.599</td>\n",
=======
       "  <th>const</th>           <td> 1.846e+05</td> <td>      nan</td> <td>      nan</td> <td>   nan</td> <td>      nan</td> <td>      nan</td>\n",
       "</tr>\n",
       "<tr>\n",
       "  <th>ar.L1.Confirmed</th> <td>    1.6641</td> <td>    0.025</td> <td>   66.434</td> <td> 0.000</td> <td>    1.615</td> <td>    1.713</td>\n",
       "</tr>\n",
       "<tr>\n",
       "  <th>ar.L2.Confirmed</th> <td>   -0.6646</td> <td>    0.025</td> <td>  -26.494</td> <td> 0.000</td> <td>   -0.714</td> <td>   -0.615</td>\n",
>>>>>>> a40f3019ece5336afa0fd70f70bf0cb776ac90b4
       "</tr>\n",
       "</table>\n",
       "<table class=\"simpletable\">\n",
       "<caption>Roots</caption>\n",
       "<tr>\n",
       "    <td></td>   <th>            Real</th>  <th>         Imaginary</th> <th>         Modulus</th>  <th>        Frequency</th>\n",
       "</tr>\n",
       "<tr>\n",
<<<<<<< HEAD
       "  <th>AR.1</th> <td>           1.0227</td> <td>          +0.0000j</td> <td>           1.0227</td> <td>           0.0000</td>\n",
       "</tr>\n",
       "<tr>\n",
       "  <th>AR.2</th> <td>           1.2642</td> <td>          +0.0000j</td> <td>           1.2642</td> <td>           0.0000</td>\n",
=======
       "  <th>AR.1</th> <td>           1.0015</td> <td>          +0.0000j</td> <td>           1.0015</td> <td>           0.0000</td>\n",
       "</tr>\n",
       "<tr>\n",
       "  <th>AR.2</th> <td>           1.5026</td> <td>          +0.0000j</td> <td>           1.5026</td> <td>           0.0000</td>\n",
>>>>>>> a40f3019ece5336afa0fd70f70bf0cb776ac90b4
       "</tr>\n",
       "</table>"
      ],
      "text/plain": [
       "<class 'statsmodels.iolib.summary.Summary'>\n",
       "\"\"\"\n",
       "                              ARMA Model Results                              \n",
       "==============================================================================\n",
<<<<<<< HEAD
       "Dep. Variable:          nat_Confirmed   No. Observations:                   48\n",
       "Model:                     ARMA(2, 0)   Log Likelihood                  33.160\n",
       "Method:                       css-mle   S.D. of innovations              0.113\n",
       "Date:                Thu, 26 Mar 2020   AIC                            -58.320\n",
       "Time:                        14:58:41   BIC                            -50.835\n",
       "Sample:                    01-22-2020   HQIC                           -55.492\n",
       "                         - 03-09-2020                                         \n",
       "=======================================================================================\n",
       "                          coef    std err          z      P>|z|      [0.025      0.975]\n",
       "---------------------------------------------------------------------------------------\n",
       "const                   9.2828      2.077      4.470      0.000       5.212      13.353\n",
       "ar.L1.nat_Confirmed     1.7688      0.088     20.207      0.000       1.597       1.940\n",
       "ar.L2.nat_Confirmed    -0.7734      0.089     -8.696      0.000      -0.948      -0.599\n",
=======
       "Dep. Variable:              Confirmed   No. Observations:                   48\n",
       "Model:                     ARMA(2, 0)   Log Likelihood                -447.715\n",
       "Method:                       css-mle   S.D. of innovations           2486.917\n",
       "Date:                Thu, 26 Mar 2020   AIC                            903.430\n",
       "Time:                        06:48:20   BIC                            910.915\n",
       "Sample:                    01-22-2020   HQIC                           906.259\n",
       "                         - 03-09-2020                                         \n",
       "===================================================================================\n",
       "                      coef    std err          z      P>|z|      [0.025      0.975]\n",
       "-----------------------------------------------------------------------------------\n",
       "const            1.846e+05        nan        nan        nan         nan         nan\n",
       "ar.L1.Confirmed     1.6641      0.025     66.434      0.000       1.615       1.713\n",
       "ar.L2.Confirmed    -0.6646      0.025    -26.494      0.000      -0.714      -0.615\n",
>>>>>>> a40f3019ece5336afa0fd70f70bf0cb776ac90b4
       "                                    Roots                                    \n",
       "=============================================================================\n",
       "                  Real          Imaginary           Modulus         Frequency\n",
       "-----------------------------------------------------------------------------\n",
<<<<<<< HEAD
       "AR.1            1.0227           +0.0000j            1.0227            0.0000\n",
       "AR.2            1.2642           +0.0000j            1.2642            0.0000\n",
=======
       "AR.1            1.0015           +0.0000j            1.0015            0.0000\n",
       "AR.2            1.5026           +0.0000j            1.5026            0.0000\n",
>>>>>>> a40f3019ece5336afa0fd70f70bf0cb776ac90b4
       "-----------------------------------------------------------------------------\n",
       "\"\"\""
      ]
     },
<<<<<<< HEAD
     "execution_count": 33,
=======
     "execution_count": 25,
>>>>>>> a40f3019ece5336afa0fd70f70bf0cb776ac90b4
     "metadata": {},
     "output_type": "execute_result"
    }
   ],
   "source": [
    "model_ar_2 = ARMA(df_train.nat_Confirmed, order=(2,0))\n",
    "results_ar_2 = model_ar_2.fit()\n",
    "results_ar_2.summary()"
   ]
  },
  {
   "cell_type": "code",
<<<<<<< HEAD
   "execution_count": 34,
   "metadata": {
    "collapsed": true
   },
=======
   "execution_count": 26,
   "metadata": {},
>>>>>>> a40f3019ece5336afa0fd70f70bf0cb776ac90b4
   "outputs": [
    {
     "name": "stderr",
     "output_type": "stream",
     "text": [
<<<<<<< HEAD
      "/anaconda3/envs/learn-env/lib/python3.6/site-packages/statsmodels/base/model.py:568: ConvergenceWarning: Maximum Likelihood optimization failed to converge. Check mle_retvals\n",
      "  \"Check mle_retvals\", ConvergenceWarning)\n"
=======
      "/opt/anaconda3/envs/learn-env/lib/python3.6/site-packages/statsmodels/base/model.py:548: HessianInversionWarning: Inverting hessian failed, no bse or cov_params available\n",
      "  'available', HessianInversionWarning)\n"
>>>>>>> a40f3019ece5336afa0fd70f70bf0cb776ac90b4
     ]
    },
    {
     "data": {
      "text/html": [
       "<table class=\"simpletable\">\n",
       "<caption>ARMA Model Results</caption>\n",
       "<tr>\n",
<<<<<<< HEAD
       "  <th>Dep. Variable:</th>   <td>nat_Confirmed</td>  <th>  No. Observations:  </th>   <td>48</td>   \n",
       "</tr>\n",
       "<tr>\n",
       "  <th>Model:</th>            <td>ARMA(3, 0)</td>    <th>  Log Likelihood     </th> <td>40.585</td> \n",
       "</tr>\n",
       "<tr>\n",
       "  <th>Method:</th>             <td>css-mle</td>     <th>  S.D. of innovations</th>  <td>0.095</td> \n",
       "</tr>\n",
       "<tr>\n",
       "  <th>Date:</th>          <td>Thu, 26 Mar 2020</td> <th>  AIC                </th> <td>-71.170</td>\n",
       "</tr>\n",
       "<tr>\n",
       "  <th>Time:</th>              <td>14:59:19</td>     <th>  BIC                </th> <td>-61.814</td>\n",
       "</tr>\n",
       "<tr>\n",
       "  <th>Sample:</th>           <td>01-22-2020</td>    <th>  HQIC               </th> <td>-67.635</td>\n",
       "</tr>\n",
       "<tr>\n",
       "  <th></th>                 <td>- 03-09-2020</td>   <th>                     </th>    <td> </td>   \n",
       "</tr>\n",
       "</table>\n",
       "<table class=\"simpletable\">\n",
       "<tr>\n",
       "           <td></td>              <th>coef</th>     <th>std err</th>      <th>z</th>      <th>P>|z|</th>  <th>[0.025</th>    <th>0.975]</th>  \n",
       "</tr>\n",
       "<tr>\n",
       "  <th>const</th>               <td>    9.2492</td> <td>    1.818</td> <td>    5.088</td> <td> 0.000</td> <td>    5.686</td> <td>   12.812</td>\n",
       "</tr>\n",
       "<tr>\n",
       "  <th>ar.L1.nat_Confirmed</th> <td>    1.3567</td> <td>    0.121</td> <td>   11.241</td> <td> 0.000</td> <td>    1.120</td> <td>    1.593</td>\n",
       "</tr>\n",
       "<tr>\n",
       "  <th>ar.L2.nat_Confirmed</th> <td>    0.1727</td> <td>    0.236</td> <td>    0.732</td> <td> 0.464</td> <td>   -0.290</td> <td>    0.635</td>\n",
       "</tr>\n",
       "<tr>\n",
       "  <th>ar.L3.nat_Confirmed</th> <td>   -0.5360</td> <td>    0.125</td> <td>   -4.287</td> <td> 0.000</td> <td>   -0.781</td> <td>   -0.291</td>\n",
       "</tr>\n",
       "</table>\n",
       "<table class=\"simpletable\">\n",
       "<caption>Roots</caption>\n",
       "<tr>\n",
       "    <td></td>   <th>            Real</th>  <th>         Imaginary</th> <th>         Modulus</th>  <th>        Frequency</th>\n",
       "</tr>\n",
       "<tr>\n",
       "  <th>AR.1</th> <td>           1.0328</td> <td>          -0.0583j</td> <td>           1.0345</td> <td>          -0.0090</td>\n",
       "</tr>\n",
       "<tr>\n",
       "  <th>AR.2</th> <td>           1.0328</td> <td>          +0.0583j</td> <td>           1.0345</td> <td>           0.0090</td>\n",
       "</tr>\n",
       "<tr>\n",
       "  <th>AR.3</th> <td>          -1.7435</td> <td>          -0.0000j</td> <td>           1.7435</td> <td>          -0.5000</td>\n",
       "</tr>\n",
       "</table>"
      ],
      "text/plain": [
       "<class 'statsmodels.iolib.summary.Summary'>\n",
       "\"\"\"\n",
       "                              ARMA Model Results                              \n",
       "==============================================================================\n",
       "Dep. Variable:          nat_Confirmed   No. Observations:                   48\n",
       "Model:                     ARMA(3, 0)   Log Likelihood                  40.585\n",
       "Method:                       css-mle   S.D. of innovations              0.095\n",
       "Date:                Thu, 26 Mar 2020   AIC                            -71.170\n",
       "Time:                        14:59:19   BIC                            -61.814\n",
       "Sample:                    01-22-2020   HQIC                           -67.635\n",
       "                         - 03-09-2020                                         \n",
       "=======================================================================================\n",
       "                          coef    std err          z      P>|z|      [0.025      0.975]\n",
       "---------------------------------------------------------------------------------------\n",
       "const                   9.2492      1.818      5.088      0.000       5.686      12.812\n",
       "ar.L1.nat_Confirmed     1.3567      0.121     11.241      0.000       1.120       1.593\n",
       "ar.L2.nat_Confirmed     0.1727      0.236      0.732      0.464      -0.290       0.635\n",
       "ar.L3.nat_Confirmed    -0.5360      0.125     -4.287      0.000      -0.781      -0.291\n",
       "                                    Roots                                    \n",
       "=============================================================================\n",
       "                  Real          Imaginary           Modulus         Frequency\n",
       "-----------------------------------------------------------------------------\n",
       "AR.1            1.0328           -0.0583j            1.0345           -0.0090\n",
       "AR.2            1.0328           +0.0583j            1.0345            0.0090\n",
       "AR.3           -1.7435           -0.0000j            1.7435           -0.5000\n",
       "-----------------------------------------------------------------------------\n",
       "\"\"\""
      ]
     },
     "execution_count": 34,
     "metadata": {},
     "output_type": "execute_result"
    }
   ],
   "source": [
    "model_ar_3 = ARMA(df_train.nat_Confirmed, order=(3,0))\n",
    "results_ar_3 = model_ar_3.fit()\n",
    "results_ar_3.summary()"
   ]
  },
  {
   "cell_type": "code",
   "execution_count": null,
   "metadata": {},
   "outputs": [],
   "source": [
    "model_ar_4 = ARMA(df_train.Confirmed, order=(4,0))\n",
    "results_ar_4 = model_ar_4.fit()\n",
    "results_ar_4.summary()"
   ]
  },
  {
   "cell_type": "markdown",
   "metadata": {},
   "source": [
    "##### MA(1)"
   ]
  },
  {
   "cell_type": "code",
   "execution_count": 48,
   "metadata": {},
   "outputs": [],
   "source": [
    "model_ma = ARMA(df_train.nat_Confirmed, order=(0,1))"
   ]
  },
  {
   "cell_type": "code",
   "execution_count": 49,
   "metadata": {},
   "outputs": [],
   "source": [
    "results_ma = model_ma.fit()"
   ]
  },
  {
   "cell_type": "code",
   "execution_count": 50,
   "metadata": {},
   "outputs": [
    {
     "data": {
      "text/html": [
       "<table class=\"simpletable\">\n",
       "<caption>ARMA Model Results</caption>\n",
       "<tr>\n",
       "  <th>Dep. Variable:</th>   <td>nat_Confirmed</td>  <th>  No. Observations:  </th>   <td>48</td>   \n",
       "</tr>\n",
       "<tr>\n",
       "  <th>Model:</th>            <td>ARMA(0, 1)</td>    <th>  Log Likelihood     </th> <td>-57.024</td>\n",
       "</tr>\n",
       "<tr>\n",
       "  <th>Method:</th>             <td>css-mle</td>     <th>  S.D. of innovations</th>  <td>0.762</td> \n",
       "</tr>\n",
       "<tr>\n",
       "  <th>Date:</th>          <td>Thu, 26 Mar 2020</td> <th>  AIC                </th> <td>120.049</td>\n",
       "</tr>\n",
       "<tr>\n",
       "  <th>Time:</th>              <td>15:13:43</td>     <th>  BIC                </th> <td>125.662</td>\n",
       "</tr>\n",
       "<tr>\n",
       "  <th>Sample:</th>           <td>01-22-2020</td>    <th>  HQIC               </th> <td>122.170</td>\n",
       "</tr>\n",
       "<tr>\n",
       "  <th></th>                 <td>- 03-09-2020</td>   <th>                     </th>    <td> </td>   \n",
       "</tr>\n",
       "</table>\n",
       "<table class=\"simpletable\">\n",
       "<tr>\n",
       "           <td></td>              <th>coef</th>     <th>std err</th>      <th>z</th>      <th>P>|z|</th>  <th>[0.025</th>    <th>0.975]</th>  \n",
       "</tr>\n",
       "<tr>\n",
       "  <th>const</th>               <td>   10.3111</td> <td>    0.218</td> <td>   47.335</td> <td> 0.000</td> <td>    9.884</td> <td>   10.738</td>\n",
       "</tr>\n",
       "<tr>\n",
       "  <th>ma.L1.nat_Confirmed</th> <td>    1.0000</td> <td>    0.054</td> <td>   18.510</td> <td> 0.000</td> <td>    0.894</td> <td>    1.106</td>\n",
       "</tr>\n",
       "</table>\n",
       "<table class=\"simpletable\">\n",
       "<caption>Roots</caption>\n",
       "<tr>\n",
       "    <td></td>   <th>            Real</th>  <th>         Imaginary</th> <th>         Modulus</th>  <th>        Frequency</th>\n",
       "</tr>\n",
       "<tr>\n",
       "  <th>MA.1</th> <td>          -1.0000</td> <td>          +0.0000j</td> <td>           1.0000</td> <td>           0.5000</td>\n",
       "</tr>\n",
       "</table>"
      ],
      "text/plain": [
       "<class 'statsmodels.iolib.summary.Summary'>\n",
       "\"\"\"\n",
       "                              ARMA Model Results                              \n",
       "==============================================================================\n",
       "Dep. Variable:          nat_Confirmed   No. Observations:                   48\n",
       "Model:                     ARMA(0, 1)   Log Likelihood                 -57.024\n",
       "Method:                       css-mle   S.D. of innovations              0.762\n",
       "Date:                Thu, 26 Mar 2020   AIC                            120.049\n",
       "Time:                        15:13:43   BIC                            125.662\n",
       "Sample:                    01-22-2020   HQIC                           122.170\n",
       "                         - 03-09-2020                                         \n",
       "=======================================================================================\n",
       "                          coef    std err          z      P>|z|      [0.025      0.975]\n",
       "---------------------------------------------------------------------------------------\n",
       "const                  10.3111      0.218     47.335      0.000       9.884      10.738\n",
       "ma.L1.nat_Confirmed     1.0000      0.054     18.510      0.000       0.894       1.106\n",
       "                                    Roots                                    \n",
       "=============================================================================\n",
       "                  Real          Imaginary           Modulus         Frequency\n",
       "-----------------------------------------------------------------------------\n",
       "MA.1           -1.0000           +0.0000j            1.0000            0.5000\n",
       "-----------------------------------------------------------------------------\n",
       "\"\"\""
      ]
     },
     "execution_count": 50,
     "metadata": {},
     "output_type": "execute_result"
    }
   ],
   "source": [
    "results_ma.summary()"
   ]
  },
  {
   "cell_type": "code",
   "execution_count": 51,
   "metadata": {
    "collapsed": true
   },
   "outputs": [
    {
     "data": {
      "text/html": [
       "<table class=\"simpletable\">\n",
       "<caption>ARMA Model Results</caption>\n",
       "<tr>\n",
       "  <th>Dep. Variable:</th>   <td>nat_Confirmed</td>  <th>  No. Observations:  </th>   <td>48</td>   \n",
       "</tr>\n",
       "<tr>\n",
       "  <th>Model:</th>            <td>ARMA(0, 2)</td>    <th>  Log Likelihood     </th> <td>-35.254</td>\n",
       "</tr>\n",
       "<tr>\n",
       "  <th>Method:</th>             <td>css-mle</td>     <th>  S.D. of innovations</th>  <td>0.466</td> \n",
       "</tr>\n",
       "<tr>\n",
       "  <th>Date:</th>          <td>Thu, 26 Mar 2020</td> <th>  AIC                </th> <td>78.508</td> \n",
       "</tr>\n",
       "<tr>\n",
       "  <th>Time:</th>              <td>15:14:49</td>     <th>  BIC                </th> <td>85.993</td> \n",
       "</tr>\n",
       "<tr>\n",
       "  <th>Sample:</th>           <td>01-22-2020</td>    <th>  HQIC               </th> <td>81.337</td> \n",
=======
       "  <th>Dep. Variable:</th>     <td>Confirmed</td>    <th>  No. Observations:  </th>    <td>48</td>   \n",
       "</tr>\n",
       "<tr>\n",
       "  <th>Model:</th>            <td>ARMA(3, 0)</td>    <th>  Log Likelihood     </th> <td>-446.507</td>\n",
       "</tr>\n",
       "<tr>\n",
       "  <th>Method:</th>             <td>css-mle</td>     <th>  S.D. of innovations</th> <td>2414.328</td>\n",
       "</tr>\n",
       "<tr>\n",
       "  <th>Date:</th>          <td>Thu, 26 Mar 2020</td> <th>  AIC                </th>  <td>903.014</td>\n",
       "</tr>\n",
       "<tr>\n",
       "  <th>Time:</th>              <td>06:48:20</td>     <th>  BIC                </th>  <td>912.370</td>\n",
       "</tr>\n",
       "<tr>\n",
       "  <th>Sample:</th>           <td>01-22-2020</td>    <th>  HQIC               </th>  <td>906.549</td>\n",
>>>>>>> a40f3019ece5336afa0fd70f70bf0cb776ac90b4
       "</tr>\n",
       "<tr>\n",
       "  <th></th>                 <td>- 03-09-2020</td>   <th>                     </th>    <td> </td>   \n",
       "</tr>\n",
       "</table>\n",
       "<table class=\"simpletable\">\n",
       "<tr>\n",
<<<<<<< HEAD
       "           <td></td>              <th>coef</th>     <th>std err</th>      <th>z</th>      <th>P>|z|</th>  <th>[0.025</th>    <th>0.975]</th>  \n",
       "</tr>\n",
       "<tr>\n",
       "  <th>const</th>               <td>   10.2650</td> <td>    0.240</td> <td>   42.690</td> <td> 0.000</td> <td>    9.794</td> <td>   10.736</td>\n",
       "</tr>\n",
       "<tr>\n",
       "  <th>ma.L1.nat_Confirmed</th> <td>    1.6464</td> <td>    0.111</td> <td>   14.845</td> <td> 0.000</td> <td>    1.429</td> <td>    1.864</td>\n",
       "</tr>\n",
       "<tr>\n",
       "  <th>ma.L2.nat_Confirmed</th> <td>    0.9999</td> <td>    0.115</td> <td>    8.664</td> <td> 0.000</td> <td>    0.774</td> <td>    1.226</td>\n",
=======
       "         <td></td>            <th>coef</th>     <th>std err</th>      <th>z</th>      <th>P>|z|</th>  <th>[0.025</th>    <th>0.975]</th>  \n",
       "</tr>\n",
       "<tr>\n",
       "  <th>const</th>           <td> 2.069e+05</td> <td>      nan</td> <td>      nan</td> <td>   nan</td> <td>      nan</td> <td>      nan</td>\n",
       "</tr>\n",
       "<tr>\n",
       "  <th>ar.L1.Confirmed</th> <td>    1.5086</td> <td>    0.024</td> <td>   62.413</td> <td> 0.000</td> <td>    1.461</td> <td>    1.556</td>\n",
       "</tr>\n",
       "<tr>\n",
       "  <th>ar.L2.Confirmed</th> <td>   -0.2734</td> <td>    0.104</td> <td>   -2.631</td> <td> 0.009</td> <td>   -0.477</td> <td>   -0.070</td>\n",
       "</tr>\n",
       "<tr>\n",
       "  <th>ar.L3.Confirmed</th> <td>   -0.2356</td> <td>    0.098</td> <td>   -2.412</td> <td> 0.016</td> <td>   -0.427</td> <td>   -0.044</td>\n",
>>>>>>> a40f3019ece5336afa0fd70f70bf0cb776ac90b4
       "</tr>\n",
       "</table>\n",
       "<table class=\"simpletable\">\n",
       "<caption>Roots</caption>\n",
       "<tr>\n",
       "    <td></td>   <th>            Real</th>  <th>         Imaginary</th> <th>         Modulus</th>  <th>        Frequency</th>\n",
       "</tr>\n",
       "<tr>\n",
<<<<<<< HEAD
       "  <th>MA.1</th> <td>          -0.8233</td> <td>          -0.5677j</td> <td>           1.0001</td> <td>          -0.4039</td>\n",
       "</tr>\n",
       "<tr>\n",
       "  <th>MA.2</th> <td>          -0.8233</td> <td>          +0.5677j</td> <td>           1.0001</td> <td>           0.4039</td>\n",
=======
       "  <th>AR.1</th> <td>           1.0019</td> <td>          +0.0000j</td> <td>           1.0019</td> <td>           0.0000</td>\n",
       "</tr>\n",
       "<tr>\n",
       "  <th>AR.2</th> <td>           1.2438</td> <td>          +0.0000j</td> <td>           1.2438</td> <td>           0.0000</td>\n",
       "</tr>\n",
       "<tr>\n",
       "  <th>AR.3</th> <td>          -3.4061</td> <td>          +0.0000j</td> <td>           3.4061</td> <td>           0.5000</td>\n",
>>>>>>> a40f3019ece5336afa0fd70f70bf0cb776ac90b4
       "</tr>\n",
       "</table>"
      ],
      "text/plain": [
       "<class 'statsmodels.iolib.summary.Summary'>\n",
       "\"\"\"\n",
       "                              ARMA Model Results                              \n",
       "==============================================================================\n",
<<<<<<< HEAD
       "Dep. Variable:          nat_Confirmed   No. Observations:                   48\n",
       "Model:                     ARMA(0, 2)   Log Likelihood                 -35.254\n",
       "Method:                       css-mle   S.D. of innovations              0.466\n",
       "Date:                Thu, 26 Mar 2020   AIC                             78.508\n",
       "Time:                        15:14:49   BIC                             85.993\n",
       "Sample:                    01-22-2020   HQIC                            81.337\n",
       "                         - 03-09-2020                                         \n",
       "=======================================================================================\n",
       "                          coef    std err          z      P>|z|      [0.025      0.975]\n",
       "---------------------------------------------------------------------------------------\n",
       "const                  10.2650      0.240     42.690      0.000       9.794      10.736\n",
       "ma.L1.nat_Confirmed     1.6464      0.111     14.845      0.000       1.429       1.864\n",
       "ma.L2.nat_Confirmed     0.9999      0.115      8.664      0.000       0.774       1.226\n",
=======
       "Dep. Variable:              Confirmed   No. Observations:                   48\n",
       "Model:                     ARMA(3, 0)   Log Likelihood                -446.507\n",
       "Method:                       css-mle   S.D. of innovations           2414.328\n",
       "Date:                Thu, 26 Mar 2020   AIC                            903.014\n",
       "Time:                        06:48:20   BIC                            912.370\n",
       "Sample:                    01-22-2020   HQIC                           906.549\n",
       "                         - 03-09-2020                                         \n",
       "===================================================================================\n",
       "                      coef    std err          z      P>|z|      [0.025      0.975]\n",
       "-----------------------------------------------------------------------------------\n",
       "const            2.069e+05        nan        nan        nan         nan         nan\n",
       "ar.L1.Confirmed     1.5086      0.024     62.413      0.000       1.461       1.556\n",
       "ar.L2.Confirmed    -0.2734      0.104     -2.631      0.009      -0.477      -0.070\n",
       "ar.L3.Confirmed    -0.2356      0.098     -2.412      0.016      -0.427      -0.044\n",
>>>>>>> a40f3019ece5336afa0fd70f70bf0cb776ac90b4
       "                                    Roots                                    \n",
       "=============================================================================\n",
       "                  Real          Imaginary           Modulus         Frequency\n",
       "-----------------------------------------------------------------------------\n",
<<<<<<< HEAD
       "MA.1           -0.8233           -0.5677j            1.0001           -0.4039\n",
       "MA.2           -0.8233           +0.5677j            1.0001            0.4039\n",
=======
       "AR.1            1.0019           +0.0000j            1.0019            0.0000\n",
       "AR.2            1.2438           +0.0000j            1.2438            0.0000\n",
       "AR.3           -3.4061           +0.0000j            3.4061            0.5000\n",
>>>>>>> a40f3019ece5336afa0fd70f70bf0cb776ac90b4
       "-----------------------------------------------------------------------------\n",
       "\"\"\""
      ]
     },
<<<<<<< HEAD
     "execution_count": 51,
=======
     "execution_count": 26,
>>>>>>> a40f3019ece5336afa0fd70f70bf0cb776ac90b4
     "metadata": {},
     "output_type": "execute_result"
    }
   ],
   "source": [
    "model_ma2 = ARMA(df_train.nat_Confirmed, order=(0,2))\n",
    "results_ma2 = model_ma2.fit()\n",
    "results_ma2.summary()"
   ]
  },
  {
   "cell_type": "code",
<<<<<<< HEAD
   "execution_count": 52,
   "metadata": {
    "collapsed": true
   },
=======
   "execution_count": 27,
   "metadata": {},
>>>>>>> a40f3019ece5336afa0fd70f70bf0cb776ac90b4
   "outputs": [
    {
     "data": {
      "text/html": [
       "<table class=\"simpletable\">\n",
       "<caption>ARMA Model Results</caption>\n",
       "<tr>\n",
<<<<<<< HEAD
       "  <th>Dep. Variable:</th>   <td>nat_Confirmed</td>  <th>  No. Observations:  </th>   <td>48</td>   \n",
       "</tr>\n",
       "<tr>\n",
       "  <th>Model:</th>            <td>ARMA(0, 3)</td>    <th>  Log Likelihood     </th> <td>-15.107</td>\n",
       "</tr>\n",
       "<tr>\n",
       "  <th>Method:</th>             <td>css-mle</td>     <th>  S.D. of innovations</th>  <td>0.302</td> \n",
       "</tr>\n",
       "<tr>\n",
       "  <th>Date:</th>          <td>Thu, 26 Mar 2020</td> <th>  AIC                </th> <td>40.214</td> \n",
       "</tr>\n",
       "<tr>\n",
       "  <th>Time:</th>              <td>15:14:50</td>     <th>  BIC                </th> <td>49.570</td> \n",
       "</tr>\n",
       "<tr>\n",
       "  <th>Sample:</th>           <td>01-22-2020</td>    <th>  HQIC               </th> <td>43.750</td> \n",
=======
       "  <th>Dep. Variable:</th>     <td>Confirmed</td>    <th>  No. Observations:  </th>    <td>48</td>   \n",
       "</tr>\n",
       "<tr>\n",
       "  <th>Model:</th>            <td>ARMA(4, 0)</td>    <th>  Log Likelihood     </th> <td>-443.778</td>\n",
       "</tr>\n",
       "<tr>\n",
       "  <th>Method:</th>             <td>css-mle</td>     <th>  S.D. of innovations</th> <td>2325.767</td>\n",
       "</tr>\n",
       "<tr>\n",
       "  <th>Date:</th>          <td>Thu, 26 Mar 2020</td> <th>  AIC                </th>  <td>899.556</td>\n",
       "</tr>\n",
       "<tr>\n",
       "  <th>Time:</th>              <td>06:48:21</td>     <th>  BIC                </th>  <td>910.783</td>\n",
       "</tr>\n",
       "<tr>\n",
       "  <th>Sample:</th>           <td>01-22-2020</td>    <th>  HQIC               </th>  <td>903.799</td>\n",
>>>>>>> a40f3019ece5336afa0fd70f70bf0cb776ac90b4
       "</tr>\n",
       "<tr>\n",
       "  <th></th>                 <td>- 03-09-2020</td>   <th>                     </th>    <td> </td>   \n",
       "</tr>\n",
       "</table>\n",
       "<table class=\"simpletable\">\n",
       "<tr>\n",
       "           <td></td>              <th>coef</th>     <th>std err</th>      <th>z</th>      <th>P>|z|</th>  <th>[0.025</th>    <th>0.975]</th>  \n",
       "</tr>\n",
       "<tr>\n",
<<<<<<< HEAD
       "  <th>const</th>               <td>   10.2723</td> <td>    0.248</td> <td>   41.475</td> <td> 0.000</td> <td>    9.787</td> <td>   10.758</td>\n",
       "</tr>\n",
       "<tr>\n",
       "  <th>ma.L1.nat_Confirmed</th> <td>    1.9624</td> <td>    0.109</td> <td>   18.019</td> <td> 0.000</td> <td>    1.749</td> <td>    2.176</td>\n",
       "</tr>\n",
       "<tr>\n",
       "  <th>ma.L2.nat_Confirmed</th> <td>    1.9607</td> <td>    0.156</td> <td>   12.588</td> <td> 0.000</td> <td>    1.655</td> <td>    2.266</td>\n",
       "</tr>\n",
       "<tr>\n",
       "  <th>ma.L3.nat_Confirmed</th> <td>    0.9389</td> <td>    0.096</td> <td>    9.750</td> <td> 0.000</td> <td>    0.750</td> <td>    1.128</td>\n",
=======
       "  <th>const</th>           <td> 5.429e+04</td> <td> 4.39e+04</td> <td>    1.238</td> <td> 0.216</td> <td>-3.17e+04</td> <td>  1.4e+05</td>\n",
       "</tr>\n",
       "<tr>\n",
       "  <th>ar.L1.Confirmed</th> <td>    1.4437</td> <td>    0.138</td> <td>   10.490</td> <td> 0.000</td> <td>    1.174</td> <td>    1.713</td>\n",
       "</tr>\n",
       "<tr>\n",
       "  <th>ar.L2.Confirmed</th> <td>   -0.3360</td> <td>    0.251</td> <td>   -1.340</td> <td> 0.180</td> <td>   -0.827</td> <td>    0.156</td>\n",
       "</tr>\n",
       "<tr>\n",
       "  <th>ar.L3.Confirmed</th> <td>    0.1404</td> <td>    0.248</td> <td>    0.566</td> <td> 0.571</td> <td>   -0.345</td> <td>    0.626</td>\n",
       "</tr>\n",
       "<tr>\n",
       "  <th>ar.L4.Confirmed</th> <td>   -0.2533</td> <td>    0.139</td> <td>   -1.824</td> <td> 0.068</td> <td>   -0.525</td> <td>    0.019</td>\n",
>>>>>>> a40f3019ece5336afa0fd70f70bf0cb776ac90b4
       "</tr>\n",
       "</table>\n",
       "<table class=\"simpletable\">\n",
       "<caption>Roots</caption>\n",
       "<tr>\n",
       "    <td></td>   <th>            Real</th>  <th>         Imaginary</th> <th>         Modulus</th>  <th>        Frequency</th>\n",
       "</tr>\n",
       "<tr>\n",
<<<<<<< HEAD
       "  <th>MA.1</th> <td>          -1.0649</td> <td>          -0.0000j</td> <td>           1.0649</td> <td>          -0.5000</td>\n",
       "</tr>\n",
       "<tr>\n",
       "  <th>MA.2</th> <td>          -0.5117</td> <td>          -0.8593j</td> <td>           1.0001</td> <td>          -0.3355</td>\n",
       "</tr>\n",
       "<tr>\n",
       "  <th>MA.3</th> <td>          -0.5117</td> <td>          +0.8593j</td> <td>           1.0001</td> <td>           0.3355</td>\n",
=======
       "  <th>AR.1</th> <td>           1.0453</td> <td>          -0.0000j</td> <td>           1.0453</td> <td>          -0.0000</td>\n",
       "</tr>\n",
       "<tr>\n",
       "  <th>AR.2</th> <td>           1.0735</td> <td>          -0.0000j</td> <td>           1.0735</td> <td>          -0.0000</td>\n",
       "</tr>\n",
       "<tr>\n",
       "  <th>AR.3</th> <td>          -0.7822</td> <td>          -1.7050j</td> <td>           1.8759</td> <td>          -0.3185</td>\n",
       "</tr>\n",
       "<tr>\n",
       "  <th>AR.4</th> <td>          -0.7822</td> <td>          +1.7050j</td> <td>           1.8759</td> <td>           0.3185</td>\n",
>>>>>>> a40f3019ece5336afa0fd70f70bf0cb776ac90b4
       "</tr>\n",
       "</table>"
      ],
      "text/plain": [
       "<class 'statsmodels.iolib.summary.Summary'>\n",
       "\"\"\"\n",
       "                              ARMA Model Results                              \n",
       "==============================================================================\n",
<<<<<<< HEAD
       "Dep. Variable:          nat_Confirmed   No. Observations:                   48\n",
       "Model:                     ARMA(0, 3)   Log Likelihood                 -15.107\n",
       "Method:                       css-mle   S.D. of innovations              0.302\n",
       "Date:                Thu, 26 Mar 2020   AIC                             40.214\n",
       "Time:                        15:14:50   BIC                             49.570\n",
       "Sample:                    01-22-2020   HQIC                            43.750\n",
       "                         - 03-09-2020                                         \n",
       "=======================================================================================\n",
       "                          coef    std err          z      P>|z|      [0.025      0.975]\n",
       "---------------------------------------------------------------------------------------\n",
       "const                  10.2723      0.248     41.475      0.000       9.787      10.758\n",
       "ma.L1.nat_Confirmed     1.9624      0.109     18.019      0.000       1.749       2.176\n",
       "ma.L2.nat_Confirmed     1.9607      0.156     12.588      0.000       1.655       2.266\n",
       "ma.L3.nat_Confirmed     0.9389      0.096      9.750      0.000       0.750       1.128\n",
=======
       "Dep. Variable:              Confirmed   No. Observations:                   48\n",
       "Model:                     ARMA(4, 0)   Log Likelihood                -443.778\n",
       "Method:                       css-mle   S.D. of innovations           2325.767\n",
       "Date:                Thu, 26 Mar 2020   AIC                            899.556\n",
       "Time:                        06:48:21   BIC                            910.783\n",
       "Sample:                    01-22-2020   HQIC                           903.799\n",
       "                         - 03-09-2020                                         \n",
       "===================================================================================\n",
       "                      coef    std err          z      P>|z|      [0.025      0.975]\n",
       "-----------------------------------------------------------------------------------\n",
       "const            5.429e+04   4.39e+04      1.238      0.216   -3.17e+04     1.4e+05\n",
       "ar.L1.Confirmed     1.4437      0.138     10.490      0.000       1.174       1.713\n",
       "ar.L2.Confirmed    -0.3360      0.251     -1.340      0.180      -0.827       0.156\n",
       "ar.L3.Confirmed     0.1404      0.248      0.566      0.571      -0.345       0.626\n",
       "ar.L4.Confirmed    -0.2533      0.139     -1.824      0.068      -0.525       0.019\n",
>>>>>>> a40f3019ece5336afa0fd70f70bf0cb776ac90b4
       "                                    Roots                                    \n",
       "=============================================================================\n",
       "                  Real          Imaginary           Modulus         Frequency\n",
       "-----------------------------------------------------------------------------\n",
<<<<<<< HEAD
       "MA.1           -1.0649           -0.0000j            1.0649           -0.5000\n",
       "MA.2           -0.5117           -0.8593j            1.0001           -0.3355\n",
       "MA.3           -0.5117           +0.8593j            1.0001            0.3355\n",
=======
       "AR.1            1.0453           -0.0000j            1.0453           -0.0000\n",
       "AR.2            1.0735           -0.0000j            1.0735           -0.0000\n",
       "AR.3           -0.7822           -1.7050j            1.8759           -0.3185\n",
       "AR.4           -0.7822           +1.7050j            1.8759            0.3185\n",
>>>>>>> a40f3019ece5336afa0fd70f70bf0cb776ac90b4
       "-----------------------------------------------------------------------------\n",
       "\"\"\""
      ]
     },
<<<<<<< HEAD
     "execution_count": 52,
=======
     "execution_count": 27,
>>>>>>> a40f3019ece5336afa0fd70f70bf0cb776ac90b4
     "metadata": {},
     "output_type": "execute_result"
    }
   ],
   "source": [
    "model_ma3 = ARMA(df_train.nat_Confirmed, order=(0,3))\n",
    "results_ma3 = model_ma3.fit()\n",
    "results_ma3.summary()"
   ]
  },
  {
   "cell_type": "code",
   "execution_count": 54,
   "metadata": {},
   "outputs": [],
   "source": [
    "model_ma4 = ARMA(df_train.nat_Confirmed, order=(0,4))\n",
    "results_ma4 = model_ma4.fit()"
   ]
  },
  {
   "cell_type": "code",
   "execution_count": 55,
   "metadata": {},
   "outputs": [
    {
     "name": "stderr",
     "output_type": "stream",
     "text": [
      "/anaconda3/envs/learn-env/lib/python3.6/site-packages/statsmodels/base/model.py:548: HessianInversionWarning: Inverting hessian failed, no bse or cov_params available\n",
      "  'available', HessianInversionWarning)\n"
     ]
    }
   ],
   "source": [
    "model_ma5 = ARMA(df_train.nat_Confirmed, order=(0,5))\n",
    "results_ma5 = model_ma5.fit()"
   ]
  },
  {
   "cell_type": "code",
   "execution_count": 56,
   "metadata": {},
   "outputs": [],
   "source": [
    "model_ma6 = ARMA(df_train.nat_Confirmed, order=(0,6))\n",
    "results_ma6 = model_ma6.fit()"
   ]
  },
  {
   "cell_type": "code",
   "execution_count": 58,
   "metadata": {},
   "outputs": [
    {
     "name": "stderr",
     "output_type": "stream",
     "text": [
      "/anaconda3/envs/learn-env/lib/python3.6/site-packages/statsmodels/base/model.py:548: HessianInversionWarning: Inverting hessian failed, no bse or cov_params available\n",
      "  'available', HessianInversionWarning)\n"
     ]
    }
   ],
   "source": [
    "model_ma10 = ARMA(df_train.nat_Confirmed, order=(0,10))\n",
    "results_ma10 = model_ma10.fit()"
   ]
  },
  {
   "cell_type": "code",
   "execution_count": null,
   "metadata": {},
   "outputs": [],
   "source": []
  },
  {
   "cell_type": "code",
   "execution_count": 59,
   "metadata": {},
   "outputs": [
    {
     "name": "stdout",
     "output_type": "stream",
     "text": [
      "MA(1):  \t LL =  -57.02438722987405 \t AIC =  120.0487744597481\n",
      "MA(2):  \t LL =  -35.25424495867843 \t AIC =  78.50848991735685\n",
      "MA(3):  \t LL =  -15.107055075555039 \t AIC =  40.21411015111008\n",
      "MA(4):  \t LL =  -5.332564120980301 \t AIC =  22.665128241960602\n",
      "MA(5):  \t LL =  6.748959421126273 \t AIC =  0.5020811577474547\n",
      "MA(6):  \t LL =  13.79415623538145 \t AIC =  -11.5883124707629\n",
      "MA(6):  \t LL =  31.115473170946615 \t AIC =  -38.23094634189323\n"
     ]
    }
   ],
   "source": [
    "print(\"MA(1):  \\t LL = \", results_ma.llf, \"\\t AIC = \", results_ma.aic)\n",
    "print(\"MA(2):  \\t LL = \", results_ma2.llf, \"\\t AIC = \", results_ma2.aic)\n",
    "print(\"MA(3):  \\t LL = \", results_ma3.llf, \"\\t AIC = \", results_ma3.aic)\n",
    "print(\"MA(4):  \\t LL = \", results_ma4.llf, \"\\t AIC = \", results_ma4.aic)\n",
    "print(\"MA(5):  \\t LL = \", results_ma5.llf, \"\\t AIC = \", results_ma5.aic)\n",
    "print(\"MA(6):  \\t LL = \", results_ma6.llf, \"\\t AIC = \", results_ma6.aic)\n",
    "print(\"MA(6):  \\t LL = \", results_ma10.llf, \"\\t AIC = \", results_ma10.aic)"
   ]
  },
  {
   "cell_type": "markdown",
   "metadata": {},
   "source": [
    "##### ARIMA(1,1,1)"
   ]
  },
  {
   "cell_type": "code",
<<<<<<< HEAD
   "execution_count": 35,
=======
   "execution_count": 28,
>>>>>>> a40f3019ece5336afa0fd70f70bf0cb776ac90b4
   "metadata": {
    "scrolled": true
   },
   "outputs": [
    {
     "data": {
      "text/html": [
       "<table class=\"simpletable\">\n",
       "<caption>ARIMA Model Results</caption>\n",
       "<tr>\n",
<<<<<<< HEAD
       "  <th>Dep. Variable:</th>  <td>D.nat_Confirmed</td> <th>  No. Observations:  </th>   <td>47</td>   \n",
       "</tr>\n",
       "<tr>\n",
       "  <th>Model:</th>          <td>ARIMA(1, 1, 1)</td>  <th>  Log Likelihood     </th> <td>43.703</td> \n",
       "</tr>\n",
       "<tr>\n",
       "  <th>Method:</th>             <td>css-mle</td>     <th>  S.D. of innovations</th>  <td>0.094</td> \n",
       "</tr>\n",
       "<tr>\n",
       "  <th>Date:</th>          <td>Thu, 26 Mar 2020</td> <th>  AIC                </th> <td>-79.407</td>\n",
       "</tr>\n",
       "<tr>\n",
       "  <th>Time:</th>              <td>14:59:44</td>     <th>  BIC                </th> <td>-72.006</td>\n",
       "</tr>\n",
       "<tr>\n",
       "  <th>Sample:</th>           <td>01-23-2020</td>    <th>  HQIC               </th> <td>-76.622</td>\n",
=======
       "  <th>Dep. Variable:</th>    <td>D.Confirmed</td>   <th>  No. Observations:  </th>    <td>47</td>   \n",
       "</tr>\n",
       "<tr>\n",
       "  <th>Model:</th>          <td>ARIMA(1, 1, 1)</td>  <th>  Log Likelihood     </th> <td>-428.573</td>\n",
       "</tr>\n",
       "<tr>\n",
       "  <th>Method:</th>             <td>css-mle</td>     <th>  S.D. of innovations</th> <td>2204.865</td>\n",
       "</tr>\n",
       "<tr>\n",
       "  <th>Date:</th>          <td>Thu, 26 Mar 2020</td> <th>  AIC                </th>  <td>865.147</td>\n",
       "</tr>\n",
       "<tr>\n",
       "  <th>Time:</th>              <td>06:48:21</td>     <th>  BIC                </th>  <td>872.547</td>\n",
       "</tr>\n",
       "<tr>\n",
       "  <th>Sample:</th>           <td>01-23-2020</td>    <th>  HQIC               </th>  <td>867.931</td>\n",
>>>>>>> a40f3019ece5336afa0fd70f70bf0cb776ac90b4
       "</tr>\n",
       "<tr>\n",
       "  <th></th>                 <td>- 03-09-2020</td>   <th>                     </th>    <td> </td>   \n",
       "</tr>\n",
       "</table>\n",
       "<table class=\"simpletable\">\n",
       "<tr>\n",
       "            <td></td>               <th>coef</th>     <th>std err</th>      <th>z</th>      <th>P>|z|</th>  <th>[0.025</th>    <th>0.975]</th>  \n",
       "</tr>\n",
       "<tr>\n",
<<<<<<< HEAD
       "  <th>const</th>                 <td>    0.1403</td> <td>    0.095</td> <td>    1.473</td> <td> 0.141</td> <td>   -0.046</td> <td>    0.327</td>\n",
       "</tr>\n",
       "<tr>\n",
       "  <th>ar.L1.D.nat_Confirmed</th> <td>    0.9628</td> <td>    0.044</td> <td>   21.948</td> <td> 0.000</td> <td>    0.877</td> <td>    1.049</td>\n",
       "</tr>\n",
       "<tr>\n",
       "  <th>ma.L1.D.nat_Confirmed</th> <td>   -0.6412</td> <td>    0.114</td> <td>   -5.612</td> <td> 0.000</td> <td>   -0.865</td> <td>   -0.417</td>\n",
=======
       "  <th>const</th>             <td> 2390.3516</td> <td>  513.461</td> <td>    4.655</td> <td> 0.000</td> <td> 1383.987</td> <td> 3396.716</td>\n",
       "</tr>\n",
       "<tr>\n",
       "  <th>ar.L1.D.Confirmed</th> <td>    0.5519</td> <td>    0.536</td> <td>    1.029</td> <td> 0.304</td> <td>   -0.499</td> <td>    1.603</td>\n",
       "</tr>\n",
       "<tr>\n",
       "  <th>ma.L1.D.Confirmed</th> <td>   -0.2722</td> <td>    0.631</td> <td>   -0.431</td> <td> 0.666</td> <td>   -1.509</td> <td>    0.965</td>\n",
>>>>>>> a40f3019ece5336afa0fd70f70bf0cb776ac90b4
       "</tr>\n",
       "</table>\n",
       "<table class=\"simpletable\">\n",
       "<caption>Roots</caption>\n",
       "<tr>\n",
       "    <td></td>   <th>            Real</th>  <th>         Imaginary</th> <th>         Modulus</th>  <th>        Frequency</th>\n",
       "</tr>\n",
       "<tr>\n",
<<<<<<< HEAD
       "  <th>AR.1</th> <td>           1.0386</td> <td>          +0.0000j</td> <td>           1.0386</td> <td>           0.0000</td>\n",
       "</tr>\n",
       "<tr>\n",
       "  <th>MA.1</th> <td>           1.5596</td> <td>          +0.0000j</td> <td>           1.5596</td> <td>           0.0000</td>\n",
=======
       "  <th>AR.1</th> <td>           1.8120</td> <td>          +0.0000j</td> <td>           1.8120</td> <td>           0.0000</td>\n",
       "</tr>\n",
       "<tr>\n",
       "  <th>MA.1</th> <td>           3.6743</td> <td>          +0.0000j</td> <td>           3.6743</td> <td>           0.0000</td>\n",
>>>>>>> a40f3019ece5336afa0fd70f70bf0cb776ac90b4
       "</tr>\n",
       "</table>"
      ],
      "text/plain": [
       "<class 'statsmodels.iolib.summary.Summary'>\n",
       "\"\"\"\n",
       "                             ARIMA Model Results                              \n",
       "==============================================================================\n",
<<<<<<< HEAD
       "Dep. Variable:        D.nat_Confirmed   No. Observations:                   47\n",
       "Model:                 ARIMA(1, 1, 1)   Log Likelihood                  43.703\n",
       "Method:                       css-mle   S.D. of innovations              0.094\n",
       "Date:                Thu, 26 Mar 2020   AIC                            -79.407\n",
       "Time:                        14:59:44   BIC                            -72.006\n",
       "Sample:                    01-23-2020   HQIC                           -76.622\n",
       "                         - 03-09-2020                                         \n",
       "=========================================================================================\n",
       "                            coef    std err          z      P>|z|      [0.025      0.975]\n",
       "-----------------------------------------------------------------------------------------\n",
       "const                     0.1403      0.095      1.473      0.141      -0.046       0.327\n",
       "ar.L1.D.nat_Confirmed     0.9628      0.044     21.948      0.000       0.877       1.049\n",
       "ma.L1.D.nat_Confirmed    -0.6412      0.114     -5.612      0.000      -0.865      -0.417\n",
=======
       "Dep. Variable:            D.Confirmed   No. Observations:                   47\n",
       "Model:                 ARIMA(1, 1, 1)   Log Likelihood                -428.573\n",
       "Method:                       css-mle   S.D. of innovations           2204.865\n",
       "Date:                Thu, 26 Mar 2020   AIC                            865.147\n",
       "Time:                        06:48:21   BIC                            872.547\n",
       "Sample:                    01-23-2020   HQIC                           867.931\n",
       "                         - 03-09-2020                                         \n",
       "=====================================================================================\n",
       "                        coef    std err          z      P>|z|      [0.025      0.975]\n",
       "-------------------------------------------------------------------------------------\n",
       "const              2390.3516    513.461      4.655      0.000    1383.987    3396.716\n",
       "ar.L1.D.Confirmed     0.5519      0.536      1.029      0.304      -0.499       1.603\n",
       "ma.L1.D.Confirmed    -0.2722      0.631     -0.431      0.666      -1.509       0.965\n",
>>>>>>> a40f3019ece5336afa0fd70f70bf0cb776ac90b4
       "                                    Roots                                    \n",
       "=============================================================================\n",
       "                  Real          Imaginary           Modulus         Frequency\n",
       "-----------------------------------------------------------------------------\n",
<<<<<<< HEAD
       "AR.1            1.0386           +0.0000j            1.0386            0.0000\n",
       "MA.1            1.5596           +0.0000j            1.5596            0.0000\n",
=======
       "AR.1            1.8120           +0.0000j            1.8120            0.0000\n",
       "MA.1            3.6743           +0.0000j            3.6743            0.0000\n",
>>>>>>> a40f3019ece5336afa0fd70f70bf0cb776ac90b4
       "-----------------------------------------------------------------------------\n",
       "\"\"\""
      ]
     },
<<<<<<< HEAD
     "execution_count": 35,
=======
     "execution_count": 28,
>>>>>>> a40f3019ece5336afa0fd70f70bf0cb776ac90b4
     "metadata": {},
     "output_type": "execute_result"
    }
   ],
   "source": [
    "model_arima1_1_1 = ARIMA(df_train.nat_Confirmed, order=(1,1,1))\n",
    "results_arima1_1_1 = model_arima1_1_1.fit()\n",
    "results_arima1_1_1.summary()"
   ]
  },
  {
   "cell_type": "code",
<<<<<<< HEAD
   "execution_count": 36,
=======
   "execution_count": 29,
>>>>>>> a40f3019ece5336afa0fd70f70bf0cb776ac90b4
   "metadata": {},
   "outputs": [],
   "source": [
    "model_arima1_1_2 = ARIMA(df_train.nat_Confirmed, order=(1,1,2))\n",
    "results_arima1_1_2 = model_arima1_1_2.fit()"
   ]
  },
  {
   "cell_type": "code",
<<<<<<< HEAD
   "execution_count": 37,
=======
   "execution_count": 30,
>>>>>>> a40f3019ece5336afa0fd70f70bf0cb776ac90b4
   "metadata": {},
   "outputs": [],
   "source": [
    "model_arima1_1_3 = ARIMA(df_train.nat_Confirmed, order=(1,1,3))\n",
    "results_arima1_1_3 = model_arima1_1_3.fit()"
   ]
  },
  {
   "cell_type": "code",
<<<<<<< HEAD
   "execution_count": 38,
=======
   "execution_count": 31,
>>>>>>> a40f3019ece5336afa0fd70f70bf0cb776ac90b4
   "metadata": {},
   "outputs": [],
   "source": [
    "model_arima2_1_1 = ARIMA(df_train.nat_Confirmed, order=(2,1,1))\n",
    "results_arima2_1_1 = model_arima2_1_1.fit()"
   ]
  },
  {
   "cell_type": "code",
<<<<<<< HEAD
   "execution_count": 39,
   "metadata": {},
   "outputs": [],
   "source": [
    "model_arima3_1_1 = ARIMA(df_train.nat_Confirmed, order=(3,1,1))\n",
    "results_arima3_1_1 = model_arima3_1_1.fit()"
   ]
  },
  {
   "cell_type": "code",
   "execution_count": 46,
   "metadata": {
    "collapsed": true
   },
   "outputs": [
    {
     "name": "stderr",
     "output_type": "stream",
     "text": [
      "/anaconda3/envs/learn-env/lib/python3.6/site-packages/statsmodels/tsa/tsatools.py:689: RuntimeWarning: overflow encountered in exp\n",
      "  newparams = ((1-np.exp(-params))/(1+np.exp(-params))).copy()\n",
      "/anaconda3/envs/learn-env/lib/python3.6/site-packages/statsmodels/tsa/tsatools.py:689: RuntimeWarning: invalid value encountered in true_divide\n",
      "  newparams = ((1-np.exp(-params))/(1+np.exp(-params))).copy()\n",
      "/anaconda3/envs/learn-env/lib/python3.6/site-packages/statsmodels/tsa/tsatools.py:690: RuntimeWarning: overflow encountered in exp\n",
      "  tmp = ((1-np.exp(-params))/(1+np.exp(-params))).copy()\n",
      "/anaconda3/envs/learn-env/lib/python3.6/site-packages/statsmodels/tsa/tsatools.py:690: RuntimeWarning: invalid value encountered in true_divide\n",
      "  tmp = ((1-np.exp(-params))/(1+np.exp(-params))).copy()\n",
      "/anaconda3/envs/learn-env/lib/python3.6/site-packages/statsmodels/tsa/tsatools.py:716: RuntimeWarning: invalid value encountered in log\n",
      "  invmacoefs = -np.log((1-macoefs)/(1+macoefs))\n"
     ]
    },
    {
     "ename": "LinAlgError",
     "evalue": "SVD did not converge",
     "output_type": "error",
     "traceback": [
      "\u001b[0;31m---------------------------------------------------------------------------\u001b[0m",
      "\u001b[0;31mLinAlgError\u001b[0m                               Traceback (most recent call last)",
      "\u001b[0;32m<ipython-input-46-94a5e876022e>\u001b[0m in \u001b[0;36m<module>\u001b[0;34m\u001b[0m\n\u001b[1;32m      1\u001b[0m \u001b[0mmodel_arima3_1_2\u001b[0m \u001b[0;34m=\u001b[0m \u001b[0mARIMA\u001b[0m\u001b[0;34m(\u001b[0m\u001b[0mdf_train\u001b[0m\u001b[0;34m.\u001b[0m\u001b[0mnat_Confirmed\u001b[0m\u001b[0;34m,\u001b[0m \u001b[0morder\u001b[0m\u001b[0;34m=\u001b[0m\u001b[0;34m(\u001b[0m\u001b[0;36m3\u001b[0m\u001b[0;34m,\u001b[0m\u001b[0;36m1\u001b[0m\u001b[0;34m,\u001b[0m\u001b[0;36m2\u001b[0m\u001b[0;34m)\u001b[0m\u001b[0;34m)\u001b[0m\u001b[0;34m\u001b[0m\u001b[0;34m\u001b[0m\u001b[0m\n\u001b[0;32m----> 2\u001b[0;31m \u001b[0mresults_arima3_1_2\u001b[0m \u001b[0;34m=\u001b[0m \u001b[0mmodel_arima3_1_2\u001b[0m\u001b[0;34m.\u001b[0m\u001b[0mfit\u001b[0m\u001b[0;34m(\u001b[0m\u001b[0;34m)\u001b[0m\u001b[0;34m\u001b[0m\u001b[0;34m\u001b[0m\u001b[0m\n\u001b[0m",
      "\u001b[0;32m/anaconda3/envs/learn-env/lib/python3.6/site-packages/statsmodels/tsa/arima_model.py\u001b[0m in \u001b[0;36mfit\u001b[0;34m(self, start_params, trend, method, transparams, solver, maxiter, full_output, disp, callback, start_ar_lags, **kwargs)\u001b[0m\n\u001b[1;32m   1198\u001b[0m                                         \u001b[0mmethod\u001b[0m\u001b[0;34m,\u001b[0m \u001b[0mtransparams\u001b[0m\u001b[0;34m,\u001b[0m \u001b[0msolver\u001b[0m\u001b[0;34m,\u001b[0m\u001b[0;34m\u001b[0m\u001b[0;34m\u001b[0m\u001b[0m\n\u001b[1;32m   1199\u001b[0m                                         \u001b[0mmaxiter\u001b[0m\u001b[0;34m,\u001b[0m \u001b[0mfull_output\u001b[0m\u001b[0;34m,\u001b[0m \u001b[0mdisp\u001b[0m\u001b[0;34m,\u001b[0m\u001b[0;34m\u001b[0m\u001b[0;34m\u001b[0m\u001b[0m\n\u001b[0;32m-> 1200\u001b[0;31m                                         callback, start_ar_lags, **kwargs)\n\u001b[0m\u001b[1;32m   1201\u001b[0m         \u001b[0mnormalized_cov_params\u001b[0m \u001b[0;34m=\u001b[0m \u001b[0;32mNone\u001b[0m  \u001b[0;31m# TODO: fix this?\u001b[0m\u001b[0;34m\u001b[0m\u001b[0;34m\u001b[0m\u001b[0m\n\u001b[1;32m   1202\u001b[0m         arima_fit = ARIMAResults(self, mlefit._results.params,\n",
      "\u001b[0;32m/anaconda3/envs/learn-env/lib/python3.6/site-packages/statsmodels/tsa/arima_model.py\u001b[0m in \u001b[0;36mfit\u001b[0;34m(self, start_params, trend, method, transparams, solver, maxiter, full_output, disp, callback, start_ar_lags, **kwargs)\u001b[0m\n\u001b[1;32m    997\u001b[0m                                        \u001b[0mmaxiter\u001b[0m\u001b[0;34m=\u001b[0m\u001b[0mmaxiter\u001b[0m\u001b[0;34m,\u001b[0m\u001b[0;34m\u001b[0m\u001b[0;34m\u001b[0m\u001b[0m\n\u001b[1;32m    998\u001b[0m                                        \u001b[0mfull_output\u001b[0m\u001b[0;34m=\u001b[0m\u001b[0mfull_output\u001b[0m\u001b[0;34m,\u001b[0m \u001b[0mdisp\u001b[0m\u001b[0;34m=\u001b[0m\u001b[0mdisp\u001b[0m\u001b[0;34m,\u001b[0m\u001b[0;34m\u001b[0m\u001b[0;34m\u001b[0m\u001b[0m\n\u001b[0;32m--> 999\u001b[0;31m                                        callback=callback, **kwargs)\n\u001b[0m\u001b[1;32m   1000\u001b[0m         \u001b[0mparams\u001b[0m \u001b[0;34m=\u001b[0m \u001b[0mmlefit\u001b[0m\u001b[0;34m.\u001b[0m\u001b[0mparams\u001b[0m\u001b[0;34m\u001b[0m\u001b[0;34m\u001b[0m\u001b[0m\n\u001b[1;32m   1001\u001b[0m \u001b[0;34m\u001b[0m\u001b[0m\n",
      "\u001b[0;32m/anaconda3/envs/learn-env/lib/python3.6/site-packages/statsmodels/base/model.py\u001b[0m in \u001b[0;36mfit\u001b[0;34m(self, start_params, method, maxiter, full_output, disp, fargs, callback, retall, skip_hessian, **kwargs)\u001b[0m\n\u001b[1;32m    524\u001b[0m                                                        \u001b[0mcallback\u001b[0m\u001b[0;34m=\u001b[0m\u001b[0mcallback\u001b[0m\u001b[0;34m,\u001b[0m\u001b[0;34m\u001b[0m\u001b[0;34m\u001b[0m\u001b[0m\n\u001b[1;32m    525\u001b[0m                                                        \u001b[0mretall\u001b[0m\u001b[0;34m=\u001b[0m\u001b[0mretall\u001b[0m\u001b[0;34m,\u001b[0m\u001b[0;34m\u001b[0m\u001b[0;34m\u001b[0m\u001b[0m\n\u001b[0;32m--> 526\u001b[0;31m                                                        full_output=full_output)\n\u001b[0m\u001b[1;32m    527\u001b[0m \u001b[0;34m\u001b[0m\u001b[0m\n\u001b[1;32m    528\u001b[0m         \u001b[0;31m# NOTE: this is for fit_regularized and should be generalized\u001b[0m\u001b[0;34m\u001b[0m\u001b[0;34m\u001b[0m\u001b[0;34m\u001b[0m\u001b[0m\n",
      "\u001b[0;32m/anaconda3/envs/learn-env/lib/python3.6/site-packages/statsmodels/base/optimizer.py\u001b[0m in \u001b[0;36m_fit\u001b[0;34m(self, objective, gradient, start_params, fargs, kwargs, hessian, method, maxiter, full_output, disp, callback, retall)\u001b[0m\n\u001b[1;32m    216\u001b[0m                             \u001b[0mdisp\u001b[0m\u001b[0;34m=\u001b[0m\u001b[0mdisp\u001b[0m\u001b[0;34m,\u001b[0m \u001b[0mmaxiter\u001b[0m\u001b[0;34m=\u001b[0m\u001b[0mmaxiter\u001b[0m\u001b[0;34m,\u001b[0m \u001b[0mcallback\u001b[0m\u001b[0;34m=\u001b[0m\u001b[0mcallback\u001b[0m\u001b[0;34m,\u001b[0m\u001b[0;34m\u001b[0m\u001b[0;34m\u001b[0m\u001b[0m\n\u001b[1;32m    217\u001b[0m                             \u001b[0mretall\u001b[0m\u001b[0;34m=\u001b[0m\u001b[0mretall\u001b[0m\u001b[0;34m,\u001b[0m \u001b[0mfull_output\u001b[0m\u001b[0;34m=\u001b[0m\u001b[0mfull_output\u001b[0m\u001b[0;34m,\u001b[0m\u001b[0;34m\u001b[0m\u001b[0;34m\u001b[0m\u001b[0m\n\u001b[0;32m--> 218\u001b[0;31m                             hess=hessian)\n\u001b[0m\u001b[1;32m    219\u001b[0m \u001b[0;34m\u001b[0m\u001b[0m\n\u001b[1;32m    220\u001b[0m         optim_settings = {'optimizer': method, 'start_params': start_params,\n",
      "\u001b[0;32m/anaconda3/envs/learn-env/lib/python3.6/site-packages/statsmodels/base/optimizer.py\u001b[0m in \u001b[0;36m_fit_lbfgs\u001b[0;34m(f, score, start_params, fargs, kwargs, disp, maxiter, callback, retall, full_output, hess)\u001b[0m\n\u001b[1;32m    438\u001b[0m                                      \u001b[0mcallback\u001b[0m\u001b[0;34m=\u001b[0m\u001b[0mcallback\u001b[0m\u001b[0;34m,\u001b[0m \u001b[0margs\u001b[0m\u001b[0;34m=\u001b[0m\u001b[0mfargs\u001b[0m\u001b[0;34m,\u001b[0m\u001b[0;34m\u001b[0m\u001b[0;34m\u001b[0m\u001b[0m\n\u001b[1;32m    439\u001b[0m                                      \u001b[0mbounds\u001b[0m\u001b[0;34m=\u001b[0m\u001b[0mbounds\u001b[0m\u001b[0;34m,\u001b[0m \u001b[0mdisp\u001b[0m\u001b[0;34m=\u001b[0m\u001b[0mdisp\u001b[0m\u001b[0;34m,\u001b[0m\u001b[0;34m\u001b[0m\u001b[0;34m\u001b[0m\u001b[0m\n\u001b[0;32m--> 440\u001b[0;31m                                      **extra_kwargs)\n\u001b[0m\u001b[1;32m    441\u001b[0m \u001b[0;34m\u001b[0m\u001b[0m\n\u001b[1;32m    442\u001b[0m     \u001b[0;32mif\u001b[0m \u001b[0mfull_output\u001b[0m\u001b[0;34m:\u001b[0m\u001b[0;34m\u001b[0m\u001b[0;34m\u001b[0m\u001b[0m\n",
      "\u001b[0;32m/anaconda3/envs/learn-env/lib/python3.6/site-packages/scipy/optimize/lbfgsb.py\u001b[0m in \u001b[0;36mfmin_l_bfgs_b\u001b[0;34m(func, x0, fprime, args, approx_grad, bounds, m, factr, pgtol, epsilon, iprint, maxfun, maxiter, disp, callback, maxls)\u001b[0m\n\u001b[1;32m    197\u001b[0m \u001b[0;34m\u001b[0m\u001b[0m\n\u001b[1;32m    198\u001b[0m     res = _minimize_lbfgsb(fun, x0, args=args, jac=jac, bounds=bounds,\n\u001b[0;32m--> 199\u001b[0;31m                            **opts)\n\u001b[0m\u001b[1;32m    200\u001b[0m     d = {'grad': res['jac'],\n\u001b[1;32m    201\u001b[0m          \u001b[0;34m'task'\u001b[0m\u001b[0;34m:\u001b[0m \u001b[0mres\u001b[0m\u001b[0;34m[\u001b[0m\u001b[0;34m'message'\u001b[0m\u001b[0;34m]\u001b[0m\u001b[0;34m,\u001b[0m\u001b[0;34m\u001b[0m\u001b[0;34m\u001b[0m\u001b[0m\n",
      "\u001b[0;32m/anaconda3/envs/learn-env/lib/python3.6/site-packages/scipy/optimize/lbfgsb.py\u001b[0m in \u001b[0;36m_minimize_lbfgsb\u001b[0;34m(fun, x0, args, jac, bounds, disp, maxcor, ftol, gtol, eps, maxfun, maxiter, iprint, callback, maxls, **unknown_options)\u001b[0m\n\u001b[1;32m    343\u001b[0m             \u001b[0;31m# until the completion of the current minimization iteration.\u001b[0m\u001b[0;34m\u001b[0m\u001b[0;34m\u001b[0m\u001b[0;34m\u001b[0m\u001b[0m\n\u001b[1;32m    344\u001b[0m             \u001b[0;31m# Overwrite f and g:\u001b[0m\u001b[0;34m\u001b[0m\u001b[0;34m\u001b[0m\u001b[0;34m\u001b[0m\u001b[0m\n\u001b[0;32m--> 345\u001b[0;31m             \u001b[0mf\u001b[0m\u001b[0;34m,\u001b[0m \u001b[0mg\u001b[0m \u001b[0;34m=\u001b[0m \u001b[0mfunc_and_grad\u001b[0m\u001b[0;34m(\u001b[0m\u001b[0mx\u001b[0m\u001b[0;34m)\u001b[0m\u001b[0;34m\u001b[0m\u001b[0;34m\u001b[0m\u001b[0m\n\u001b[0m\u001b[1;32m    346\u001b[0m         \u001b[0;32melif\u001b[0m \u001b[0mtask_str\u001b[0m\u001b[0;34m.\u001b[0m\u001b[0mstartswith\u001b[0m\u001b[0;34m(\u001b[0m\u001b[0;34mb'NEW_X'\u001b[0m\u001b[0;34m)\u001b[0m\u001b[0;34m:\u001b[0m\u001b[0;34m\u001b[0m\u001b[0;34m\u001b[0m\u001b[0m\n\u001b[1;32m    347\u001b[0m             \u001b[0;31m# new iteration\u001b[0m\u001b[0;34m\u001b[0m\u001b[0;34m\u001b[0m\u001b[0;34m\u001b[0m\u001b[0m\n",
      "\u001b[0;32m/anaconda3/envs/learn-env/lib/python3.6/site-packages/scipy/optimize/lbfgsb.py\u001b[0m in \u001b[0;36mfunc_and_grad\u001b[0;34m(x)\u001b[0m\n\u001b[1;32m    288\u001b[0m     \u001b[0;32mif\u001b[0m \u001b[0mjac\u001b[0m \u001b[0;32mis\u001b[0m \u001b[0;32mNone\u001b[0m\u001b[0;34m:\u001b[0m\u001b[0;34m\u001b[0m\u001b[0;34m\u001b[0m\u001b[0m\n\u001b[1;32m    289\u001b[0m         \u001b[0;32mdef\u001b[0m \u001b[0mfunc_and_grad\u001b[0m\u001b[0;34m(\u001b[0m\u001b[0mx\u001b[0m\u001b[0;34m)\u001b[0m\u001b[0;34m:\u001b[0m\u001b[0;34m\u001b[0m\u001b[0;34m\u001b[0m\u001b[0m\n\u001b[0;32m--> 290\u001b[0;31m             \u001b[0mf\u001b[0m \u001b[0;34m=\u001b[0m \u001b[0mfun\u001b[0m\u001b[0;34m(\u001b[0m\u001b[0mx\u001b[0m\u001b[0;34m,\u001b[0m \u001b[0;34m*\u001b[0m\u001b[0margs\u001b[0m\u001b[0;34m)\u001b[0m\u001b[0;34m\u001b[0m\u001b[0;34m\u001b[0m\u001b[0m\n\u001b[0m\u001b[1;32m    291\u001b[0m             \u001b[0mg\u001b[0m \u001b[0;34m=\u001b[0m \u001b[0m_approx_fprime_helper\u001b[0m\u001b[0;34m(\u001b[0m\u001b[0mx\u001b[0m\u001b[0;34m,\u001b[0m \u001b[0mfun\u001b[0m\u001b[0;34m,\u001b[0m \u001b[0mepsilon\u001b[0m\u001b[0;34m,\u001b[0m \u001b[0margs\u001b[0m\u001b[0;34m=\u001b[0m\u001b[0margs\u001b[0m\u001b[0;34m,\u001b[0m \u001b[0mf0\u001b[0m\u001b[0;34m=\u001b[0m\u001b[0mf\u001b[0m\u001b[0;34m)\u001b[0m\u001b[0;34m\u001b[0m\u001b[0;34m\u001b[0m\u001b[0m\n\u001b[1;32m    292\u001b[0m             \u001b[0;32mreturn\u001b[0m \u001b[0mf\u001b[0m\u001b[0;34m,\u001b[0m \u001b[0mg\u001b[0m\u001b[0;34m\u001b[0m\u001b[0;34m\u001b[0m\u001b[0m\n",
      "\u001b[0;32m/anaconda3/envs/learn-env/lib/python3.6/site-packages/scipy/optimize/optimize.py\u001b[0m in \u001b[0;36mfunction_wrapper\u001b[0;34m(*wrapper_args)\u001b[0m\n\u001b[1;32m    325\u001b[0m     \u001b[0;32mdef\u001b[0m \u001b[0mfunction_wrapper\u001b[0m\u001b[0;34m(\u001b[0m\u001b[0;34m*\u001b[0m\u001b[0mwrapper_args\u001b[0m\u001b[0;34m)\u001b[0m\u001b[0;34m:\u001b[0m\u001b[0;34m\u001b[0m\u001b[0;34m\u001b[0m\u001b[0m\n\u001b[1;32m    326\u001b[0m         \u001b[0mncalls\u001b[0m\u001b[0;34m[\u001b[0m\u001b[0;36m0\u001b[0m\u001b[0;34m]\u001b[0m \u001b[0;34m+=\u001b[0m \u001b[0;36m1\u001b[0m\u001b[0;34m\u001b[0m\u001b[0;34m\u001b[0m\u001b[0m\n\u001b[0;32m--> 327\u001b[0;31m         \u001b[0;32mreturn\u001b[0m \u001b[0mfunction\u001b[0m\u001b[0;34m(\u001b[0m\u001b[0;34m*\u001b[0m\u001b[0;34m(\u001b[0m\u001b[0mwrapper_args\u001b[0m \u001b[0;34m+\u001b[0m \u001b[0margs\u001b[0m\u001b[0;34m)\u001b[0m\u001b[0;34m)\u001b[0m\u001b[0;34m\u001b[0m\u001b[0;34m\u001b[0m\u001b[0m\n\u001b[0m\u001b[1;32m    328\u001b[0m \u001b[0;34m\u001b[0m\u001b[0m\n\u001b[1;32m    329\u001b[0m     \u001b[0;32mreturn\u001b[0m \u001b[0mncalls\u001b[0m\u001b[0;34m,\u001b[0m \u001b[0mfunction_wrapper\u001b[0m\u001b[0;34m\u001b[0m\u001b[0;34m\u001b[0m\u001b[0m\n",
      "\u001b[0;32m/anaconda3/envs/learn-env/lib/python3.6/site-packages/statsmodels/base/model.py\u001b[0m in \u001b[0;36mf\u001b[0;34m(params, *args)\u001b[0m\n\u001b[1;32m    498\u001b[0m \u001b[0;34m\u001b[0m\u001b[0m\n\u001b[1;32m    499\u001b[0m         \u001b[0;32mdef\u001b[0m \u001b[0mf\u001b[0m\u001b[0;34m(\u001b[0m\u001b[0mparams\u001b[0m\u001b[0;34m,\u001b[0m \u001b[0;34m*\u001b[0m\u001b[0margs\u001b[0m\u001b[0;34m)\u001b[0m\u001b[0;34m:\u001b[0m\u001b[0;34m\u001b[0m\u001b[0;34m\u001b[0m\u001b[0m\n\u001b[0;32m--> 500\u001b[0;31m             \u001b[0;32mreturn\u001b[0m \u001b[0;34m-\u001b[0m\u001b[0mself\u001b[0m\u001b[0;34m.\u001b[0m\u001b[0mloglike\u001b[0m\u001b[0;34m(\u001b[0m\u001b[0mparams\u001b[0m\u001b[0;34m,\u001b[0m \u001b[0;34m*\u001b[0m\u001b[0margs\u001b[0m\u001b[0;34m)\u001b[0m \u001b[0;34m/\u001b[0m \u001b[0mnobs\u001b[0m\u001b[0;34m\u001b[0m\u001b[0;34m\u001b[0m\u001b[0m\n\u001b[0m\u001b[1;32m    501\u001b[0m \u001b[0;34m\u001b[0m\u001b[0m\n\u001b[1;32m    502\u001b[0m         \u001b[0;32mif\u001b[0m \u001b[0mmethod\u001b[0m \u001b[0;34m==\u001b[0m \u001b[0;34m'newton'\u001b[0m\u001b[0;34m:\u001b[0m\u001b[0;34m\u001b[0m\u001b[0;34m\u001b[0m\u001b[0m\n",
      "\u001b[0;32m/anaconda3/envs/learn-env/lib/python3.6/site-packages/statsmodels/tsa/arima_model.py\u001b[0m in \u001b[0;36mloglike\u001b[0;34m(self, params, set_sigma2)\u001b[0m\n\u001b[1;32m    808\u001b[0m         \u001b[0mmethod\u001b[0m \u001b[0;34m=\u001b[0m \u001b[0mself\u001b[0m\u001b[0;34m.\u001b[0m\u001b[0mmethod\u001b[0m\u001b[0;34m\u001b[0m\u001b[0;34m\u001b[0m\u001b[0m\n\u001b[1;32m    809\u001b[0m         \u001b[0;32mif\u001b[0m \u001b[0mmethod\u001b[0m \u001b[0;32min\u001b[0m \u001b[0;34m[\u001b[0m\u001b[0;34m'mle'\u001b[0m\u001b[0;34m,\u001b[0m \u001b[0;34m'css-mle'\u001b[0m\u001b[0;34m]\u001b[0m\u001b[0;34m:\u001b[0m\u001b[0;34m\u001b[0m\u001b[0;34m\u001b[0m\u001b[0m\n\u001b[0;32m--> 810\u001b[0;31m             \u001b[0;32mreturn\u001b[0m \u001b[0mself\u001b[0m\u001b[0;34m.\u001b[0m\u001b[0mloglike_kalman\u001b[0m\u001b[0;34m(\u001b[0m\u001b[0mparams\u001b[0m\u001b[0;34m,\u001b[0m \u001b[0mset_sigma2\u001b[0m\u001b[0;34m)\u001b[0m\u001b[0;34m\u001b[0m\u001b[0;34m\u001b[0m\u001b[0m\n\u001b[0m\u001b[1;32m    811\u001b[0m         \u001b[0;32melif\u001b[0m \u001b[0mmethod\u001b[0m \u001b[0;34m==\u001b[0m \u001b[0;34m'css'\u001b[0m\u001b[0;34m:\u001b[0m\u001b[0;34m\u001b[0m\u001b[0;34m\u001b[0m\u001b[0m\n\u001b[1;32m    812\u001b[0m             \u001b[0;32mreturn\u001b[0m \u001b[0mself\u001b[0m\u001b[0;34m.\u001b[0m\u001b[0mloglike_css\u001b[0m\u001b[0;34m(\u001b[0m\u001b[0mparams\u001b[0m\u001b[0;34m,\u001b[0m \u001b[0mset_sigma2\u001b[0m\u001b[0;34m)\u001b[0m\u001b[0;34m\u001b[0m\u001b[0;34m\u001b[0m\u001b[0m\n",
      "\u001b[0;32m/anaconda3/envs/learn-env/lib/python3.6/site-packages/statsmodels/tsa/arima_model.py\u001b[0m in \u001b[0;36mloglike_kalman\u001b[0;34m(self, params, set_sigma2)\u001b[0m\n\u001b[1;32m    818\u001b[0m         \u001b[0mCompute\u001b[0m \u001b[0mexact\u001b[0m \u001b[0mloglikelihood\u001b[0m \u001b[0;32mfor\u001b[0m \u001b[0mARMA\u001b[0m\u001b[0;34m(\u001b[0m\u001b[0mp\u001b[0m\u001b[0;34m,\u001b[0m\u001b[0mq\u001b[0m\u001b[0;34m)\u001b[0m \u001b[0mmodel\u001b[0m \u001b[0mby\u001b[0m \u001b[0mthe\u001b[0m \u001b[0mKalman\u001b[0m \u001b[0mFilter\u001b[0m\u001b[0;34m.\u001b[0m\u001b[0;34m\u001b[0m\u001b[0;34m\u001b[0m\u001b[0m\n\u001b[1;32m    819\u001b[0m         \"\"\"\n\u001b[0;32m--> 820\u001b[0;31m         \u001b[0;32mreturn\u001b[0m \u001b[0mKalmanFilter\u001b[0m\u001b[0;34m.\u001b[0m\u001b[0mloglike\u001b[0m\u001b[0;34m(\u001b[0m\u001b[0mparams\u001b[0m\u001b[0;34m,\u001b[0m \u001b[0mself\u001b[0m\u001b[0;34m,\u001b[0m \u001b[0mset_sigma2\u001b[0m\u001b[0;34m)\u001b[0m\u001b[0;34m\u001b[0m\u001b[0;34m\u001b[0m\u001b[0m\n\u001b[0m\u001b[1;32m    821\u001b[0m \u001b[0;34m\u001b[0m\u001b[0m\n\u001b[1;32m    822\u001b[0m     \u001b[0;32mdef\u001b[0m \u001b[0mloglike_css\u001b[0m\u001b[0;34m(\u001b[0m\u001b[0mself\u001b[0m\u001b[0;34m,\u001b[0m \u001b[0mparams\u001b[0m\u001b[0;34m,\u001b[0m \u001b[0mset_sigma2\u001b[0m\u001b[0;34m=\u001b[0m\u001b[0;32mTrue\u001b[0m\u001b[0;34m)\u001b[0m\u001b[0;34m:\u001b[0m\u001b[0;34m\u001b[0m\u001b[0;34m\u001b[0m\u001b[0m\n",
      "\u001b[0;32m/anaconda3/envs/learn-env/lib/python3.6/site-packages/statsmodels/tsa/kalmanf/kalmanfilter.py\u001b[0m in \u001b[0;36mloglike\u001b[0;34m(cls, params, arma_model, set_sigma2)\u001b[0m\n\u001b[1;32m    218\u001b[0m             loglike, sigma2 = kalman_loglike.kalman_loglike_double(\n\u001b[1;32m    219\u001b[0m                 \u001b[0my\u001b[0m\u001b[0;34m,\u001b[0m \u001b[0mk\u001b[0m\u001b[0;34m,\u001b[0m \u001b[0mk_ar\u001b[0m\u001b[0;34m,\u001b[0m \u001b[0mk_ma\u001b[0m\u001b[0;34m,\u001b[0m \u001b[0mk_lags\u001b[0m\u001b[0;34m,\u001b[0m \u001b[0mint\u001b[0m\u001b[0;34m(\u001b[0m\u001b[0mnobs\u001b[0m\u001b[0;34m)\u001b[0m\u001b[0;34m,\u001b[0m\u001b[0;34m\u001b[0m\u001b[0;34m\u001b[0m\u001b[0m\n\u001b[0;32m--> 220\u001b[0;31m                 Z_mat, R_mat, T_mat)\n\u001b[0m\u001b[1;32m    221\u001b[0m         \u001b[0;32melif\u001b[0m \u001b[0mnp\u001b[0m\u001b[0;34m.\u001b[0m\u001b[0missubdtype\u001b[0m\u001b[0;34m(\u001b[0m\u001b[0mparamsdtype\u001b[0m\u001b[0;34m,\u001b[0m \u001b[0mnp\u001b[0m\u001b[0;34m.\u001b[0m\u001b[0mcomplex128\u001b[0m\u001b[0;34m)\u001b[0m\u001b[0;34m:\u001b[0m\u001b[0;34m\u001b[0m\u001b[0;34m\u001b[0m\u001b[0m\n\u001b[1;32m    222\u001b[0m             loglike, sigma2 = kalman_loglike.kalman_loglike_complex(\n",
      "\u001b[0;32mstatsmodels/tsa/kalmanf/kalman_loglike.pyx\u001b[0m in \u001b[0;36mstatsmodels.tsa.kalmanf.kalman_loglike.kalman_loglike_double\u001b[0;34m()\u001b[0m\n",
      "\u001b[0;32mstatsmodels/tsa/kalmanf/kalman_loglike.pyx\u001b[0m in \u001b[0;36mstatsmodels.tsa.kalmanf.kalman_loglike.kalman_filter_double\u001b[0;34m()\u001b[0m\n",
      "\u001b[0;32m<__array_function__ internals>\u001b[0m in \u001b[0;36mpinv\u001b[0;34m(*args, **kwargs)\u001b[0m\n",
      "\u001b[0;32m/anaconda3/envs/learn-env/lib/python3.6/site-packages/numpy/linalg/linalg.py\u001b[0m in \u001b[0;36mpinv\u001b[0;34m(a, rcond, hermitian)\u001b[0m\n\u001b[1;32m   1959\u001b[0m         \u001b[0;32mreturn\u001b[0m \u001b[0mwrap\u001b[0m\u001b[0;34m(\u001b[0m\u001b[0mres\u001b[0m\u001b[0;34m)\u001b[0m\u001b[0;34m\u001b[0m\u001b[0;34m\u001b[0m\u001b[0m\n\u001b[1;32m   1960\u001b[0m     \u001b[0ma\u001b[0m \u001b[0;34m=\u001b[0m \u001b[0ma\u001b[0m\u001b[0;34m.\u001b[0m\u001b[0mconjugate\u001b[0m\u001b[0;34m(\u001b[0m\u001b[0;34m)\u001b[0m\u001b[0;34m\u001b[0m\u001b[0;34m\u001b[0m\u001b[0m\n\u001b[0;32m-> 1961\u001b[0;31m     \u001b[0mu\u001b[0m\u001b[0;34m,\u001b[0m \u001b[0ms\u001b[0m\u001b[0;34m,\u001b[0m \u001b[0mvt\u001b[0m \u001b[0;34m=\u001b[0m \u001b[0msvd\u001b[0m\u001b[0;34m(\u001b[0m\u001b[0ma\u001b[0m\u001b[0;34m,\u001b[0m \u001b[0mfull_matrices\u001b[0m\u001b[0;34m=\u001b[0m\u001b[0;32mFalse\u001b[0m\u001b[0;34m,\u001b[0m \u001b[0mhermitian\u001b[0m\u001b[0;34m=\u001b[0m\u001b[0mhermitian\u001b[0m\u001b[0;34m)\u001b[0m\u001b[0;34m\u001b[0m\u001b[0;34m\u001b[0m\u001b[0m\n\u001b[0m\u001b[1;32m   1962\u001b[0m \u001b[0;34m\u001b[0m\u001b[0m\n\u001b[1;32m   1963\u001b[0m     \u001b[0;31m# discard small singular values\u001b[0m\u001b[0;34m\u001b[0m\u001b[0;34m\u001b[0m\u001b[0;34m\u001b[0m\u001b[0m\n",
      "\u001b[0;32m<__array_function__ internals>\u001b[0m in \u001b[0;36msvd\u001b[0;34m(*args, **kwargs)\u001b[0m\n",
      "\u001b[0;32m/anaconda3/envs/learn-env/lib/python3.6/site-packages/numpy/linalg/linalg.py\u001b[0m in \u001b[0;36msvd\u001b[0;34m(a, full_matrices, compute_uv, hermitian)\u001b[0m\n\u001b[1;32m   1624\u001b[0m \u001b[0;34m\u001b[0m\u001b[0m\n\u001b[1;32m   1625\u001b[0m         \u001b[0msignature\u001b[0m \u001b[0;34m=\u001b[0m \u001b[0;34m'D->DdD'\u001b[0m \u001b[0;32mif\u001b[0m \u001b[0misComplexType\u001b[0m\u001b[0;34m(\u001b[0m\u001b[0mt\u001b[0m\u001b[0;34m)\u001b[0m \u001b[0;32melse\u001b[0m \u001b[0;34m'd->ddd'\u001b[0m\u001b[0;34m\u001b[0m\u001b[0;34m\u001b[0m\u001b[0m\n\u001b[0;32m-> 1626\u001b[0;31m         \u001b[0mu\u001b[0m\u001b[0;34m,\u001b[0m \u001b[0ms\u001b[0m\u001b[0;34m,\u001b[0m \u001b[0mvh\u001b[0m \u001b[0;34m=\u001b[0m \u001b[0mgufunc\u001b[0m\u001b[0;34m(\u001b[0m\u001b[0ma\u001b[0m\u001b[0;34m,\u001b[0m \u001b[0msignature\u001b[0m\u001b[0;34m=\u001b[0m\u001b[0msignature\u001b[0m\u001b[0;34m,\u001b[0m \u001b[0mextobj\u001b[0m\u001b[0;34m=\u001b[0m\u001b[0mextobj\u001b[0m\u001b[0;34m)\u001b[0m\u001b[0;34m\u001b[0m\u001b[0;34m\u001b[0m\u001b[0m\n\u001b[0m\u001b[1;32m   1627\u001b[0m         \u001b[0mu\u001b[0m \u001b[0;34m=\u001b[0m \u001b[0mu\u001b[0m\u001b[0;34m.\u001b[0m\u001b[0mastype\u001b[0m\u001b[0;34m(\u001b[0m\u001b[0mresult_t\u001b[0m\u001b[0;34m,\u001b[0m \u001b[0mcopy\u001b[0m\u001b[0;34m=\u001b[0m\u001b[0;32mFalse\u001b[0m\u001b[0;34m)\u001b[0m\u001b[0;34m\u001b[0m\u001b[0;34m\u001b[0m\u001b[0m\n\u001b[1;32m   1628\u001b[0m         \u001b[0ms\u001b[0m \u001b[0;34m=\u001b[0m \u001b[0ms\u001b[0m\u001b[0;34m.\u001b[0m\u001b[0mastype\u001b[0m\u001b[0;34m(\u001b[0m\u001b[0m_realType\u001b[0m\u001b[0;34m(\u001b[0m\u001b[0mresult_t\u001b[0m\u001b[0;34m)\u001b[0m\u001b[0;34m,\u001b[0m \u001b[0mcopy\u001b[0m\u001b[0;34m=\u001b[0m\u001b[0;32mFalse\u001b[0m\u001b[0;34m)\u001b[0m\u001b[0;34m\u001b[0m\u001b[0;34m\u001b[0m\u001b[0m\n",
      "\u001b[0;32m/anaconda3/envs/learn-env/lib/python3.6/site-packages/numpy/linalg/linalg.py\u001b[0m in \u001b[0;36m_raise_linalgerror_svd_nonconvergence\u001b[0;34m(err, flag)\u001b[0m\n\u001b[1;32m    104\u001b[0m \u001b[0;34m\u001b[0m\u001b[0m\n\u001b[1;32m    105\u001b[0m \u001b[0;32mdef\u001b[0m \u001b[0m_raise_linalgerror_svd_nonconvergence\u001b[0m\u001b[0;34m(\u001b[0m\u001b[0merr\u001b[0m\u001b[0;34m,\u001b[0m \u001b[0mflag\u001b[0m\u001b[0;34m)\u001b[0m\u001b[0;34m:\u001b[0m\u001b[0;34m\u001b[0m\u001b[0;34m\u001b[0m\u001b[0m\n\u001b[0;32m--> 106\u001b[0;31m     \u001b[0;32mraise\u001b[0m \u001b[0mLinAlgError\u001b[0m\u001b[0;34m(\u001b[0m\u001b[0;34m\"SVD did not converge\"\u001b[0m\u001b[0;34m)\u001b[0m\u001b[0;34m\u001b[0m\u001b[0;34m\u001b[0m\u001b[0m\n\u001b[0m\u001b[1;32m    107\u001b[0m \u001b[0;34m\u001b[0m\u001b[0m\n\u001b[1;32m    108\u001b[0m \u001b[0;32mdef\u001b[0m \u001b[0m_raise_linalgerror_lstsq\u001b[0m\u001b[0;34m(\u001b[0m\u001b[0merr\u001b[0m\u001b[0;34m,\u001b[0m \u001b[0mflag\u001b[0m\u001b[0;34m)\u001b[0m\u001b[0;34m:\u001b[0m\u001b[0;34m\u001b[0m\u001b[0;34m\u001b[0m\u001b[0m\n",
      "\u001b[0;31mLinAlgError\u001b[0m: SVD did not converge"
     ]
    }
   ],
   "source": [
    "model_arima3_1_2 = ARIMA(df_train.nat_Confirmed, order=(3,1,2))\n",
    "results_arima3_1_2 = model_arima3_1_2.fit()"
   ]
  },
  {
   "cell_type": "code",
   "execution_count": 82,
   "metadata": {},
   "outputs": [
    {
     "name": "stderr",
     "output_type": "stream",
     "text": [
      "/anaconda3/envs/learn-env/lib/python3.6/site-packages/statsmodels/base/model.py:568: ConvergenceWarning: Maximum Likelihood optimization failed to converge. Check mle_retvals\n",
      "  \"Check mle_retvals\", ConvergenceWarning)\n"
     ]
    }
   ],
=======
   "execution_count": 32,
   "metadata": {},
   "outputs": [],
>>>>>>> a40f3019ece5336afa0fd70f70bf0cb776ac90b4
   "source": [
    "model_sarimax = SARIMAX(df_train.Confirmed, order = (4,1,7))\n",
    "results_sarimax = model_sarimax.fit()"
   ]
  },
  {
   "cell_type": "code",
   "execution_count": 83,
   "metadata": {},
   "outputs": [
    {
     "data": {
      "text/html": [
       "<table class=\"simpletable\">\n",
       "<caption>SARIMAX Results</caption>\n",
       "<tr>\n",
       "  <th>Dep. Variable:</th>       <td>Confirmed</td>    <th>  No. Observations:  </th>    <td>48</td>   \n",
       "</tr>\n",
       "<tr>\n",
       "  <th>Model:</th>           <td>SARIMAX(4, 1, 7)</td> <th>  Log Likelihood     </th> <td>-460.543</td>\n",
       "</tr>\n",
       "<tr>\n",
       "  <th>Date:</th>            <td>Thu, 26 Mar 2020</td> <th>  AIC                </th>  <td>945.087</td>\n",
       "</tr>\n",
       "<tr>\n",
       "  <th>Time:</th>                <td>15:28:51</td>     <th>  BIC                </th>  <td>967.288</td>\n",
       "</tr>\n",
       "<tr>\n",
       "  <th>Sample:</th>             <td>01-22-2020</td>    <th>  HQIC               </th>  <td>953.441</td>\n",
       "</tr>\n",
       "<tr>\n",
       "  <th></th>                   <td>- 03-09-2020</td>   <th>                     </th>     <td> </td>   \n",
       "</tr>\n",
       "<tr>\n",
       "  <th>Covariance Type:</th>        <td>opg</td>       <th>                     </th>     <td> </td>   \n",
       "</tr>\n",
       "</table>\n",
       "<table class=\"simpletable\">\n",
       "<tr>\n",
       "     <td></td>       <th>coef</th>     <th>std err</th>      <th>z</th>      <th>P>|z|</th>  <th>[0.025</th>    <th>0.975]</th>  \n",
       "</tr>\n",
       "<tr>\n",
       "  <th>ar.L1</th>  <td>   -0.3538</td> <td>    0.530</td> <td>   -0.667</td> <td> 0.505</td> <td>   -1.393</td> <td>    0.686</td>\n",
       "</tr>\n",
       "<tr>\n",
       "  <th>ar.L2</th>  <td>    1.1923</td> <td>    0.429</td> <td>    2.779</td> <td> 0.005</td> <td>    0.351</td> <td>    2.033</td>\n",
       "</tr>\n",
       "<tr>\n",
       "  <th>ar.L3</th>  <td>    0.6214</td> <td>    0.431</td> <td>    1.440</td> <td> 0.150</td> <td>   -0.224</td> <td>    1.467</td>\n",
       "</tr>\n",
       "<tr>\n",
       "  <th>ar.L4</th>  <td>   -0.4599</td> <td>    0.524</td> <td>   -0.878</td> <td> 0.380</td> <td>   -1.486</td> <td>    0.566</td>\n",
       "</tr>\n",
       "<tr>\n",
       "  <th>ma.L1</th>  <td>    0.7598</td> <td>    3.671</td> <td>    0.207</td> <td> 0.836</td> <td>   -6.436</td> <td>    7.955</td>\n",
       "</tr>\n",
       "<tr>\n",
       "  <th>ma.L2</th>  <td>   -0.9713</td> <td>    3.591</td> <td>   -0.270</td> <td> 0.787</td> <td>   -8.010</td> <td>    6.068</td>\n",
       "</tr>\n",
       "<tr>\n",
       "  <th>ma.L3</th>  <td>   -0.9296</td> <td>    0.865</td> <td>   -1.075</td> <td> 0.282</td> <td>   -2.625</td> <td>    0.765</td>\n",
       "</tr>\n",
       "<tr>\n",
       "  <th>ma.L4</th>  <td>    0.3607</td> <td>    0.619</td> <td>    0.582</td> <td> 0.560</td> <td>   -0.853</td> <td>    1.575</td>\n",
       "</tr>\n",
       "<tr>\n",
       "  <th>ma.L5</th>  <td>    0.0878</td> <td>    0.849</td> <td>    0.103</td> <td> 0.918</td> <td>   -1.577</td> <td>    1.752</td>\n",
       "</tr>\n",
       "<tr>\n",
       "  <th>ma.L6</th>  <td>   -0.2194</td> <td>    0.320</td> <td>   -0.686</td> <td> 0.493</td> <td>   -0.847</td> <td>    0.408</td>\n",
       "</tr>\n",
       "<tr>\n",
       "  <th>ma.L7</th>  <td>   -0.0788</td> <td>    0.137</td> <td>   -0.573</td> <td> 0.567</td> <td>   -0.348</td> <td>    0.191</td>\n",
       "</tr>\n",
       "<tr>\n",
       "  <th>sigma2</th> <td> 1.226e+06</td> <td> 3.75e-06</td> <td> 3.27e+11</td> <td> 0.000</td> <td> 1.23e+06</td> <td> 1.23e+06</td>\n",
       "</tr>\n",
       "</table>\n",
       "<table class=\"simpletable\">\n",
       "<tr>\n",
       "  <th>Ljung-Box (Q):</th>          <td>9.55</td> <th>  Jarque-Bera (JB):  </th> <td>1100.65</td>\n",
       "</tr>\n",
       "<tr>\n",
       "  <th>Prob(Q):</th>                <td>1.00</td> <th>  Prob(JB):          </th>  <td>0.00</td>  \n",
       "</tr>\n",
       "<tr>\n",
       "  <th>Heteroskedasticity (H):</th> <td>0.85</td> <th>  Skew:              </th>  <td>4.19</td>  \n",
       "</tr>\n",
       "<tr>\n",
       "  <th>Prob(H) (two-sided):</th>    <td>0.75</td> <th>  Kurtosis:          </th>  <td>25.18</td> \n",
       "</tr>\n",
       "</table><br/><br/>Warnings:<br/>[1] Covariance matrix calculated using the outer product of gradients (complex-step).<br/>[2] Covariance matrix is singular or near-singular, with condition number 5.12e+28. Standard errors may be unstable."
      ],
      "text/plain": [
       "<class 'statsmodels.iolib.summary.Summary'>\n",
       "\"\"\"\n",
       "                               SARIMAX Results                                \n",
       "==============================================================================\n",
       "Dep. Variable:              Confirmed   No. Observations:                   48\n",
       "Model:               SARIMAX(4, 1, 7)   Log Likelihood                -460.543\n",
       "Date:                Thu, 26 Mar 2020   AIC                            945.087\n",
       "Time:                        15:28:51   BIC                            967.288\n",
       "Sample:                    01-22-2020   HQIC                           953.441\n",
       "                         - 03-09-2020                                         \n",
       "Covariance Type:                  opg                                         \n",
       "==============================================================================\n",
       "                 coef    std err          z      P>|z|      [0.025      0.975]\n",
       "------------------------------------------------------------------------------\n",
       "ar.L1         -0.3538      0.530     -0.667      0.505      -1.393       0.686\n",
       "ar.L2          1.1923      0.429      2.779      0.005       0.351       2.033\n",
       "ar.L3          0.6214      0.431      1.440      0.150      -0.224       1.467\n",
       "ar.L4         -0.4599      0.524     -0.878      0.380      -1.486       0.566\n",
       "ma.L1          0.7598      3.671      0.207      0.836      -6.436       7.955\n",
       "ma.L2         -0.9713      3.591     -0.270      0.787      -8.010       6.068\n",
       "ma.L3         -0.9296      0.865     -1.075      0.282      -2.625       0.765\n",
       "ma.L4          0.3607      0.619      0.582      0.560      -0.853       1.575\n",
       "ma.L5          0.0878      0.849      0.103      0.918      -1.577       1.752\n",
       "ma.L6         -0.2194      0.320     -0.686      0.493      -0.847       0.408\n",
       "ma.L7         -0.0788      0.137     -0.573      0.567      -0.348       0.191\n",
       "sigma2      1.226e+06   3.75e-06   3.27e+11      0.000    1.23e+06    1.23e+06\n",
       "===================================================================================\n",
       "Ljung-Box (Q):                        9.55   Jarque-Bera (JB):              1100.65\n",
       "Prob(Q):                              1.00   Prob(JB):                         0.00\n",
       "Heteroskedasticity (H):               0.85   Skew:                             4.19\n",
       "Prob(H) (two-sided):                  0.75   Kurtosis:                        25.18\n",
       "===================================================================================\n",
       "\n",
       "Warnings:\n",
       "[1] Covariance matrix calculated using the outer product of gradients (complex-step).\n",
       "[2] Covariance matrix is singular or near-singular, with condition number 5.12e+28. Standard errors may be unstable.\n",
       "\"\"\""
      ]
     },
     "execution_count": 83,
     "metadata": {},
     "output_type": "execute_result"
    }
   ],
   "source": [
    "results_sarimax.summary()"
   ]
  },
  {
   "cell_type": "markdown",
   "metadata": {},
   "source": [
    "model_arima1_1_2 = ARIMA(df_train.Confirmed, order=(1,1,2))\n",
    "results_arima1_1_2 = model_arima1_1_2.fit()\n",
    "model_arima1_1_3 = ARIMA(df_train.Confirmed, order=(1,1,3))\n",
    "results_arima1_1_3 = model_arima1_1_3.fit()\n",
    "model_arima2_1_1 = ARIMA(df_train.Confirmed, order=(2,1,1))\n",
    "results_arima2_1_1 = model_arima2_1_1.fit()\n",
    "model_arima3_1_1 = ARIMA(df_train.Confirmed, order=(3,1,1))\n",
    "results_arima3_1_1 = model_arima3_1_1.fit()\n",
    "model_arima3_1_2 = ARIMA(df_train.Confirmed, order=(3,1,2))\n",
    "results_arima3_1_2 = model_arima3_1_2.fit(start_ar_lags=5)"
   ]
  },
  {
   "cell_type": "code",
<<<<<<< HEAD
   "execution_count": 40,
=======
   "execution_count": 33,
>>>>>>> a40f3019ece5336afa0fd70f70bf0cb776ac90b4
   "metadata": {},
   "outputs": [
    {
     "name": "stdout",
     "output_type": "stream",
     "text": [
<<<<<<< HEAD
      "ARIMA(1,1,1):  \t LL =  43.70331944423117 \t AIC =  -79.40663888846234\n",
      "ARIMA(1,1,2):  \t LL =  44.923096440271976 \t AIC =  -79.84619288054395\n",
      "ARIMA(1,1,3):  \t LL =  45.087740959028636 \t AIC =  -78.17548191805727\n",
      "ARIMA(2,1,1):  \t LL =  37.72318302718159 \t AIC =  -65.44636605436318\n",
      "ARIMA(3,1,1):  \t LL =  44.018967575663595 \t AIC =  -76.03793515132719\n"
=======
      "ARIMA(1,1,1):  \t LL =  -428.57326205771506 \t AIC =  865.1465241154301\n",
      "ARIMA(1,1,2):  \t LL =  -428.4504878916209 \t AIC =  866.9009757832418\n",
      "ARIMA(1,1,3):  \t LL =  -428.321146354043 \t AIC =  868.642292708086\n",
      "ARIMA(2,1,1):  \t LL =  -428.49865175731236 \t AIC =  866.9973035146247\n"
>>>>>>> a40f3019ece5336afa0fd70f70bf0cb776ac90b4
     ]
    }
   ],
   "source": [
    "print(\"ARIMA(1,1,1):  \\t LL = \", results_arima1_1_1.llf, \"\\t AIC = \", results_arima1_1_1.aic)\n",
    "print(\"ARIMA(1,1,2):  \\t LL = \", results_arima1_1_2.llf, \"\\t AIC = \", results_arima1_1_2.aic)\n",
    "print(\"ARIMA(1,1,3):  \\t LL = \", results_arima1_1_3.llf, \"\\t AIC = \", results_arima1_1_3.aic)\n",
    "print(\"ARIMA(2,1,1):  \\t LL = \", results_arima2_1_1.llf, \"\\t AIC = \", results_arima2_1_1.aic)\n",
    "print(\"ARIMA(3,1,1):  \\t LL = \", results_arima3_1_1.llf, \"\\t AIC = \", results_arima3_1_1.aic)\n",
    "# print(\"ARIMA(3,1,2):  \\t LL = \", results_arima3_1_2.llf, \"\\t AIC = \", results_arima3_1_2.aic)"
   ]
  },
  {
   "cell_type": "code",
   "execution_count": null,
   "metadata": {
    "scrolled": true
   },
   "outputs": [],
   "source": [
    "df_train.head(20)"
   ]
  },
  {
   "cell_type": "code",
   "execution_count": 75,
   "metadata": {},
   "outputs": [],
   "source": [
    "start_date = \"2020-03-09\"\n",
    "end_date = \"2021-01-04\""
   ]
  },
  {
   "cell_type": "code",
   "execution_count": 84,
   "metadata": {},
   "outputs": [],
   "source": [
    "df_pred = results_sarimax.predict(start= start_date, end= end_date)"
   ]
  },
  {
   "cell_type": "code",
   "execution_count": 85,
   "metadata": {},
   "outputs": [
    {
     "data": {
      "image/png": "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\n",
      "text/plain": [
       "<Figure size 1440x360 with 1 Axes>"
      ]
     },
     "metadata": {
      "needs_background": "light"
     },
     "output_type": "display_data"
    }
   ],
   "source": [
    "df_pred[start_date:end_date].plot(figsize = (20,5), color = \"red\")\n",
    "df_test.Confirmed[start_date:end_date].plot(color = \"blue\")\n",
    "plt.title(\"Predictions vs Actual\", size = 24)\n",
    "plt.show()"
   ]
  },
  {
   "cell_type": "code",
   "execution_count": null,
   "metadata": {},
   "outputs": [],
   "source": []
  },
  {
   "cell_type": "markdown",
   "metadata": {},
   "source": [
    "##### Residuals of Arima(1,1,1)"
   ]
  },
  {
   "cell_type": "code",
   "execution_count": null,
   "metadata": {},
   "outputs": [],
   "source": []
  },
  {
   "cell_type": "code",
   "execution_count": 34,
   "metadata": {},
   "outputs": [
    {
     "ename": "ValueError",
     "evalue": "The computed initial AR coefficients are not stationary\nYou should induce stationarity, choose a different model order, or you can\npass your own start_params.",
     "output_type": "error",
     "traceback": [
      "\u001b[0;31m---------------------------------------------------------------------------\u001b[0m",
      "\u001b[0;31mValueError\u001b[0m                                Traceback (most recent call last)",
      "\u001b[0;32m<ipython-input-34-a99443a8ca36>\u001b[0m in \u001b[0;36m<module>\u001b[0;34m\u001b[0m\n\u001b[1;32m      1\u001b[0m \u001b[0mmodel_arima1_1_1\u001b[0m \u001b[0;34m=\u001b[0m \u001b[0mARIMA\u001b[0m\u001b[0;34m(\u001b[0m\u001b[0mbydate\u001b[0m\u001b[0;34m.\u001b[0m\u001b[0mConfirmed\u001b[0m\u001b[0;34m,\u001b[0m \u001b[0morder\u001b[0m\u001b[0;34m=\u001b[0m\u001b[0;34m(\u001b[0m\u001b[0;36m1\u001b[0m\u001b[0;34m,\u001b[0m\u001b[0;36m1\u001b[0m\u001b[0;34m,\u001b[0m\u001b[0;36m1\u001b[0m\u001b[0;34m)\u001b[0m\u001b[0;34m)\u001b[0m\u001b[0;34m\u001b[0m\u001b[0;34m\u001b[0m\u001b[0m\n\u001b[0;32m----> 2\u001b[0;31m \u001b[0mresults_arima1_1_1\u001b[0m \u001b[0;34m=\u001b[0m \u001b[0mmodel_arima1_1_1\u001b[0m\u001b[0;34m.\u001b[0m\u001b[0mfit\u001b[0m\u001b[0;34m(\u001b[0m\u001b[0;34m)\u001b[0m\u001b[0;34m\u001b[0m\u001b[0;34m\u001b[0m\u001b[0m\n\u001b[0m\u001b[1;32m      3\u001b[0m \u001b[0mresults_arima1_1_1\u001b[0m\u001b[0;34m.\u001b[0m\u001b[0msummary\u001b[0m\u001b[0;34m(\u001b[0m\u001b[0;34m)\u001b[0m\u001b[0;34m\u001b[0m\u001b[0;34m\u001b[0m\u001b[0m\n",
      "\u001b[0;32m/opt/anaconda3/envs/learn-env/lib/python3.6/site-packages/statsmodels/tsa/arima_model.py\u001b[0m in \u001b[0;36mfit\u001b[0;34m(self, start_params, trend, method, transparams, solver, maxiter, full_output, disp, callback, start_ar_lags, **kwargs)\u001b[0m\n\u001b[1;32m   1198\u001b[0m                                         \u001b[0mmethod\u001b[0m\u001b[0;34m,\u001b[0m \u001b[0mtransparams\u001b[0m\u001b[0;34m,\u001b[0m \u001b[0msolver\u001b[0m\u001b[0;34m,\u001b[0m\u001b[0;34m\u001b[0m\u001b[0;34m\u001b[0m\u001b[0m\n\u001b[1;32m   1199\u001b[0m                                         \u001b[0mmaxiter\u001b[0m\u001b[0;34m,\u001b[0m \u001b[0mfull_output\u001b[0m\u001b[0;34m,\u001b[0m \u001b[0mdisp\u001b[0m\u001b[0;34m,\u001b[0m\u001b[0;34m\u001b[0m\u001b[0;34m\u001b[0m\u001b[0m\n\u001b[0;32m-> 1200\u001b[0;31m                                         callback, start_ar_lags, **kwargs)\n\u001b[0m\u001b[1;32m   1201\u001b[0m         \u001b[0mnormalized_cov_params\u001b[0m \u001b[0;34m=\u001b[0m \u001b[0;32mNone\u001b[0m  \u001b[0;31m# TODO: fix this?\u001b[0m\u001b[0;34m\u001b[0m\u001b[0;34m\u001b[0m\u001b[0m\n\u001b[1;32m   1202\u001b[0m         arima_fit = ARIMAResults(self, mlefit._results.params,\n",
      "\u001b[0;32m/opt/anaconda3/envs/learn-env/lib/python3.6/site-packages/statsmodels/tsa/arima_model.py\u001b[0m in \u001b[0;36mfit\u001b[0;34m(self, start_params, trend, method, transparams, solver, maxiter, full_output, disp, callback, start_ar_lags, **kwargs)\u001b[0m\n\u001b[1;32m    984\u001b[0m         \u001b[0;32melse\u001b[0m\u001b[0;34m:\u001b[0m  \u001b[0;31m# estimate starting parameters\u001b[0m\u001b[0;34m\u001b[0m\u001b[0;34m\u001b[0m\u001b[0m\n\u001b[1;32m    985\u001b[0m             start_params = self._fit_start_params((k_ar, k_ma, k), method,\n\u001b[0;32m--> 986\u001b[0;31m                                                   start_ar_lags)\n\u001b[0m\u001b[1;32m    987\u001b[0m \u001b[0;34m\u001b[0m\u001b[0m\n\u001b[1;32m    988\u001b[0m         \u001b[0;32mif\u001b[0m \u001b[0mtransparams\u001b[0m\u001b[0;34m:\u001b[0m  \u001b[0;31m# transform initial parameters to ensure invertibility\u001b[0m\u001b[0;34m\u001b[0m\u001b[0;34m\u001b[0m\u001b[0m\n",
      "\u001b[0;32m/opt/anaconda3/envs/learn-env/lib/python3.6/site-packages/statsmodels/tsa/arima_model.py\u001b[0m in \u001b[0;36m_fit_start_params\u001b[0;34m(self, order, method, start_ar_lags)\u001b[0m\n\u001b[1;32m    575\u001b[0m                 \u001b[0;32mreturn\u001b[0m \u001b[0;34m-\u001b[0m\u001b[0mself\u001b[0m\u001b[0;34m.\u001b[0m\u001b[0mloglike_css\u001b[0m\u001b[0;34m(\u001b[0m\u001b[0mparams\u001b[0m\u001b[0;34m)\u001b[0m\u001b[0;34m\u001b[0m\u001b[0;34m\u001b[0m\u001b[0m\n\u001b[1;32m    576\u001b[0m \u001b[0;34m\u001b[0m\u001b[0m\n\u001b[0;32m--> 577\u001b[0;31m             \u001b[0mstart_params\u001b[0m \u001b[0;34m=\u001b[0m \u001b[0mself\u001b[0m\u001b[0;34m.\u001b[0m\u001b[0m_fit_start_params_hr\u001b[0m\u001b[0;34m(\u001b[0m\u001b[0morder\u001b[0m\u001b[0;34m,\u001b[0m \u001b[0mstart_ar_lags\u001b[0m\u001b[0;34m)\u001b[0m\u001b[0;34m\u001b[0m\u001b[0;34m\u001b[0m\u001b[0m\n\u001b[0m\u001b[1;32m    578\u001b[0m             \u001b[0;32mif\u001b[0m \u001b[0mself\u001b[0m\u001b[0;34m.\u001b[0m\u001b[0mtransparams\u001b[0m\u001b[0;34m:\u001b[0m\u001b[0;34m\u001b[0m\u001b[0;34m\u001b[0m\u001b[0m\n\u001b[1;32m    579\u001b[0m                 \u001b[0mstart_params\u001b[0m \u001b[0;34m=\u001b[0m \u001b[0mself\u001b[0m\u001b[0;34m.\u001b[0m\u001b[0m_invtransparams\u001b[0m\u001b[0;34m(\u001b[0m\u001b[0mstart_params\u001b[0m\u001b[0;34m)\u001b[0m\u001b[0;34m\u001b[0m\u001b[0;34m\u001b[0m\u001b[0m\n",
      "\u001b[0;32m/opt/anaconda3/envs/learn-env/lib/python3.6/site-packages/statsmodels/tsa/arima_model.py\u001b[0m in \u001b[0;36m_fit_start_params_hr\u001b[0;34m(self, order, start_ar_lags)\u001b[0m\n\u001b[1;32m    553\u001b[0m         if p and not np.all(np.abs(np.roots(np.r_[1, -start_params[k:k + p]]\n\u001b[1;32m    554\u001b[0m                                             )) < 1):\n\u001b[0;32m--> 555\u001b[0;31m             raise ValueError(\"The computed initial AR coefficients are not \"\n\u001b[0m\u001b[1;32m    556\u001b[0m                              \u001b[0;34m\"stationary\\nYou should induce stationarity, \"\u001b[0m\u001b[0;34m\u001b[0m\u001b[0;34m\u001b[0m\u001b[0m\n\u001b[1;32m    557\u001b[0m                              \u001b[0;34m\"choose a different model order, or you can\\n\"\u001b[0m\u001b[0;34m\u001b[0m\u001b[0;34m\u001b[0m\u001b[0m\n",
      "\u001b[0;31mValueError\u001b[0m: The computed initial AR coefficients are not stationary\nYou should induce stationarity, choose a different model order, or you can\npass your own start_params."
     ]
    }
   ],
   "source": [
    "model_arima1_1_1 = ARIMA(bydate.Confirmed, order=(1,1,1))\n",
    "results_arima1_1_1 = model_arima1_1_1.fit()\n",
    "results_arima1_1_1.summary()"
   ]
  },
  {
   "cell_type": "markdown",
   "metadata": {},
   "source": [
    "#### Final Model"
   ]
  }
 ],
 "metadata": {
  "kernelspec": {
   "display_name": "Python 3",
   "language": "python",
   "name": "python3"
  },
  "language_info": {
   "codemirror_mode": {
    "name": "ipython",
    "version": 3
   },
   "file_extension": ".py",
   "mimetype": "text/x-python",
   "name": "python",
   "nbconvert_exporter": "python",
   "pygments_lexer": "ipython3",
   "version": "3.6.9"
  },
  "toc": {
   "base_numbering": 1,
   "nav_menu": {},
   "number_sections": true,
   "sideBar": true,
   "skip_h1_title": false,
   "title_cell": "Table of Contents",
   "title_sidebar": "Contents",
   "toc_cell": false,
   "toc_position": {
    "height": "calc(100% - 180px)",
    "left": "10px",
    "top": "150px",
    "width": "209.261px"
   },
   "toc_section_display": true,
   "toc_window_display": true
  }
 },
 "nbformat": 4,
 "nbformat_minor": 2
}
