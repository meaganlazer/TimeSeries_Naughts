{
 "cells": [
  {
   "cell_type": "markdown",
   "metadata": {
    "heading_collapsed": true
   },
   "source": [
    "#### Imports "
   ]
  },
  {
   "cell_type": "code",
   "execution_count": 1,
   "metadata": {
    "hidden": true
   },
   "outputs": [],
   "source": [
    "# import libraries\n",
    "import pandas as pd\n",
    "from scipy import stats\n",
    "from scipy.stats import norm\n",
    "import seaborn as sns\n",
    "import numpy as np\n",
    "import matplotlib.pyplot as plt\n",
    "from pylab import rcParams\n",
    "import statsmodels.tsa.stattools as sts \n",
    "import statsmodels.graphics.tsaplots as sgt\n",
    "from statsmodels.tsa.arima_model import ARMA\n",
    "from statsmodels.tsa.arima_model import ARIMA\n",
    "from statsmodels.tsa.statespace.sarimax import SARIMAX\n",
    "from scipy.stats.distributions import chi2\n",
    "from datetime import timedelta\n",
    "import statsmodels.api as sm\n",
    "rcParams['figure.figsize'] = 12, 7\n",
    "%matplotlib inline"
   ]
  },
  {
   "cell_type": "markdown",
   "metadata": {
    "hidden": true
   },
   "source": [
    "##### Load Dataset"
   ]
  },
  {
   "cell_type": "code",
   "execution_count": 2,
   "metadata": {
    "hidden": true
   },
   "outputs": [],
   "source": [
    "df = pd.read_csv('covid_19_data.csv')"
   ]
  },
  {
   "cell_type": "markdown",
   "metadata": {},
   "source": [
    "#### Data Cleaning "
   ]
  },
  {
   "cell_type": "code",
   "execution_count": 3,
   "metadata": {},
   "outputs": [
    {
     "name": "stdout",
     "output_type": "stream",
     "text": [
      "<class 'pandas.core.frame.DataFrame'>\n",
      "RangeIndex: 8509 entries, 0 to 8508\n",
      "Data columns (total 8 columns):\n",
      " #   Column           Non-Null Count  Dtype  \n",
      "---  ------           --------------  -----  \n",
      " 0   SNo              8509 non-null   int64  \n",
      " 1   ObservationDate  8509 non-null   object \n",
      " 2   Province/State   4761 non-null   object \n",
      " 3   Country/Region   8509 non-null   object \n",
      " 4   Last Update      8509 non-null   object \n",
      " 5   Confirmed        8509 non-null   float64\n",
      " 6   Deaths           8509 non-null   float64\n",
      " 7   Recovered        8509 non-null   float64\n",
      "dtypes: float64(3), int64(1), object(4)\n",
      "memory usage: 531.9+ KB\n"
     ]
    }
   ],
   "source": [
    "df.info()"
   ]
  },
  {
   "cell_type": "code",
   "execution_count": 4,
   "metadata": {},
   "outputs": [
    {
     "data": {
      "text/plain": [
       "SNo                   0\n",
       "ObservationDate       0\n",
       "Province/State     3748\n",
       "Country/Region        0\n",
       "Last Update           0\n",
       "Confirmed             0\n",
       "Deaths                0\n",
       "Recovered             0\n",
       "dtype: int64"
      ]
     },
     "execution_count": 4,
     "metadata": {},
     "output_type": "execute_result"
    }
   ],
   "source": [
    "df.isnull().sum()"
   ]
  },
  {
   "cell_type": "code",
   "execution_count": 5,
   "metadata": {
    "scrolled": true
   },
   "outputs": [
    {
     "data": {
      "text/plain": [
       "array(['Anhui', 'Beijing', 'Chongqing', 'Fujian', 'Gansu', 'Guangdong',\n",
       "       'Guangxi', 'Guizhou', 'Hainan', 'Hebei', 'Heilongjiang', 'Henan',\n",
       "       'Hong Kong', 'Hubei', 'Hunan', 'Inner Mongolia', 'Jiangsu',\n",
       "       'Jiangxi', 'Jilin', 'Liaoning', 'Macau', 'Ningxia', 'Qinghai',\n",
       "       'Shaanxi', 'Shandong', 'Shanghai', 'Shanxi', 'Sichuan', 'Taiwan',\n",
       "       'Tianjin', 'Tibet', 'Washington', 'Xinjiang', 'Yunnan', 'Zhejiang',\n",
       "       nan, 'Chicago', 'Illinois', 'California', 'Arizona', 'Ontario',\n",
       "       'New South Wales', 'Victoria', 'British Columbia', 'Bavaria',\n",
       "       'Queensland', 'Chicago, IL', 'South Australia', 'Boston, MA',\n",
       "       'Los Angeles, CA', 'Orange, CA', 'Santa Clara, CA', 'Seattle, WA',\n",
       "       'Tempe, AZ', 'San Benito, CA', 'Toronto, ON', 'London, ON',\n",
       "       'Madison, WI', 'Cruise Ship', 'Diamond Princess cruise ship',\n",
       "       'San Diego County, CA', 'San Antonio, TX', 'Ashland, NE',\n",
       "       'Travis, CA', 'From Diamond Princess', 'Lackland, TX', 'None',\n",
       "       'Humboldt County, CA', 'Sacramento County, CA',\n",
       "       'Omaha, NE (From Diamond Princess)',\n",
       "       'Travis, CA (From Diamond Princess)',\n",
       "       'Lackland, TX (From Diamond Princess)',\n",
       "       'Unassigned Location (From Diamond Princess)', ' Montreal, QC',\n",
       "       'Western Australia', 'Portland, OR', 'Snohomish County, WA',\n",
       "       'Providence, RI', 'King County, WA', 'Cook County, IL', 'Tasmania',\n",
       "       'Grafton County, NH', 'Hillsborough, FL', 'New York City, NY',\n",
       "       'Placer County, CA', 'San Mateo, CA', 'Sarasota, FL',\n",
       "       'Sonoma County, CA', 'Umatilla, OR', 'Fulton County, GA',\n",
       "       'Washington County, OR', ' Norfolk County, MA', 'Berkeley, CA',\n",
       "       'Maricopa County, AZ', 'Wake County, NC', 'Westchester County, NY',\n",
       "       'Orange County, CA', 'Northern Territory',\n",
       "       'Contra Costa County, CA', 'Bergen County, NJ',\n",
       "       'Harris County, TX', 'San Francisco County, CA',\n",
       "       'Clark County, NV', 'Fort Bend County, TX', 'Grant County, WA',\n",
       "       'Queens County, NY', 'Santa Rosa County, FL',\n",
       "       'Williamson County, TN', 'New York County, NY',\n",
       "       'Unassigned Location, WA', 'Montgomery County, MD',\n",
       "       'Suffolk County, MA', 'Denver County, CO', 'Summit County, CO',\n",
       "       'Calgary, Alberta', 'Chatham County, NC', 'Delaware County, PA',\n",
       "       'Douglas County, NE', 'Fayette County, KY', 'Floyd County, GA',\n",
       "       'Marion County, IN', 'Middlesex County, MA', 'Nassau County, NY',\n",
       "       'Norwell County, MA', 'Ramsey County, MN', 'Washoe County, NV',\n",
       "       'Wayne County, PA', 'Yolo County, CA', 'Santa Clara County, CA',\n",
       "       'Grand Princess Cruise Ship', 'Douglas County, CO',\n",
       "       'Providence County, RI', 'Alameda County, CA',\n",
       "       'Broward County, FL', 'Fairfield County, CT', 'Lee County, FL',\n",
       "       'Pinal County, AZ', 'Rockland County, NY', 'Saratoga County, NY',\n",
       "       'Edmonton, Alberta', 'Charleston County, SC', 'Clark County, WA',\n",
       "       'Cobb County, GA', 'Davis County, UT', 'El Paso County, CO',\n",
       "       'Honolulu County, HI', 'Jackson County, OR ',\n",
       "       'Jefferson County, WA', 'Kershaw County, SC', 'Klamath County, OR',\n",
       "       'Madera County, CA', 'Pierce County, WA', 'Plymouth County, MA',\n",
       "       'Santa Cruz County, CA', 'Tulsa County, OK',\n",
       "       'Montgomery County, TX', 'Norfolk County, MA',\n",
       "       'Montgomery County, PA', 'Fairfax County, VA',\n",
       "       'Rockingham County, NH', 'Washington, D.C.',\n",
       "       'Berkshire County, MA', 'Davidson County, TN',\n",
       "       'Douglas County, OR', 'Fresno County, CA', 'Harford County, MD',\n",
       "       'Hendricks County, IN', 'Hudson County, NJ', 'Johnson County, KS',\n",
       "       'Kittitas County, WA', 'Manatee County, FL', 'Marion County, OR',\n",
       "       'Okaloosa County, FL', 'Polk County, GA', 'Riverside County, CA',\n",
       "       'Shelby County, TN', 'Spokane County, WA', 'St. Louis County, MO',\n",
       "       'Suffolk County, NY', 'Ulster County, NY',\n",
       "       'Unassigned Location, VT', 'Unknown Location, MA',\n",
       "       'Volusia County, FL', 'Alberta', 'Quebec', 'Johnson County, IA',\n",
       "       'Harrison County, KY', 'Bennington County, VT',\n",
       "       'Carver County, MN', 'Charlotte County, FL', 'Cherokee County, GA',\n",
       "       'Collin County, TX', 'Jefferson County, KY',\n",
       "       'Jefferson Parish, LA', 'Shasta County, CA',\n",
       "       'Spartanburg County, SC', 'New York', 'Massachusetts',\n",
       "       'Grand Princess', 'Georgia', 'Colorado', 'Florida', 'New Jersey',\n",
       "       'Oregon', 'Texas', 'Pennsylvania', 'Iowa', 'Maryland',\n",
       "       'North Carolina', 'South Carolina', 'Tennessee', 'Virginia',\n",
       "       'Indiana', 'Kentucky', 'District of Columbia', 'Nevada',\n",
       "       'New Hampshire', 'Minnesota', 'Nebraska', 'Ohio', 'Rhode Island',\n",
       "       'Wisconsin', 'Connecticut', 'Hawaii', 'Oklahoma', 'Utah', 'Kansas',\n",
       "       'Louisiana', 'Missouri', 'Vermont', 'Alaska', 'Arkansas',\n",
       "       'Delaware', 'Idaho', 'Maine', 'Michigan', 'Mississippi', 'Montana',\n",
       "       'New Mexico', 'North Dakota', 'South Dakota', 'West Virginia',\n",
       "       'Wyoming', 'France', 'UK', 'Denmark', 'Faroe Islands', 'St Martin',\n",
       "       'Channel Islands', 'New Brunswick', 'Saint Barthelemy',\n",
       "       'Gibraltar', 'Australian Capital Territory', 'United Kingdom',\n",
       "       'French Polynesia', 'Manitoba', 'Saskatchewan', 'Alabama',\n",
       "       'Fench Guiana', 'Puerto Rico', 'Virgin Islands, U.S.',\n",
       "       'French Guiana', 'Guam', 'Newfoundland and Labrador',\n",
       "       'Prince Edward Island', 'Mayotte', 'Netherlands', 'Nova Scotia',\n",
       "       'Guadeloupe', 'Curacao', 'Virgin Islands', 'Cayman Islands',\n",
       "       'Reunion', 'Aruba', 'United States Virgin Islands', 'US',\n",
       "       'Montserrat', 'Greenland', 'New Caledonia', 'Bermuda',\n",
       "       'Sint Maarten', 'Isle of Man', 'Northwest Territories',\n",
       "       'American Samoa', 'External territories', 'Jervis Bay Territory',\n",
       "       'Martinique', 'Northern Mariana Islands', 'Wuhan Evacuee',\n",
       "       'Recovered'], dtype=object)"
      ]
     },
     "execution_count": 5,
     "metadata": {},
     "output_type": "execute_result"
    }
   ],
   "source": [
    "df['Province/State'].unique()"
   ]
  },
  {
   "cell_type": "code",
   "execution_count": 6,
   "metadata": {},
   "outputs": [],
   "source": [
    "df[\"ObservationDate\"]=pd.to_datetime(df[\"ObservationDate\"])"
   ]
  },
  {
   "cell_type": "code",
   "execution_count": 7,
   "metadata": {},
   "outputs": [
    {
     "data": {
      "text/html": [
       "<div>\n",
       "<style scoped>\n",
       "    .dataframe tbody tr th:only-of-type {\n",
       "        vertical-align: middle;\n",
       "    }\n",
       "\n",
       "    .dataframe tbody tr th {\n",
       "        vertical-align: top;\n",
       "    }\n",
       "\n",
       "    .dataframe thead th {\n",
       "        text-align: right;\n",
       "    }\n",
       "</style>\n",
       "<table border=\"1\" class=\"dataframe\">\n",
       "  <thead>\n",
       "    <tr style=\"text-align: right;\">\n",
       "      <th></th>\n",
       "      <th>Confirmed</th>\n",
       "      <th>Recovered</th>\n",
       "      <th>Deaths</th>\n",
       "    </tr>\n",
       "    <tr>\n",
       "      <th>ObservationDate</th>\n",
       "      <th></th>\n",
       "      <th></th>\n",
       "      <th></th>\n",
       "    </tr>\n",
       "  </thead>\n",
       "  <tbody>\n",
       "    <tr>\n",
       "      <th>2020-01-22</th>\n",
       "      <td>555.0</td>\n",
       "      <td>28.0</td>\n",
       "      <td>17.0</td>\n",
       "    </tr>\n",
       "    <tr>\n",
       "      <th>2020-01-23</th>\n",
       "      <td>653.0</td>\n",
       "      <td>30.0</td>\n",
       "      <td>18.0</td>\n",
       "    </tr>\n",
       "    <tr>\n",
       "      <th>2020-01-24</th>\n",
       "      <td>941.0</td>\n",
       "      <td>36.0</td>\n",
       "      <td>26.0</td>\n",
       "    </tr>\n",
       "    <tr>\n",
       "      <th>2020-01-25</th>\n",
       "      <td>1438.0</td>\n",
       "      <td>39.0</td>\n",
       "      <td>42.0</td>\n",
       "    </tr>\n",
       "    <tr>\n",
       "      <th>2020-01-26</th>\n",
       "      <td>2118.0</td>\n",
       "      <td>52.0</td>\n",
       "      <td>56.0</td>\n",
       "    </tr>\n",
       "  </tbody>\n",
       "</table>\n",
       "</div>"
      ],
      "text/plain": [
       "                 Confirmed  Recovered  Deaths\n",
       "ObservationDate                              \n",
       "2020-01-22           555.0       28.0    17.0\n",
       "2020-01-23           653.0       30.0    18.0\n",
       "2020-01-24           941.0       36.0    26.0\n",
       "2020-01-25          1438.0       39.0    42.0\n",
       "2020-01-26          2118.0       52.0    56.0"
      ]
     },
     "execution_count": 7,
     "metadata": {},
     "output_type": "execute_result"
    }
   ],
   "source": [
    "bydate=df.groupby([\"ObservationDate\"]).agg({\"Confirmed\":'sum',\"Recovered\":'sum',\"Deaths\":'sum'})\n",
    "bydate.head()"
   ]
  },
  {
   "cell_type": "markdown",
   "metadata": {},
   "source": [
    "#### EDA "
   ]
  },
  {
   "cell_type": "code",
   "execution_count": 8,
   "metadata": {},
   "outputs": [
    {
     "name": "stdout",
     "output_type": "stream",
     "text": [
      "Basic Information\n",
      "Totol number of countries with Disease Spread:  205\n",
      "Total number of Confirmed Cases:  417966.0\n",
      "Total number of Recovered Cases:  107705.0\n",
      "Total number of Deaths Cases:  18615.0\n",
      "Total number of Active Cases around the World:  310261.0\n"
     ]
    }
   ],
   "source": [
    "print(\"Basic Information\")\n",
    "print(\"Totol number of countries with Disease Spread: \",len(df[\"Country/Region\"].unique()))\n",
    "print(\"Total number of Confirmed Cases: \",bydate[\"Confirmed\"].iloc[-1])\n",
    "print(\"Total number of Recovered Cases: \",bydate[\"Recovered\"].iloc[-1])\n",
    "print(\"Total number of Deaths Cases: \",bydate[\"Deaths\"].iloc[-1])\n",
    "print(\"Total number of Active Cases around the World: \",(bydate[\"Confirmed\"].iloc[-1]-bydate[\"Recovered\"].iloc[-1]))"
   ]
  },
  {
   "cell_type": "code",
   "execution_count": 9,
   "metadata": {},
   "outputs": [
    {
     "data": {
      "image/png": "[encoded data removed]",
      "text/plain": [
       "<Figure size 1440x360 with 1 Axes>"
      ]
     },
     "metadata": {
      "needs_background": "light"
     },
     "output_type": "display_data"
    }
   ],
   "source": [
    "bydate.Confirmed.plot(figsize = (20,5))\n",
    "plt.title(\"Confirmed Cases\", size= 24)\n",
    "plt.show()"
   ]
  },
  {
   "cell_type": "code",
   "execution_count": 10,
   "metadata": {},
   "outputs": [
    {
     "data": {
      "image/png": "[encoded data removed]",
      "text/plain": [
       "<Figure size 1440x360 with 1 Axes>"
      ]
     },
     "metadata": {
      "needs_background": "light"
     },
     "output_type": "display_data"
    }
   ],
   "source": [
    "bydate.Deaths.plot(figsize = (20,5))\n",
    "plt.title(\"Deaths\", size= 24)\n",
    "plt.show()"
   ]
  },
  {
   "cell_type": "code",
   "execution_count": 11,
   "metadata": {},
   "outputs": [
    {
     "data": {
      "image/png": "[encoded data removed]",
      "text/plain": [
       "<Figure size 1440x360 with 1 Axes>"
      ]
     },
     "metadata": {
      "needs_background": "light"
     },
     "output_type": "display_data"
    }
   ],
   "source": [
    "bydate.Recovered.plot(figsize = (20,5))\n",
    "plt.title(\"Recovery\", size= 24)\n",
    "plt.show()"
   ]
  },
  {
   "cell_type": "markdown",
   "metadata": {},
   "source": [
    "#### Models "
   ]
  },
  {
   "cell_type": "markdown",
   "metadata": {
    "heading_collapsed": true
   },
   "source": [
    "##### Train_test_split"
   ]
  },
  {
   "cell_type": "code",
   "execution_count": 12,
   "metadata": {
    "hidden": true
   },
   "outputs": [],
   "source": [
    "size = int(len(bydate)*0.8)"
   ]
  },
  {
   "cell_type": "code",
   "execution_count": 13,
   "metadata": {
    "hidden": true
   },
   "outputs": [],
   "source": [
    "df_train, df_test = bydate.iloc[:size], bydate.iloc[size:]"
   ]
  },
  {
   "cell_type": "code",
   "execution_count": 14,
   "metadata": {
    "hidden": true
   },
   "outputs": [],
   "source": [
    "y_pred = df_test.copy()"
   ]
  },
  {
   "cell_type": "code",
   "execution_count": 15,
   "metadata": {
    "hidden": true
   },
   "outputs": [],
   "source": [
    "log_series=np.log(df_train[\"Confirmed\"])"
   ]
  },
  {
   "cell_type": "code",
   "execution_count": 16,
   "metadata": {
    "hidden": true
   },
   "outputs": [],
   "source": [
    "log_deaths = np.log(df_train[\"Deaths\"])"
   ]
  },
  {
   "cell_type": "code",
   "execution_count": 17,
   "metadata": {
    "hidden": true
   },
   "outputs": [],
   "source": [
    "log_recover = np.log(df_train[\"Recovered\"])"
   ]
  },
  {
   "cell_type": "markdown",
   "metadata": {},
   "source": [
    "##### Dickey-fuller test "
   ]
  },
  {
   "cell_type": "markdown",
   "metadata": {
    "heading_collapsed": true
   },
   "source": [
    "###### Confirmed"
   ]
  },
  {
   "cell_type": "code",
   "execution_count": 18,
   "metadata": {
    "hidden": true,
    "scrolled": true
   },
   "outputs": [
    {
     "data": {
      "text/plain": [
       "(0.5121314298729323,\n",
       " 0.9852371943124696,\n",
       " 1,\n",
       " 48,\n",
       " {'1%': -3.5745892596209488,\n",
       "  '5%': -2.9239543084490744,\n",
       "  '10%': -2.6000391840277777},\n",
       " 706.3376933328723)"
      ]
     },
     "execution_count": 18,
     "metadata": {},
     "output_type": "execute_result"
    }
   ],
   "source": [
    "sts.adfuller(df_train.Confirmed)"
   ]
  },
  {
   "cell_type": "code",
   "execution_count": 19,
   "metadata": {
    "hidden": true
   },
   "outputs": [
    {
     "data": {
      "text/plain": [
       "(-9.595349512798009,\n",
       " 1.9851767635488026e-16,\n",
       " 0,\n",
       " 49,\n",
       " {'1%': -3.5714715250448363,\n",
       "  '5%': -2.922629480573571,\n",
       "  '10%': -2.5993358475635153},\n",
       " -127.31164931014973)"
      ]
     },
     "execution_count": 19,
     "metadata": {},
     "output_type": "execute_result"
    }
   ],
   "source": [
    "sts.adfuller(log_series)"
   ]
  },
  {
   "cell_type": "code",
   "execution_count": 20,
   "metadata": {
    "hidden": true
   },
   "outputs": [
    {
     "data": {
      "image/png": "[encoded data removed]",
      "text/plain": [
       "<Figure size 432x288 with 4 Axes>"
      ]
     },
     "metadata": {
      "needs_background": "light"
     },
     "output_type": "display_data"
    }
   ],
   "source": [
    "sm.tsa.seasonal_decompose(log_series).plot()\n",
    "plt.show()"
   ]
  },
  {
   "cell_type": "markdown",
   "metadata": {
    "heading_collapsed": true
   },
   "source": [
    "###### DEATH"
   ]
  },
  {
   "cell_type": "code",
   "execution_count": 21,
   "metadata": {
    "hidden": true
   },
   "outputs": [
    {
     "data": {
      "text/plain": [
       "(1.4813772495290378,\n",
       " 0.997454211158325,\n",
       " 2,\n",
       " 47,\n",
       " {'1%': -3.5778480370438146,\n",
       "  '5%': -2.925338105429433,\n",
       "  '10%': -2.6007735310095064},\n",
       " 424.6115470665611)"
      ]
     },
     "execution_count": 21,
     "metadata": {},
     "output_type": "execute_result"
    }
   ],
   "source": [
    "sts.adfuller(df_train.Deaths)"
   ]
  },
  {
   "cell_type": "code",
   "execution_count": 22,
   "metadata": {
    "hidden": true
   },
   "outputs": [
    {
     "data": {
      "text/plain": [
       "(-8.530075001750804,\n",
       " 1.0434480638787225e-13,\n",
       " 0,\n",
       " 49,\n",
       " {'1%': -3.5714715250448363,\n",
       "  '5%': -2.922629480573571,\n",
       "  '10%': -2.5993358475635153},\n",
       " -150.51257722516857)"
      ]
     },
     "execution_count": 22,
     "metadata": {},
     "output_type": "execute_result"
    }
   ],
   "source": [
    "sts.adfuller(log_deaths)"
   ]
  },
  {
   "cell_type": "code",
   "execution_count": 23,
   "metadata": {
    "hidden": true
   },
   "outputs": [
    {
     "data": {
      "image/png": "[encoded data removed]",
      "text/plain": [
       "<Figure size 432x288 with 4 Axes>"
      ]
     },
     "metadata": {
      "needs_background": "light"
     },
     "output_type": "display_data"
    }
   ],
   "source": [
    "sm.tsa.seasonal_decompose(log_deaths).plot()\n",
    "plt.show()"
   ]
  },
  {
   "cell_type": "markdown",
   "metadata": {
    "heading_collapsed": true
   },
   "source": [
    "###### RECOVERED"
   ]
  },
  {
   "cell_type": "code",
   "execution_count": 24,
   "metadata": {
    "hidden": true
   },
   "outputs": [
    {
     "data": {
      "text/plain": [
       "(-0.951811619469739,\n",
       " 0.7704319140303657,\n",
       " 3,\n",
       " 46,\n",
       " {'1%': -3.5812576580093696,\n",
       "  '5%': -2.9267849124681518,\n",
       "  '10%': -2.6015409829867675},\n",
       " 599.3596953932226)"
      ]
     },
     "execution_count": 24,
     "metadata": {},
     "output_type": "execute_result"
    }
   ],
   "source": [
    "sts.adfuller(df_train.Recovered)"
   ]
  },
  {
   "cell_type": "code",
   "execution_count": 25,
   "metadata": {
    "hidden": true
   },
   "outputs": [
    {
     "data": {
      "text/plain": [
       "(-4.659208674660239,\n",
       " 0.00010032390918684565,\n",
       " 1,\n",
       " 48,\n",
       " {'1%': -3.5745892596209488,\n",
       "  '5%': -2.9239543084490744,\n",
       "  '10%': -2.6000391840277777},\n",
       " -149.46592512990446)"
      ]
     },
     "execution_count": 25,
     "metadata": {},
     "output_type": "execute_result"
    }
   ],
   "source": [
    "sts.adfuller(log_recover)"
   ]
  },
  {
   "cell_type": "code",
   "execution_count": 26,
   "metadata": {
    "hidden": true
   },
   "outputs": [
    {
     "data": {
      "image/png": "[encoded data removed]",
      "text/plain": [
       "<Figure size 432x288 with 4 Axes>"
      ]
     },
     "metadata": {
      "needs_background": "light"
     },
     "output_type": "display_data"
    }
   ],
   "source": [
    "sm.tsa.seasonal_decompose(log_deaths).plot()\n",
    "plt.show()"
   ]
  },
  {
   "cell_type": "markdown",
   "metadata": {
    "heading_collapsed": true
   },
   "source": [
    "##### AR model Confirmed Cases"
   ]
  },
  {
   "cell_type": "code",
   "execution_count": 27,
   "metadata": {
    "hidden": true
   },
   "outputs": [
    {
     "name": "stderr",
     "output_type": "stream",
     "text": [
      "/anaconda3/envs/learn-env/lib/python3.6/site-packages/statsmodels/tsa/base/tsa_model.py:162: ValueWarning: No frequency information was provided, so inferred frequency D will be used.\n",
      "  % freq, ValueWarning)\n",
      "/anaconda3/envs/learn-env/lib/python3.6/site-packages/statsmodels/tsa/base/tsa_model.py:162: ValueWarning: No frequency information was provided, so inferred frequency D will be used.\n",
      "  % freq, ValueWarning)\n"
     ]
    }
   ],
   "source": [
    "model_ar=ARIMA(log_series,(5,1,0))\n",
    "model_ar_fit=model_ar.fit()"
   ]
  },
  {
   "cell_type": "code",
   "execution_count": 28,
   "metadata": {
    "hidden": true
   },
   "outputs": [],
   "source": [
    "prediction_ar= model_ar_fit.forecast(len(df_test))[0]\n",
    "y_pred[\"AR Model Prediction\"]=list(np.exp(prediction_ar))"
   ]
  },
  {
   "cell_type": "code",
   "execution_count": 106,
   "metadata": {
    "hidden": true
   },
   "outputs": [
    {
     "data": {
      "text/html": [
       "<div>\n",
       "<style scoped>\n",
       "    .dataframe tbody tr th:only-of-type {\n",
       "        vertical-align: middle;\n",
       "    }\n",
       "\n",
       "    .dataframe tbody tr th {\n",
       "        vertical-align: top;\n",
       "    }\n",
       "\n",
       "    .dataframe thead th {\n",
       "        text-align: right;\n",
       "    }\n",
       "</style>\n",
       "<table border=\"1\" class=\"dataframe\">\n",
       "  <thead>\n",
       "    <tr style=\"text-align: right;\">\n",
       "      <th></th>\n",
       "      <th>Confirmed</th>\n",
       "      <th>Recovered</th>\n",
       "      <th>Deaths</th>\n",
       "      <th>AR Model Prediction</th>\n",
       "      <th>AR Model Prediction_death</th>\n",
       "      <th>MA Model Prediction</th>\n",
       "      <th>ARIMA Model Prediction</th>\n",
       "      <th>AR Model Prediction_Recover</th>\n",
       "      <th>MA Model Prediction_death</th>\n",
       "      <th>MA Model Prediction_recover</th>\n",
       "      <th>ARIMA Model Prediction_death</th>\n",
       "      <th>ARIMA Model Prediction_recover</th>\n",
       "    </tr>\n",
       "    <tr>\n",
       "      <th>ObservationDate</th>\n",
       "      <th></th>\n",
       "      <th></th>\n",
       "      <th></th>\n",
       "      <th></th>\n",
       "      <th></th>\n",
       "      <th></th>\n",
       "      <th></th>\n",
       "      <th></th>\n",
       "      <th></th>\n",
       "      <th></th>\n",
       "      <th></th>\n",
       "      <th></th>\n",
       "    </tr>\n",
       "  </thead>\n",
       "  <tbody>\n",
       "    <tr>\n",
       "      <th>2020-03-12</th>\n",
       "      <td>128343.0</td>\n",
       "      <td>68324.0</td>\n",
       "      <td>4720.0</td>\n",
       "      <td>133018.485724</td>\n",
       "      <td>4946.186564</td>\n",
       "      <td>135019.851963</td>\n",
       "      <td>133094.331836</td>\n",
       "      <td>70279.662846</td>\n",
       "      <td>5077.721621</td>\n",
       "      <td>73539.392373</td>\n",
       "      <td>5010.093417</td>\n",
       "      <td>70201.125445</td>\n",
       "    </tr>\n",
       "    <tr>\n",
       "      <th>2020-03-13</th>\n",
       "      <td>145193.0</td>\n",
       "      <td>70251.0</td>\n",
       "      <td>5404.0</td>\n",
       "      <td>141862.088082</td>\n",
       "      <td>5373.621925</td>\n",
       "      <td>146515.902416</td>\n",
       "      <td>141787.362645</td>\n",
       "      <td>73953.135283</td>\n",
       "      <td>5541.900890</td>\n",
       "      <td>79284.675032</td>\n",
       "      <td>5488.857165</td>\n",
       "      <td>73685.904096</td>\n",
       "    </tr>\n",
       "    <tr>\n",
       "      <th>2020-03-14</th>\n",
       "      <td>156099.0</td>\n",
       "      <td>72624.0</td>\n",
       "      <td>5819.0</td>\n",
       "      <td>151931.018194</td>\n",
       "      <td>5869.432503</td>\n",
       "      <td>160663.445307</td>\n",
       "      <td>151746.127830</td>\n",
       "      <td>78019.546506</td>\n",
       "      <td>6029.550295</td>\n",
       "      <td>86799.446713</td>\n",
       "      <td>6056.015188</td>\n",
       "      <td>77736.916815</td>\n",
       "    </tr>\n",
       "    <tr>\n",
       "      <th>2020-03-15</th>\n",
       "      <td>167447.0</td>\n",
       "      <td>76034.0</td>\n",
       "      <td>6440.0</td>\n",
       "      <td>163230.286686</td>\n",
       "      <td>6387.113848</td>\n",
       "      <td>177771.284662</td>\n",
       "      <td>163101.205559</td>\n",
       "      <td>82546.239383</td>\n",
       "      <td>6707.979814</td>\n",
       "      <td>95961.476865</td>\n",
       "      <td>6712.860888</td>\n",
       "      <td>82401.039414</td>\n",
       "    </tr>\n",
       "    <tr>\n",
       "      <th>2020-03-16</th>\n",
       "      <td>181546.0</td>\n",
       "      <td>78088.0</td>\n",
       "      <td>7126.0</td>\n",
       "      <td>176207.774386</td>\n",
       "      <td>7021.089955</td>\n",
       "      <td>197790.462104</td>\n",
       "      <td>176004.463323</td>\n",
       "      <td>87694.530871</td>\n",
       "      <td>7495.862532</td>\n",
       "      <td>108088.616599</td>\n",
       "      <td>7463.666520</td>\n",
       "      <td>87734.294564</td>\n",
       "    </tr>\n",
       "    <tr>\n",
       "      <th>2020-03-17</th>\n",
       "      <td>197168.0</td>\n",
       "      <td>80840.0</td>\n",
       "      <td>7905.0</td>\n",
       "      <td>190845.839912</td>\n",
       "      <td>7728.273557</td>\n",
       "      <td>220292.931731</td>\n",
       "      <td>190631.246337</td>\n",
       "      <td>93515.075544</td>\n",
       "      <td>8376.462598</td>\n",
       "      <td>125276.663691</td>\n",
       "      <td>8315.078142</td>\n",
       "      <td>93802.537257</td>\n",
       "    </tr>\n",
       "    <tr>\n",
       "      <th>2020-03-18</th>\n",
       "      <td>214915.0</td>\n",
       "      <td>83313.0</td>\n",
       "      <td>8733.0</td>\n",
       "      <td>207397.080902</td>\n",
       "      <td>8506.236028</td>\n",
       "      <td>245355.490120</td>\n",
       "      <td>207182.990417</td>\n",
       "      <td>100029.198611</td>\n",
       "      <td>9360.513931</td>\n",
       "      <td>145197.921477</td>\n",
       "      <td>9275.803697</td>\n",
       "      <td>100682.333164</td>\n",
       "    </tr>\n",
       "    <tr>\n",
       "      <th>2020-03-19</th>\n",
       "      <td>242713.0</td>\n",
       "      <td>84962.0</td>\n",
       "      <td>9867.0</td>\n",
       "      <td>226118.058942</td>\n",
       "      <td>9424.441301</td>\n",
       "      <td>273269.396612</td>\n",
       "      <td>225890.290384</td>\n",
       "      <td>107312.391725</td>\n",
       "      <td>10460.169794</td>\n",
       "      <td>168287.019946</td>\n",
       "      <td>10356.472718</td>\n",
       "      <td>108462.034857</td>\n",
       "    </tr>\n",
       "    <tr>\n",
       "      <th>2020-03-20</th>\n",
       "      <td>272167.0</td>\n",
       "      <td>87403.0</td>\n",
       "      <td>11299.0</td>\n",
       "      <td>247231.783832</td>\n",
       "      <td>10442.679013</td>\n",
       "      <td>304359.046900</td>\n",
       "      <td>247016.465421</td>\n",
       "      <td>115437.185485</td>\n",
       "      <td>11689.011194</td>\n",
       "      <td>195047.703122</td>\n",
       "      <td>11569.605447</td>\n",
       "      <td>117243.066410</td>\n",
       "    </tr>\n",
       "    <tr>\n",
       "      <th>2020-03-21</th>\n",
       "      <td>304528.0</td>\n",
       "      <td>91676.0</td>\n",
       "      <td>12973.0</td>\n",
       "      <td>271060.356367</td>\n",
       "      <td>11588.610097</td>\n",
       "      <td>338985.742928</td>\n",
       "      <td>270861.673084</td>\n",
       "      <td>124527.208265</td>\n",
       "      <td>13062.214609</td>\n",
       "      <td>226063.819453</td>\n",
       "      <td>12929.658234</td>\n",
       "      <td>127141.431994</td>\n",
       "    </tr>\n",
       "    <tr>\n",
       "      <th>2020-03-22</th>\n",
       "      <td>337020.0</td>\n",
       "      <td>97243.0</td>\n",
       "      <td>14623.0</td>\n",
       "      <td>297940.203627</td>\n",
       "      <td>12911.076113</td>\n",
       "      <td>377551.891685</td>\n",
       "      <td>297767.634213</td>\n",
       "      <td>134685.148678</td>\n",
       "      <td>14596.739421</td>\n",
       "      <td>262012.059858</td>\n",
       "      <td>14453.127083</td>\n",
       "      <td>138289.469031</td>\n",
       "    </tr>\n",
       "    <tr>\n",
       "      <th>2020-03-23</th>\n",
       "      <td>378287.0</td>\n",
       "      <td>100958.0</td>\n",
       "      <td>16497.0</td>\n",
       "      <td>328254.149434</td>\n",
       "      <td>14384.235934</td>\n",
       "      <td>420505.681695</td>\n",
       "      <td>328123.042147</td>\n",
       "      <td>146028.848279</td>\n",
       "      <td>16311.537370</td>\n",
       "      <td>303676.721366</td>\n",
       "      <td>16158.699378</td>\n",
       "      <td>150837.871370</td>\n",
       "    </tr>\n",
       "    <tr>\n",
       "      <th>2020-03-24</th>\n",
       "      <td>417966.0</td>\n",
       "      <td>107705.0</td>\n",
       "      <td>18615.0</td>\n",
       "      <td>362448.128724</td>\n",
       "      <td>16055.747767</td>\n",
       "      <td>468346.291548</td>\n",
       "      <td>362369.741739</td>\n",
       "      <td>158699.393686</td>\n",
       "      <td>18227.786610</td>\n",
       "      <td>351966.818434</td>\n",
       "      <td>18067.448624</td>\n",
       "      <td>164958.013078</td>\n",
       "    </tr>\n",
       "  </tbody>\n",
       "</table>\n",
       "</div>"
      ],
      "text/plain": [
       "                 Confirmed  Recovered   Deaths  AR Model Prediction  \\\n",
       "ObservationDate                                                       \n",
       "2020-03-12        128343.0    68324.0   4720.0        133018.485724   \n",
       "2020-03-13        145193.0    70251.0   5404.0        141862.088082   \n",
       "2020-03-14        156099.0    72624.0   5819.0        151931.018194   \n",
       "2020-03-15        167447.0    76034.0   6440.0        163230.286686   \n",
       "2020-03-16        181546.0    78088.0   7126.0        176207.774386   \n",
       "2020-03-17        197168.0    80840.0   7905.0        190845.839912   \n",
       "2020-03-18        214915.0    83313.0   8733.0        207397.080902   \n",
       "2020-03-19        242713.0    84962.0   9867.0        226118.058942   \n",
       "2020-03-20        272167.0    87403.0  11299.0        247231.783832   \n",
       "2020-03-21        304528.0    91676.0  12973.0        271060.356367   \n",
       "2020-03-22        337020.0    97243.0  14623.0        297940.203627   \n",
       "2020-03-23        378287.0   100958.0  16497.0        328254.149434   \n",
       "2020-03-24        417966.0   107705.0  18615.0        362448.128724   \n",
       "\n",
       "                 AR Model Prediction_death  MA Model Prediction  \\\n",
       "ObservationDate                                                   \n",
       "2020-03-12                     4946.186564        135019.851963   \n",
       "2020-03-13                     5373.621925        146515.902416   \n",
       "2020-03-14                     5869.432503        160663.445307   \n",
       "2020-03-15                     6387.113848        177771.284662   \n",
       "2020-03-16                     7021.089955        197790.462104   \n",
       "2020-03-17                     7728.273557        220292.931731   \n",
       "2020-03-18                     8506.236028        245355.490120   \n",
       "2020-03-19                     9424.441301        273269.396612   \n",
       "2020-03-20                    10442.679013        304359.046900   \n",
       "2020-03-21                    11588.610097        338985.742928   \n",
       "2020-03-22                    12911.076113        377551.891685   \n",
       "2020-03-23                    14384.235934        420505.681695   \n",
       "2020-03-24                    16055.747767        468346.291548   \n",
       "\n",
       "                 ARIMA Model Prediction  AR Model Prediction_Recover  \\\n",
       "ObservationDate                                                        \n",
       "2020-03-12                133094.331836                 70279.662846   \n",
       "2020-03-13                141787.362645                 73953.135283   \n",
       "2020-03-14                151746.127830                 78019.546506   \n",
       "2020-03-15                163101.205559                 82546.239383   \n",
       "2020-03-16                176004.463323                 87694.530871   \n",
       "2020-03-17                190631.246337                 93515.075544   \n",
       "2020-03-18                207182.990417                100029.198611   \n",
       "2020-03-19                225890.290384                107312.391725   \n",
       "2020-03-20                247016.465421                115437.185485   \n",
       "2020-03-21                270861.673084                124527.208265   \n",
       "2020-03-22                297767.634213                134685.148678   \n",
       "2020-03-23                328123.042147                146028.848279   \n",
       "2020-03-24                362369.741739                158699.393686   \n",
       "\n",
       "                 MA Model Prediction_death  MA Model Prediction_recover  \\\n",
       "ObservationDate                                                           \n",
       "2020-03-12                     5077.721621                 73539.392373   \n",
       "2020-03-13                     5541.900890                 79284.675032   \n",
       "2020-03-14                     6029.550295                 86799.446713   \n",
       "2020-03-15                     6707.979814                 95961.476865   \n",
       "2020-03-16                     7495.862532                108088.616599   \n",
       "2020-03-17                     8376.462598                125276.663691   \n",
       "2020-03-18                     9360.513931                145197.921477   \n",
       "2020-03-19                    10460.169794                168287.019946   \n",
       "2020-03-20                    11689.011194                195047.703122   \n",
       "2020-03-21                    13062.214609                226063.819453   \n",
       "2020-03-22                    14596.739421                262012.059858   \n",
       "2020-03-23                    16311.537370                303676.721366   \n",
       "2020-03-24                    18227.786610                351966.818434   \n",
       "\n",
       "                 ARIMA Model Prediction_death  ARIMA Model Prediction_recover  \n",
       "ObservationDate                                                                \n",
       "2020-03-12                        5010.093417                    70201.125445  \n",
       "2020-03-13                        5488.857165                    73685.904096  \n",
       "2020-03-14                        6056.015188                    77736.916815  \n",
       "2020-03-15                        6712.860888                    82401.039414  \n",
       "2020-03-16                        7463.666520                    87734.294564  \n",
       "2020-03-17                        8315.078142                    93802.537257  \n",
       "2020-03-18                        9275.803697                   100682.333164  \n",
       "2020-03-19                       10356.472718                   108462.034857  \n",
       "2020-03-20                       11569.605447                   117243.066410  \n",
       "2020-03-21                       12929.658234                   127141.431994  \n",
       "2020-03-22                       14453.127083                   138289.469031  \n",
       "2020-03-23                       16158.699378                   150837.871370  \n",
       "2020-03-24                       18067.448624                   164958.013078  "
      ]
     },
     "execution_count": 106,
     "metadata": {},
     "output_type": "execute_result"
    }
   ],
   "source": [
    "y_pred"
   ]
  },
  {
   "cell_type": "code",
   "execution_count": 29,
   "metadata": {
    "hidden": true,
    "scrolled": false
   },
   "outputs": [
    {
     "data": {
      "text/plain": [
       "(array([737446., 737456., 737463., 737470., 737477., 737485., 737492.,\n",
       "        737499., 737506.]), <a list of 9 Text xticklabel objects>)"
      ]
     },
     "execution_count": 29,
     "metadata": {},
     "output_type": "execute_result"
    },
    {
     "data": {
      "image/png": "[encoded data removed]",
      "text/plain": [
       "<Figure size 720x360 with 1 Axes>"
      ]
     },
     "metadata": {
      "needs_background": "light"
     },
     "output_type": "display_data"
    }
   ],
   "source": [
    "plt.figure(figsize=(10,5))\n",
    "plt.plot(df_train.index,df_train[\"Confirmed\"],label=\"Train Set\")\n",
    "plt.plot(df_test.index,df_test[\"Confirmed\"],label=\"Test Set\")\n",
    "plt.plot(y_pred[\"AR Model Prediction\"],label=\"AR Model Prediction set\")\n",
    "plt.legend()\n",
    "plt.xlabel(\"Date\")\n",
    "plt.ylabel('Confirmed Cases')\n",
    "plt.xticks(rotation=90)"
   ]
  },
  {
   "cell_type": "code",
   "execution_count": 45,
   "metadata": {
    "hidden": true
   },
   "outputs": [],
   "source": [
    "model_predictions=pd.DataFrame(zip(new_date),columns=[\"Dates\"])"
   ]
  },
  {
   "cell_type": "code",
   "execution_count": 44,
   "metadata": {
    "hidden": true
   },
   "outputs": [],
   "source": [
    "new_date=[]\n",
    "AR_model_new_prediction=[]\n",
    "for i in range(1,18):\n",
    "    new_date.append(bydate.index[-1]+timedelta(days=i))\n",
    "    AR_model_new_prediction.append(np.exp(model_ar_fit.forecast(len(df_test)+i)[0][-1]))"
   ]
  },
  {
   "cell_type": "code",
   "execution_count": 47,
   "metadata": {
    "hidden": true
   },
   "outputs": [],
   "source": [
    "model_predictions[\"AR Model Prediction\"]=AR_model_new_prediction"
   ]
  },
  {
   "cell_type": "code",
   "execution_count": 55,
   "metadata": {
    "hidden": true
   },
   "outputs": [
    {
     "data": {
      "text/html": [
       "<div>\n",
       "<style scoped>\n",
       "    .dataframe tbody tr th:only-of-type {\n",
       "        vertical-align: middle;\n",
       "    }\n",
       "\n",
       "    .dataframe tbody tr th {\n",
       "        vertical-align: top;\n",
       "    }\n",
       "\n",
       "    .dataframe thead th {\n",
       "        text-align: right;\n",
       "    }\n",
       "</style>\n",
       "<table border=\"1\" class=\"dataframe\">\n",
       "  <thead>\n",
       "    <tr style=\"text-align: right;\">\n",
       "      <th></th>\n",
       "      <th>Dates</th>\n",
       "      <th>AR Model Prediction</th>\n",
       "      <th>AR Model Prediction_death</th>\n",
       "    </tr>\n",
       "  </thead>\n",
       "  <tbody>\n",
       "    <tr>\n",
       "      <th>0</th>\n",
       "      <td>2020-03-25</td>\n",
       "      <td>4.010200e+05</td>\n",
       "      <td>4.010200e+05</td>\n",
       "    </tr>\n",
       "    <tr>\n",
       "      <th>1</th>\n",
       "      <td>2020-03-26</td>\n",
       "      <td>4.445385e+05</td>\n",
       "      <td>4.445385e+05</td>\n",
       "    </tr>\n",
       "    <tr>\n",
       "      <th>2</th>\n",
       "      <td>2020-03-27</td>\n",
       "      <td>4.936504e+05</td>\n",
       "      <td>4.936504e+05</td>\n",
       "    </tr>\n",
       "    <tr>\n",
       "      <th>3</th>\n",
       "      <td>2020-03-28</td>\n",
       "      <td>5.490882e+05</td>\n",
       "      <td>5.490882e+05</td>\n",
       "    </tr>\n",
       "    <tr>\n",
       "      <th>4</th>\n",
       "      <td>2020-03-29</td>\n",
       "      <td>6.116853e+05</td>\n",
       "      <td>6.116853e+05</td>\n",
       "    </tr>\n",
       "    <tr>\n",
       "      <th>5</th>\n",
       "      <td>2020-03-30</td>\n",
       "      <td>6.823873e+05</td>\n",
       "      <td>6.823873e+05</td>\n",
       "    </tr>\n",
       "    <tr>\n",
       "      <th>6</th>\n",
       "      <td>2020-03-31</td>\n",
       "      <td>7.622681e+05</td>\n",
       "      <td>7.622681e+05</td>\n",
       "    </tr>\n",
       "    <tr>\n",
       "      <th>7</th>\n",
       "      <td>2020-04-01</td>\n",
       "      <td>8.525476e+05</td>\n",
       "      <td>8.525476e+05</td>\n",
       "    </tr>\n",
       "    <tr>\n",
       "      <th>8</th>\n",
       "      <td>2020-04-02</td>\n",
       "      <td>9.546108e+05</td>\n",
       "      <td>9.546108e+05</td>\n",
       "    </tr>\n",
       "    <tr>\n",
       "      <th>9</th>\n",
       "      <td>2020-04-03</td>\n",
       "      <td>1.070031e+06</td>\n",
       "      <td>1.070031e+06</td>\n",
       "    </tr>\n",
       "    <tr>\n",
       "      <th>10</th>\n",
       "      <td>2020-04-04</td>\n",
       "      <td>1.200594e+06</td>\n",
       "      <td>1.200594e+06</td>\n",
       "    </tr>\n",
       "    <tr>\n",
       "      <th>11</th>\n",
       "      <td>2020-04-05</td>\n",
       "      <td>1.348330e+06</td>\n",
       "      <td>1.348330e+06</td>\n",
       "    </tr>\n",
       "    <tr>\n",
       "      <th>12</th>\n",
       "      <td>2020-04-06</td>\n",
       "      <td>1.515543e+06</td>\n",
       "      <td>1.515543e+06</td>\n",
       "    </tr>\n",
       "    <tr>\n",
       "      <th>13</th>\n",
       "      <td>2020-04-07</td>\n",
       "      <td>1.704851e+06</td>\n",
       "      <td>1.704851e+06</td>\n",
       "    </tr>\n",
       "    <tr>\n",
       "      <th>14</th>\n",
       "      <td>2020-04-08</td>\n",
       "      <td>1.919230e+06</td>\n",
       "      <td>1.919230e+06</td>\n",
       "    </tr>\n",
       "    <tr>\n",
       "      <th>15</th>\n",
       "      <td>2020-04-09</td>\n",
       "      <td>2.162057e+06</td>\n",
       "      <td>2.162057e+06</td>\n",
       "    </tr>\n",
       "    <tr>\n",
       "      <th>16</th>\n",
       "      <td>2020-04-10</td>\n",
       "      <td>2.437171e+06</td>\n",
       "      <td>2.437171e+06</td>\n",
       "    </tr>\n",
       "  </tbody>\n",
       "</table>\n",
       "</div>"
      ],
      "text/plain": [
       "        Dates  AR Model Prediction  AR Model Prediction_death\n",
       "0  2020-03-25         4.010200e+05               4.010200e+05\n",
       "1  2020-03-26         4.445385e+05               4.445385e+05\n",
       "2  2020-03-27         4.936504e+05               4.936504e+05\n",
       "3  2020-03-28         5.490882e+05               5.490882e+05\n",
       "4  2020-03-29         6.116853e+05               6.116853e+05\n",
       "5  2020-03-30         6.823873e+05               6.823873e+05\n",
       "6  2020-03-31         7.622681e+05               7.622681e+05\n",
       "7  2020-04-01         8.525476e+05               8.525476e+05\n",
       "8  2020-04-02         9.546108e+05               9.546108e+05\n",
       "9  2020-04-03         1.070031e+06               1.070031e+06\n",
       "10 2020-04-04         1.200594e+06               1.200594e+06\n",
       "11 2020-04-05         1.348330e+06               1.348330e+06\n",
       "12 2020-04-06         1.515543e+06               1.515543e+06\n",
       "13 2020-04-07         1.704851e+06               1.704851e+06\n",
       "14 2020-04-08         1.919230e+06               1.919230e+06\n",
       "15 2020-04-09         2.162057e+06               2.162057e+06\n",
       "16 2020-04-10         2.437171e+06               2.437171e+06"
      ]
     },
     "execution_count": 55,
     "metadata": {},
     "output_type": "execute_result"
    }
   ],
   "source": [
    "model_predictions"
   ]
  },
  {
   "cell_type": "markdown",
   "metadata": {
    "heading_collapsed": true
   },
   "source": [
    "##### AR Death cases"
   ]
  },
  {
   "cell_type": "code",
   "execution_count": 57,
   "metadata": {
    "hidden": true
   },
   "outputs": [
    {
     "name": "stderr",
     "output_type": "stream",
     "text": [
      "/anaconda3/envs/learn-env/lib/python3.6/site-packages/statsmodels/tsa/base/tsa_model.py:162: ValueWarning: No frequency information was provided, so inferred frequency D will be used.\n",
      "  % freq, ValueWarning)\n",
      "/anaconda3/envs/learn-env/lib/python3.6/site-packages/statsmodels/tsa/base/tsa_model.py:162: ValueWarning: No frequency information was provided, so inferred frequency D will be used.\n",
      "  % freq, ValueWarning)\n"
     ]
    }
   ],
   "source": [
    "model_ar_death=ARIMA(log_deaths,(5,1,0))\n",
    "results_ar_death=model_ar_death.fit()"
   ]
  },
  {
   "cell_type": "code",
   "execution_count": 58,
   "metadata": {
    "hidden": true
   },
   "outputs": [],
   "source": [
    "prediction_ar_death= results_ar_death.forecast(len(df_test))[0]\n",
    "y_pred[\"AR Model Prediction_death\"]=list(np.exp(prediction_ar_death))"
   ]
  },
  {
   "cell_type": "code",
   "execution_count": 59,
   "metadata": {
    "hidden": true
   },
   "outputs": [
    {
     "data": {
      "text/plain": [
       "(array([737446., 737456., 737463., 737470., 737477., 737485., 737492.,\n",
       "        737499., 737506.]), <a list of 9 Text xticklabel objects>)"
      ]
     },
     "execution_count": 59,
     "metadata": {},
     "output_type": "execute_result"
    },
    {
     "data": {
      "image/png": "[encoded data removed]",
      "text/plain": [
       "<Figure size 720x360 with 1 Axes>"
      ]
     },
     "metadata": {
      "needs_background": "light"
     },
     "output_type": "display_data"
    }
   ],
   "source": [
    "plt.figure(figsize=(10,5))\n",
    "plt.plot(df_train.index,df_train[\"Deaths\"],label=\"Train Set\")\n",
    "plt.plot(df_test.index,df_test[\"Deaths\"],label=\"Test Set\")\n",
    "plt.plot(y_pred[\"AR Model Prediction_death\"],label=\"AR Model Prediction set\")\n",
    "plt.legend()\n",
    "plt.xlabel(\"Date\")\n",
    "plt.ylabel('Death Cases')\n",
    "plt.xticks(rotation=90)"
   ]
  },
  {
   "cell_type": "code",
   "execution_count": 82,
   "metadata": {
    "hidden": true
   },
   "outputs": [],
   "source": [
    "AR_model_new_prediction_death=[]\n",
    "for i in range(1,18):\n",
    "    AR_model_new_prediction_death.append(np.exp(results_ar_death.forecast(len(df_test)+i)[0][-1]))\n",
    "model_predictions[\"AR Model Prediction_death\"]=AR_model_new_prediction_death"
   ]
  },
  {
   "cell_type": "markdown",
   "metadata": {
    "heading_collapsed": true
   },
   "source": [
    "##### AR RECOVERED"
   ]
  },
  {
   "cell_type": "code",
   "execution_count": 62,
   "metadata": {
    "hidden": true
   },
   "outputs": [
    {
     "name": "stderr",
     "output_type": "stream",
     "text": [
      "/anaconda3/envs/learn-env/lib/python3.6/site-packages/statsmodels/tsa/base/tsa_model.py:162: ValueWarning: No frequency information was provided, so inferred frequency D will be used.\n",
      "  % freq, ValueWarning)\n",
      "/anaconda3/envs/learn-env/lib/python3.6/site-packages/statsmodels/tsa/base/tsa_model.py:162: ValueWarning: No frequency information was provided, so inferred frequency D will be used.\n",
      "  % freq, ValueWarning)\n"
     ]
    }
   ],
   "source": [
    "model_ar_recover=ARIMA(log_recover,(5,1,0))\n",
    "results_ar_recover=model_ar_recover.fit()"
   ]
  },
  {
   "cell_type": "code",
   "execution_count": 63,
   "metadata": {
    "hidden": true
   },
   "outputs": [],
   "source": [
    "prediction_ar_recover= results_ar_recover.forecast(len(df_test))[0]\n",
    "y_pred[\"AR Model Prediction_Recover\"]=list(np.exp(prediction_ar_recover))"
   ]
  },
  {
   "cell_type": "code",
   "execution_count": 64,
   "metadata": {
    "hidden": true
   },
   "outputs": [
    {
     "data": {
      "text/plain": [
       "(array([737446., 737456., 737463., 737470., 737477., 737485., 737492.,\n",
       "        737499., 737506.]), <a list of 9 Text xticklabel objects>)"
      ]
     },
     "execution_count": 64,
     "metadata": {},
     "output_type": "execute_result"
    },
    {
     "data": {
      "image/png": "[encoded data removed]",
      "text/plain": [
       "<Figure size 720x360 with 1 Axes>"
      ]
     },
     "metadata": {
      "needs_background": "light"
     },
     "output_type": "display_data"
    }
   ],
   "source": [
    "plt.figure(figsize=(10,5))\n",
    "plt.plot(df_train.index,df_train[\"Recovered\"],label=\"Train Set\")\n",
    "plt.plot(df_test.index,df_test[\"Recovered\"],label=\"Test Set\")\n",
    "plt.plot(y_pred[\"AR Model Prediction_Recover\"],label=\"AR Model Prediction set\")\n",
    "plt.legend()\n",
    "plt.xlabel(\"Date\")\n",
    "plt.ylabel('Recovered Cases')\n",
    "plt.xticks(rotation=90)"
   ]
  },
  {
   "cell_type": "code",
   "execution_count": 79,
   "metadata": {
    "hidden": true
   },
   "outputs": [],
   "source": [
    "AR_model_new_prediction_recover=[]\n",
    "for i in range(1,18):\n",
    "    AR_model_new_prediction_recover.append(np.exp(results_ar_recover.forecast(len(df_test)+i)[0][-1]))\n",
    "model_predictions[\"AR Model Prediction_Recover\"]=AR_model_new_prediction_recover"
   ]
  },
  {
   "cell_type": "markdown",
   "metadata": {
    "heading_collapsed": true
   },
   "source": [
    "##### MA model Confirmed Cases"
   ]
  },
  {
   "cell_type": "code",
   "execution_count": 34,
   "metadata": {
    "hidden": true
   },
   "outputs": [
    {
     "name": "stderr",
     "output_type": "stream",
     "text": [
      "/anaconda3/envs/learn-env/lib/python3.6/site-packages/statsmodels/tsa/base/tsa_model.py:162: ValueWarning: No frequency information was provided, so inferred frequency D will be used.\n",
      "  % freq, ValueWarning)\n",
      "/anaconda3/envs/learn-env/lib/python3.6/site-packages/statsmodels/tsa/base/tsa_model.py:162: ValueWarning: No frequency information was provided, so inferred frequency D will be used.\n",
      "  % freq, ValueWarning)\n"
     ]
    }
   ],
   "source": [
    "model_ma=ARIMA(log_series,(0,1,5))\n",
    "model_ma_fit=model_ma.fit()"
   ]
  },
  {
   "cell_type": "code",
   "execution_count": 35,
   "metadata": {
    "hidden": true
   },
   "outputs": [],
   "source": [
    "prediction_ma= model_ma_fit.forecast(len(df_test))[0]\n",
    "y_pred[\"MA Model Prediction\"]=list(np.exp(prediction_ma))"
   ]
  },
  {
   "cell_type": "code",
   "execution_count": 36,
   "metadata": {
    "hidden": true
   },
   "outputs": [
    {
     "data": {
      "text/plain": [
       "(array([737446., 737456., 737463., 737470., 737477., 737485., 737492.,\n",
       "        737499., 737506.]), <a list of 9 Text xticklabel objects>)"
      ]
     },
     "execution_count": 36,
     "metadata": {},
     "output_type": "execute_result"
    },
    {
     "data": {
      "image/png": "[encoded data removed]",
      "text/plain": [
       "<Figure size 720x360 with 1 Axes>"
      ]
     },
     "metadata": {
      "needs_background": "light"
     },
     "output_type": "display_data"
    }
   ],
   "source": [
    "plt.figure(figsize=(10,5))\n",
    "plt.plot(df_train.index,df_train[\"Confirmed\"],label=\"Train Set\")\n",
    "plt.plot(df_test.index,df_test[\"Confirmed\"],label=\"Test Set\")\n",
    "plt.plot(y_pred[\"MA Model Prediction\"],label=\"MA Prediction Set\")\n",
    "plt.legend()\n",
    "plt.xlabel(\"Date\")\n",
    "plt.ylabel('Confirmed Cases')\n",
    "plt.xticks(rotation=90)"
   ]
  },
  {
   "cell_type": "code",
   "execution_count": 70,
   "metadata": {
    "hidden": true
   },
   "outputs": [],
   "source": [
    "MA_model_new_prediction=[]\n",
    "for i in range(1,18):\n",
    "    MA_model_new_prediction.append(np.exp(model_ma_fit.forecast(len(df_test)+i)[0][-1]))\n",
    "model_predictions[\"MA Model Prediction\"]=MA_model_new_prediction"
   ]
  },
  {
   "cell_type": "markdown",
   "metadata": {
    "heading_collapsed": true
   },
   "source": [
    "##### MA DEATH CASES"
   ]
  },
  {
   "cell_type": "code",
   "execution_count": 74,
   "metadata": {
    "hidden": true
   },
   "outputs": [
    {
     "name": "stderr",
     "output_type": "stream",
     "text": [
      "/anaconda3/envs/learn-env/lib/python3.6/site-packages/statsmodels/tsa/base/tsa_model.py:162: ValueWarning: No frequency information was provided, so inferred frequency D will be used.\n",
      "  % freq, ValueWarning)\n",
      "/anaconda3/envs/learn-env/lib/python3.6/site-packages/statsmodels/tsa/base/tsa_model.py:162: ValueWarning: No frequency information was provided, so inferred frequency D will be used.\n",
      "  % freq, ValueWarning)\n"
     ]
    }
   ],
   "source": [
    "model_ma_death=ARIMA(log_deaths,(0,1,5))\n",
    "results_ma__death=model_ma_death.fit()"
   ]
  },
  {
   "cell_type": "code",
   "execution_count": 75,
   "metadata": {
    "hidden": true
   },
   "outputs": [],
   "source": [
    "prediction_ma_death= results_ma__death.forecast(len(df_test))[0]\n",
    "y_pred[\"MA Model Prediction_death\"]=list(np.exp(prediction_ma_death))"
   ]
  },
  {
   "cell_type": "code",
   "execution_count": 87,
   "metadata": {
    "hidden": true
   },
   "outputs": [
    {
     "data": {
      "text/plain": [
       "(array([737446., 737456., 737463., 737470., 737477., 737485., 737492.,\n",
       "        737499., 737506.]), <a list of 9 Text xticklabel objects>)"
      ]
     },
     "execution_count": 87,
     "metadata": {},
     "output_type": "execute_result"
    },
    {
     "data": {
      "image/png": "[encoded data removed]",
      "text/plain": [
       "<Figure size 720x360 with 1 Axes>"
      ]
     },
     "metadata": {
      "needs_background": "light"
     },
     "output_type": "display_data"
    }
   ],
   "source": [
    "plt.figure(figsize=(10,5))\n",
    "plt.plot(df_train.index,df_train[\"Deaths\"],label=\"Train Set\")\n",
    "plt.plot(df_test.index,df_test[\"Deaths\"],label=\"Test Set\")\n",
    "plt.plot(y_pred[\"MA Model Prediction_death\"],label=\"MA Prediction Set\")\n",
    "plt.legend()\n",
    "plt.xlabel(\"Date\")\n",
    "plt.ylabel('Death Cases')\n",
    "plt.xticks(rotation=90)"
   ]
  },
  {
   "cell_type": "code",
   "execution_count": 84,
   "metadata": {
    "hidden": true
   },
   "outputs": [],
   "source": [
    "MA_model_new_prediction_death=[]\n",
    "for i in range(1,18):\n",
    "    MA_model_new_prediction_death.append(np.exp(results_ma__death.forecast(len(df_test)+i)[0][-1]))\n",
    "model_predictions[\"MA Model Prediction_death\"]=MA_model_new_prediction_death"
   ]
  },
  {
   "cell_type": "markdown",
   "metadata": {
    "heading_collapsed": true
   },
   "source": [
    "##### MA RECOVERED"
   ]
  },
  {
   "cell_type": "code",
   "execution_count": 85,
   "metadata": {
    "hidden": true
   },
   "outputs": [
    {
     "name": "stderr",
     "output_type": "stream",
     "text": [
      "/anaconda3/envs/learn-env/lib/python3.6/site-packages/statsmodels/tsa/base/tsa_model.py:162: ValueWarning: No frequency information was provided, so inferred frequency D will be used.\n",
      "  % freq, ValueWarning)\n",
      "/anaconda3/envs/learn-env/lib/python3.6/site-packages/statsmodels/tsa/base/tsa_model.py:162: ValueWarning: No frequency information was provided, so inferred frequency D will be used.\n",
      "  % freq, ValueWarning)\n"
     ]
    }
   ],
   "source": [
    "model_ma_recover=ARIMA(log_recover,(0,1,5))\n",
    "results_ma__recover=model_ma_recover.fit()"
   ]
  },
  {
   "cell_type": "code",
   "execution_count": 86,
   "metadata": {
    "hidden": true
   },
   "outputs": [],
   "source": [
    "prediction_ma_recover= results_ma__recover.forecast(len(df_test))[0]\n",
    "y_pred[\"MA Model Prediction_recover\"]=list(np.exp(prediction_ma_recover))"
   ]
  },
  {
   "cell_type": "code",
   "execution_count": 88,
   "metadata": {
    "hidden": true
   },
   "outputs": [
    {
     "data": {
      "text/plain": [
       "(array([737446., 737456., 737463., 737470., 737477., 737485., 737492.,\n",
       "        737499., 737506.]), <a list of 9 Text xticklabel objects>)"
      ]
     },
     "execution_count": 88,
     "metadata": {},
     "output_type": "execute_result"
    },
    {
     "data": {
      "image/png": "[encoded data removed]",
      "text/plain": [
       "<Figure size 720x360 with 1 Axes>"
      ]
     },
     "metadata": {
      "needs_background": "light"
     },
     "output_type": "display_data"
    }
   ],
   "source": [
    "plt.figure(figsize=(10,5))\n",
    "plt.plot(df_train.index,df_train[\"Recovered\"],label=\"Train Set\")\n",
    "plt.plot(df_test.index,df_test[\"Recovered\"],label=\"Test Set\")\n",
    "plt.plot(y_pred[\"MA Model Prediction_recover\"],label=\"MA Prediction Set\")\n",
    "plt.legend()\n",
    "plt.xlabel(\"Date\")\n",
    "plt.ylabel('Recovered Cases')\n",
    "plt.xticks(rotation=90)"
   ]
  },
  {
   "cell_type": "code",
   "execution_count": 89,
   "metadata": {
    "hidden": true
   },
   "outputs": [],
   "source": [
    "MA_model_new_prediction_recover=[]\n",
    "for i in range(1,18):\n",
    "    MA_model_new_prediction_recover.append(np.exp(results_ma__recover.forecast(len(df_test)+i)[0][-1]))\n",
    "model_predictions[\"MA Model Prediction_death_recover\"]=MA_model_new_prediction_recover"
   ]
  },
  {
   "cell_type": "markdown",
   "metadata": {
    "heading_collapsed": true
   },
   "source": [
    "##### ARIMA Model Confirmed Cases"
   ]
  },
  {
   "cell_type": "code",
   "execution_count": 37,
   "metadata": {
    "hidden": true
   },
   "outputs": [
    {
     "name": "stderr",
     "output_type": "stream",
     "text": [
      "/anaconda3/envs/learn-env/lib/python3.6/site-packages/statsmodels/tsa/base/tsa_model.py:162: ValueWarning: No frequency information was provided, so inferred frequency D will be used.\n",
      "  % freq, ValueWarning)\n",
      "/anaconda3/envs/learn-env/lib/python3.6/site-packages/statsmodels/tsa/base/tsa_model.py:162: ValueWarning: No frequency information was provided, so inferred frequency D will be used.\n",
      "  % freq, ValueWarning)\n"
     ]
    }
   ],
   "source": [
    "model_arima=ARIMA(log_series,(1,1,2))\n",
    "model_arima_fit=model_arima.fit()"
   ]
  },
  {
   "cell_type": "code",
   "execution_count": 38,
   "metadata": {
    "hidden": true
   },
   "outputs": [],
   "source": [
    "prediction_arima=model_arima_fit.forecast(len(df_test))[0]\n",
    "y_pred[\"ARIMA Model Prediction\"]=list(np.exp(prediction_arima))"
   ]
  },
  {
   "cell_type": "code",
   "execution_count": 40,
   "metadata": {
    "hidden": true
   },
   "outputs": [
    {
     "data": {
      "text/plain": [
       "(array([737446., 737456., 737463., 737470., 737477., 737485., 737492.,\n",
       "        737499., 737506.]), <a list of 9 Text xticklabel objects>)"
      ]
     },
     "execution_count": 40,
     "metadata": {},
     "output_type": "execute_result"
    },
    {
     "data": {
      "image/png": "[encoded data removed]",
      "text/plain": [
       "<Figure size 720x360 with 1 Axes>"
      ]
     },
     "metadata": {
      "needs_background": "light"
     },
     "output_type": "display_data"
    }
   ],
   "source": [
    "plt.figure(figsize=(10,5))\n",
    "plt.plot(df_train.index,df_train[\"Confirmed\"],label=\"Train Set\")\n",
    "plt.plot(df_test.index,df_test[\"Confirmed\"],label=\"Test Set\")\n",
    "plt.plot(y_pred[\"ARIMA Model Prediction\"],label=\"ARIMA Prediction Set\")\n",
    "plt.legend()\n",
    "plt.xlabel(\"Date\")\n",
    "plt.ylabel('Confirmed Cases')\n",
    "plt.xticks(rotation=90)"
   ]
  },
  {
   "cell_type": "code",
   "execution_count": 93,
   "metadata": {
    "hidden": true
   },
   "outputs": [],
   "source": [
    "ARIMA_model_new_prediction=[]\n",
    "for i in range(1,18):\n",
    "    ARIMA_model_new_prediction.append(np.exp(model_arima_fit.forecast(len(df_test)+i)[0][-1]))\n",
    "model_predictions[\"ARIMA Model Prediction\"]=ARIMA_model_new_prediction"
   ]
  },
  {
   "cell_type": "markdown",
   "metadata": {
    "heading_collapsed": true
   },
   "source": [
    "##### ARIMA DEATH"
   ]
  },
  {
   "cell_type": "code",
   "execution_count": 90,
   "metadata": {
    "hidden": true
   },
   "outputs": [
    {
     "name": "stderr",
     "output_type": "stream",
     "text": [
      "/anaconda3/envs/learn-env/lib/python3.6/site-packages/statsmodels/tsa/base/tsa_model.py:162: ValueWarning: No frequency information was provided, so inferred frequency D will be used.\n",
      "  % freq, ValueWarning)\n",
      "/anaconda3/envs/learn-env/lib/python3.6/site-packages/statsmodels/tsa/base/tsa_model.py:162: ValueWarning: No frequency information was provided, so inferred frequency D will be used.\n",
      "  % freq, ValueWarning)\n"
     ]
    }
   ],
   "source": [
    "model_arima_death=ARIMA(log_deaths,(1,1,2))\n",
    "results_arima_death=model_arima_death.fit()"
   ]
  },
  {
   "cell_type": "code",
   "execution_count": 91,
   "metadata": {
    "hidden": true
   },
   "outputs": [],
   "source": [
    "prediction_arima_death=results_arima_death.forecast(len(df_test))[0]\n",
    "y_pred[\"ARIMA Model Prediction_death\"]=list(np.exp(prediction_arima_death))"
   ]
  },
  {
   "cell_type": "code",
   "execution_count": 92,
   "metadata": {
    "hidden": true
   },
   "outputs": [
    {
     "data": {
      "text/plain": [
       "(array([737446., 737456., 737463., 737470., 737477., 737485., 737492.,\n",
       "        737499., 737506.]), <a list of 9 Text xticklabel objects>)"
      ]
     },
     "execution_count": 92,
     "metadata": {},
     "output_type": "execute_result"
    },
    {
     "data": {
      "image/png": "[encoded data removed]",
      "text/plain": [
       "<Figure size 720x360 with 1 Axes>"
      ]
     },
     "metadata": {
      "needs_background": "light"
     },
     "output_type": "display_data"
    }
   ],
   "source": [
    "plt.figure(figsize=(10,5))\n",
    "plt.plot(df_train.index,df_train[\"Deaths\"],label=\"Train Set\")\n",
    "plt.plot(df_test.index,df_test[\"Deaths\"],label=\"Test Set\")\n",
    "plt.plot(y_pred[\"ARIMA Model Prediction_death\"],label=\"ARIMA Prediction Set\")\n",
    "plt.legend()\n",
    "plt.xlabel(\"Date\")\n",
    "plt.ylabel('Death Cases')\n",
    "plt.xticks(rotation=90)"
   ]
  },
  {
   "cell_type": "code",
   "execution_count": 94,
   "metadata": {
    "hidden": true
   },
   "outputs": [],
   "source": [
    "ARIMA_model_new_prediction_death=[]\n",
    "for i in range(1,18):\n",
    "    ARIMA_model_new_prediction_death.append(np.exp(results_arima_death.forecast(len(df_test)+i)[0][-1]))\n",
    "model_predictions[\"ARIMA Model Prediction_death\"]=ARIMA_model_new_prediction_death"
   ]
  },
  {
   "cell_type": "markdown",
   "metadata": {
    "heading_collapsed": true
   },
   "source": [
    "##### ARIMA RECOVERED"
   ]
  },
  {
   "cell_type": "code",
   "execution_count": 95,
   "metadata": {
    "hidden": true
   },
   "outputs": [
    {
     "name": "stderr",
     "output_type": "stream",
     "text": [
      "/anaconda3/envs/learn-env/lib/python3.6/site-packages/statsmodels/tsa/base/tsa_model.py:162: ValueWarning: No frequency information was provided, so inferred frequency D will be used.\n",
      "  % freq, ValueWarning)\n",
      "/anaconda3/envs/learn-env/lib/python3.6/site-packages/statsmodels/tsa/base/tsa_model.py:162: ValueWarning: No frequency information was provided, so inferred frequency D will be used.\n",
      "  % freq, ValueWarning)\n"
     ]
    }
   ],
   "source": [
    "model_arima_recover=ARIMA(log_recover,(1,1,2))\n",
    "results_arima_recover=model_arima_recover.fit()"
   ]
  },
  {
   "cell_type": "code",
   "execution_count": 96,
   "metadata": {
    "hidden": true
   },
   "outputs": [],
   "source": [
    "prediction_arima_recover=results_arima_recover.forecast(len(df_test))[0]\n",
    "y_pred[\"ARIMA Model Prediction_recover\"]=list(np.exp(prediction_arima_recover))"
   ]
  },
  {
   "cell_type": "code",
   "execution_count": 97,
   "metadata": {
    "hidden": true
   },
   "outputs": [
    {
     "data": {
      "text/plain": [
       "(array([737446., 737456., 737463., 737470., 737477., 737485., 737492.,\n",
       "        737499., 737506.]), <a list of 9 Text xticklabel objects>)"
      ]
     },
     "execution_count": 97,
     "metadata": {},
     "output_type": "execute_result"
    },
    {
     "data": {
      "image/png": "[encoded data removed]",
      "text/plain": [
       "<Figure size 720x360 with 1 Axes>"
      ]
     },
     "metadata": {
      "needs_background": "light"
     },
     "output_type": "display_data"
    }
   ],
   "source": [
    "plt.figure(figsize=(10,5))\n",
    "plt.plot(df_train.index,df_train[\"Recovered\"],label=\"Train Set\")\n",
    "plt.plot(df_test.index,df_test[\"Recovered\"],label=\"Test Set\")\n",
    "plt.plot(y_pred[\"ARIMA Model Prediction_recover\"],label=\"ARIMA Prediction Set\")\n",
    "plt.legend()\n",
    "plt.xlabel(\"Date\")\n",
    "plt.ylabel('Recovered Cases')\n",
    "plt.xticks(rotation=90)"
   ]
  },
  {
   "cell_type": "code",
   "execution_count": 98,
   "metadata": {
    "hidden": true
   },
   "outputs": [],
   "source": [
    "ARIMA_model_new_prediction_recover=[]\n",
    "for i in range(1,18):\n",
    "    ARIMA_model_new_prediction_recover.append(np.exp(results_arima_recover.forecast(len(df_test)+i)[0][-1]))\n",
    "model_predictions[\"ARIMA Model Prediction_recover\"]=ARIMA_model_new_prediction_recover"
   ]
  },
  {
   "cell_type": "markdown",
   "metadata": {},
   "source": [
    "#### Final model"
   ]
  },
  {
   "cell_type": "code",
   "execution_count": 103,
   "metadata": {},
   "outputs": [
    {
     "data": {
      "text/html": [
       "<div>\n",
       "<style scoped>\n",
       "    .dataframe tbody tr th:only-of-type {\n",
       "        vertical-align: middle;\n",
       "    }\n",
       "\n",
       "    .dataframe tbody tr th {\n",
       "        vertical-align: top;\n",
       "    }\n",
       "\n",
       "    .dataframe thead th {\n",
       "        text-align: right;\n",
       "    }\n",
       "</style>\n",
       "<table border=\"1\" class=\"dataframe\">\n",
       "  <thead>\n",
       "    <tr style=\"text-align: right;\">\n",
       "      <th></th>\n",
       "      <th>Dates</th>\n",
       "      <th>AR Model Prediction</th>\n",
       "      <th>AR Model Prediction_death</th>\n",
       "      <th>AR Model Prediction_Recover</th>\n",
       "      <th>MA Model Prediction</th>\n",
       "      <th>MA Model Prediction_death</th>\n",
       "      <th>MA Model Prediction_death_recover</th>\n",
       "      <th>ARIMA Model Prediction</th>\n",
       "      <th>ARIMA Model Prediction_death</th>\n",
       "      <th>ARIMA Model Prediction_recover</th>\n",
       "    </tr>\n",
       "  </thead>\n",
       "  <tbody>\n",
       "    <tr>\n",
       "      <th>0</th>\n",
       "      <td>2020-03-25</td>\n",
       "      <td>4.010200e+05</td>\n",
       "      <td>17961.557085</td>\n",
       "      <td>172846.497495</td>\n",
       "      <td>5.216297e+05</td>\n",
       "      <td>20369.153266</td>\n",
       "      <td>4.079359e+05</td>\n",
       "      <td>4.010098e+05</td>\n",
       "      <td>20203.069976</td>\n",
       "      <td>180844.608865</td>\n",
       "    </tr>\n",
       "    <tr>\n",
       "      <th>1</th>\n",
       "      <td>2020-03-26</td>\n",
       "      <td>4.445385e+05</td>\n",
       "      <td>20097.482761</td>\n",
       "      <td>188656.492741</td>\n",
       "      <td>5.809751e+05</td>\n",
       "      <td>22762.083716</td>\n",
       "      <td>4.728051e+05</td>\n",
       "      <td>4.446134e+05</td>\n",
       "      <td>22592.156383</td>\n",
       "      <td>198718.753085</td>\n",
       "    </tr>\n",
       "    <tr>\n",
       "      <th>2</th>\n",
       "      <td>2020-03-27</td>\n",
       "      <td>4.936504e+05</td>\n",
       "      <td>22525.218696</td>\n",
       "      <td>206325.104447</td>\n",
       "      <td>6.470722e+05</td>\n",
       "      <td>25436.131210</td>\n",
       "      <td>5.479897e+05</td>\n",
       "      <td>4.938283e+05</td>\n",
       "      <td>25264.516604</td>\n",
       "      <td>218831.385703</td>\n",
       "    </tr>\n",
       "    <tr>\n",
       "      <th>3</th>\n",
       "      <td>2020-03-28</td>\n",
       "      <td>5.490882e+05</td>\n",
       "      <td>25277.696828</td>\n",
       "      <td>226079.106354</td>\n",
       "      <td>7.206891e+05</td>\n",
       "      <td>28424.320857</td>\n",
       "      <td>6.351300e+05</td>\n",
       "      <td>5.493899e+05</td>\n",
       "      <td>28253.537559</td>\n",
       "      <td>241467.240881</td>\n",
       "    </tr>\n",
       "    <tr>\n",
       "      <th>4</th>\n",
       "      <td>2020-03-29</td>\n",
       "      <td>6.116853e+05</td>\n",
       "      <td>28377.387132</td>\n",
       "      <td>248174.259122</td>\n",
       "      <td>8.026814e+05</td>\n",
       "      <td>31763.557497</td>\n",
       "      <td>7.361271e+05</td>\n",
       "      <td>6.121331e+05</td>\n",
       "      <td>31596.594434</td>\n",
       "      <td>266949.341881</td>\n",
       "    </tr>\n",
       "    <tr>\n",
       "      <th>5</th>\n",
       "      <td>2020-03-30</td>\n",
       "      <td>6.823873e+05</td>\n",
       "      <td>31898.502262</td>\n",
       "      <td>272895.931705</td>\n",
       "      <td>8.940018e+05</td>\n",
       "      <td>35495.081481</td>\n",
       "      <td>8.531847e+05</td>\n",
       "      <td>6.830061e+05</td>\n",
       "      <td>35335.512888</td>\n",
       "      <td>295644.115053</td>\n",
       "    </tr>\n",
       "    <tr>\n",
       "      <th>6</th>\n",
       "      <td>2020-03-31</td>\n",
       "      <td>7.622681e+05</td>\n",
       "      <td>35882.396775</td>\n",
       "      <td>300573.353922</td>\n",
       "      <td>9.957117e+05</td>\n",
       "      <td>39664.978001</td>\n",
       "      <td>9.888565e+05</td>\n",
       "      <td>7.630853e+05</td>\n",
       "      <td>39517.088579</td>\n",
       "      <td>327967.205955</td>\n",
       "    </tr>\n",
       "    <tr>\n",
       "      <th>7</th>\n",
       "      <td>2020-04-01</td>\n",
       "      <td>8.525476e+05</td>\n",
       "      <td>40382.700514</td>\n",
       "      <td>331571.902503</td>\n",
       "      <td>1.108993e+06</td>\n",
       "      <td>44324.746251</td>\n",
       "      <td>1.146103e+06</td>\n",
       "      <td>8.535927e+05</td>\n",
       "      <td>44193.670082</td>\n",
       "      <td>364390.092195</td>\n",
       "    </tr>\n",
       "    <tr>\n",
       "      <th>8</th>\n",
       "      <td>2020-04-02</td>\n",
       "      <td>9.546108e+05</td>\n",
       "      <td>45489.446603</td>\n",
       "      <td>366308.675021</td>\n",
       "      <td>1.235162e+06</td>\n",
       "      <td>49531.935457</td>\n",
       "      <td>1.328354e+06</td>\n",
       "      <td>9.559162e+05</td>\n",
       "      <td>49423.812211</td>\n",
       "      <td>405447.600729</td>\n",
       "    </tr>\n",
       "    <tr>\n",
       "      <th>9</th>\n",
       "      <td>2020-04-03</td>\n",
       "      <td>1.070031e+06</td>\n",
       "      <td>51265.398007</td>\n",
       "      <td>405253.471960</td>\n",
       "      <td>1.375686e+06</td>\n",
       "      <td>55350.855618</td>\n",
       "      <td>1.539586e+06</td>\n",
       "      <td>1.071631e+06</td>\n",
       "      <td>55273.007679</td>\n",
       "      <td>451746.452203</td>\n",
       "    </tr>\n",
       "    <tr>\n",
       "      <th>10</th>\n",
       "      <td>2020-04-04</td>\n",
       "      <td>1.200594e+06</td>\n",
       "      <td>57801.282730</td>\n",
       "      <td>448936.708252</td>\n",
       "      <td>1.532197e+06</td>\n",
       "      <td>61853.371758</td>\n",
       "      <td>1.784408e+06</td>\n",
       "      <td>1.202527e+06</td>\n",
       "      <td>61814.506122</td>\n",
       "      <td>503974.971830</td>\n",
       "    </tr>\n",
       "    <tr>\n",
       "      <th>11</th>\n",
       "      <td>2020-04-05</td>\n",
       "      <td>1.348330e+06</td>\n",
       "      <td>65211.592708</td>\n",
       "      <td>497960.697978</td>\n",
       "      <td>1.706513e+06</td>\n",
       "      <td>69119.791467</td>\n",
       "      <td>2.068161e+06</td>\n",
       "      <td>1.350635e+06</td>\n",
       "      <td>69130.230598</td>\n",
       "      <td>562914.125417</td>\n",
       "    </tr>\n",
       "    <tr>\n",
       "      <th>12</th>\n",
       "      <td>2020-04-06</td>\n",
       "      <td>1.515543e+06</td>\n",
       "      <td>73595.707837</td>\n",
       "      <td>553003.655402</td>\n",
       "      <td>1.900662e+06</td>\n",
       "      <td>77239.856723</td>\n",
       "      <td>2.397036e+06</td>\n",
       "      <td>1.518263e+06</td>\n",
       "      <td>77311.802970</td>\n",
       "      <td>629450.060961</td>\n",
       "    </tr>\n",
       "    <tr>\n",
       "      <th>13</th>\n",
       "      <td>2020-04-07</td>\n",
       "      <td>1.704851e+06</td>\n",
       "      <td>83090.943082</td>\n",
       "      <td>614835.243999</td>\n",
       "      <td>2.116899e+06</td>\n",
       "      <td>86313.852225</td>\n",
       "      <td>2.778208e+06</td>\n",
       "      <td>1.708029e+06</td>\n",
       "      <td>86461.690941</td>\n",
       "      <td>704588.360900</td>\n",
       "    </tr>\n",
       "    <tr>\n",
       "      <th>14</th>\n",
       "      <td>2020-04-08</td>\n",
       "      <td>1.919230e+06</td>\n",
       "      <td>93851.072986</td>\n",
       "      <td>684324.882642</td>\n",
       "      <td>2.357737e+06</td>\n",
       "      <td>96453.843937</td>\n",
       "      <td>3.219994e+06</td>\n",
       "      <td>1.922911e+06</td>\n",
       "      <td>96694.491064</td>\n",
       "      <td>789470.238245</td>\n",
       "    </tr>\n",
       "    <tr>\n",
       "      <th>15</th>\n",
       "      <td>2020-04-09</td>\n",
       "      <td>2.162057e+06</td>\n",
       "      <td>106031.000576</td>\n",
       "      <td>762456.667817</td>\n",
       "      <td>2.625975e+06</td>\n",
       "      <td>107785.063119</td>\n",
       "      <td>3.732031e+06</td>\n",
       "      <td>2.166287e+06</td>\n",
       "      <td>108138.363755</td>\n",
       "      <td>885390.941697</td>\n",
       "    </tr>\n",
       "    <tr>\n",
       "      <th>16</th>\n",
       "      <td>2020-04-10</td>\n",
       "      <td>2.437171e+06</td>\n",
       "      <td>119830.143468</td>\n",
       "      <td>850345.263410</td>\n",
       "      <td>2.924730e+06</td>\n",
       "      <td>120447.452972</td>\n",
       "      <td>4.325492e+06</td>\n",
       "      <td>2.441995e+06</td>\n",
       "      <td>120936.638265</td>\n",
       "      <td>993820.671138</td>\n",
       "    </tr>\n",
       "  </tbody>\n",
       "</table>\n",
       "</div>"
      ],
      "text/plain": [
       "        Dates  AR Model Prediction  AR Model Prediction_death  \\\n",
       "0  2020-03-25         4.010200e+05               17961.557085   \n",
       "1  2020-03-26         4.445385e+05               20097.482761   \n",
       "2  2020-03-27         4.936504e+05               22525.218696   \n",
       "3  2020-03-28         5.490882e+05               25277.696828   \n",
       "4  2020-03-29         6.116853e+05               28377.387132   \n",
       "5  2020-03-30         6.823873e+05               31898.502262   \n",
       "6  2020-03-31         7.622681e+05               35882.396775   \n",
       "7  2020-04-01         8.525476e+05               40382.700514   \n",
       "8  2020-04-02         9.546108e+05               45489.446603   \n",
       "9  2020-04-03         1.070031e+06               51265.398007   \n",
       "10 2020-04-04         1.200594e+06               57801.282730   \n",
       "11 2020-04-05         1.348330e+06               65211.592708   \n",
       "12 2020-04-06         1.515543e+06               73595.707837   \n",
       "13 2020-04-07         1.704851e+06               83090.943082   \n",
       "14 2020-04-08         1.919230e+06               93851.072986   \n",
       "15 2020-04-09         2.162057e+06              106031.000576   \n",
       "16 2020-04-10         2.437171e+06              119830.143468   \n",
       "\n",
       "    AR Model Prediction_Recover  MA Model Prediction  \\\n",
       "0                 172846.497495         5.216297e+05   \n",
       "1                 188656.492741         5.809751e+05   \n",
       "2                 206325.104447         6.470722e+05   \n",
       "3                 226079.106354         7.206891e+05   \n",
       "4                 248174.259122         8.026814e+05   \n",
       "5                 272895.931705         8.940018e+05   \n",
       "6                 300573.353922         9.957117e+05   \n",
       "7                 331571.902503         1.108993e+06   \n",
       "8                 366308.675021         1.235162e+06   \n",
       "9                 405253.471960         1.375686e+06   \n",
       "10                448936.708252         1.532197e+06   \n",
       "11                497960.697978         1.706513e+06   \n",
       "12                553003.655402         1.900662e+06   \n",
       "13                614835.243999         2.116899e+06   \n",
       "14                684324.882642         2.357737e+06   \n",
       "15                762456.667817         2.625975e+06   \n",
       "16                850345.263410         2.924730e+06   \n",
       "\n",
       "    MA Model Prediction_death  MA Model Prediction_death_recover  \\\n",
       "0                20369.153266                       4.079359e+05   \n",
       "1                22762.083716                       4.728051e+05   \n",
       "2                25436.131210                       5.479897e+05   \n",
       "3                28424.320857                       6.351300e+05   \n",
       "4                31763.557497                       7.361271e+05   \n",
       "5                35495.081481                       8.531847e+05   \n",
       "6                39664.978001                       9.888565e+05   \n",
       "7                44324.746251                       1.146103e+06   \n",
       "8                49531.935457                       1.328354e+06   \n",
       "9                55350.855618                       1.539586e+06   \n",
       "10               61853.371758                       1.784408e+06   \n",
       "11               69119.791467                       2.068161e+06   \n",
       "12               77239.856723                       2.397036e+06   \n",
       "13               86313.852225                       2.778208e+06   \n",
       "14               96453.843937                       3.219994e+06   \n",
       "15              107785.063119                       3.732031e+06   \n",
       "16              120447.452972                       4.325492e+06   \n",
       "\n",
       "    ARIMA Model Prediction  ARIMA Model Prediction_death  \\\n",
       "0             4.010098e+05                  20203.069976   \n",
       "1             4.446134e+05                  22592.156383   \n",
       "2             4.938283e+05                  25264.516604   \n",
       "3             5.493899e+05                  28253.537559   \n",
       "4             6.121331e+05                  31596.594434   \n",
       "5             6.830061e+05                  35335.512888   \n",
       "6             7.630853e+05                  39517.088579   \n",
       "7             8.535927e+05                  44193.670082   \n",
       "8             9.559162e+05                  49423.812211   \n",
       "9             1.071631e+06                  55273.007679   \n",
       "10            1.202527e+06                  61814.506122   \n",
       "11            1.350635e+06                  69130.230598   \n",
       "12            1.518263e+06                  77311.802970   \n",
       "13            1.708029e+06                  86461.690941   \n",
       "14            1.922911e+06                  96694.491064   \n",
       "15            2.166287e+06                 108138.363755   \n",
       "16            2.441995e+06                 120936.638265   \n",
       "\n",
       "    ARIMA Model Prediction_recover  \n",
       "0                    180844.608865  \n",
       "1                    198718.753085  \n",
       "2                    218831.385703  \n",
       "3                    241467.240881  \n",
       "4                    266949.341881  \n",
       "5                    295644.115053  \n",
       "6                    327967.205955  \n",
       "7                    364390.092195  \n",
       "8                    405447.600729  \n",
       "9                    451746.452203  \n",
       "10                   503974.971830  \n",
       "11                   562914.125417  \n",
       "12                   629450.060961  \n",
       "13                   704588.360900  \n",
       "14                   789470.238245  \n",
       "15                   885390.941697  \n",
       "16                   993820.671138  "
      ]
     },
     "execution_count": 103,
     "metadata": {},
     "output_type": "execute_result"
    }
   ],
   "source": [
    "model_predictions"
   ]
  },
  {
   "cell_type": "code",
   "execution_count": 105,
   "metadata": {},
   "outputs": [
    {
     "data": {
      "text/html": [
       "<div>\n",
       "<style scoped>\n",
       "    .dataframe tbody tr th:only-of-type {\n",
       "        vertical-align: middle;\n",
       "    }\n",
       "\n",
       "    .dataframe tbody tr th {\n",
       "        vertical-align: top;\n",
       "    }\n",
       "\n",
       "    .dataframe thead th {\n",
       "        text-align: right;\n",
       "    }\n",
       "</style>\n",
       "<table border=\"1\" class=\"dataframe\">\n",
       "  <thead>\n",
       "    <tr style=\"text-align: right;\">\n",
       "      <th></th>\n",
       "      <th>Confirmed</th>\n",
       "      <th>Recovered</th>\n",
       "      <th>Deaths</th>\n",
       "      <th>AR Model Prediction</th>\n",
       "      <th>AR Model Prediction_death</th>\n",
       "      <th>MA Model Prediction</th>\n",
       "      <th>ARIMA Model Prediction</th>\n",
       "      <th>AR Model Prediction_Recover</th>\n",
       "      <th>MA Model Prediction_death</th>\n",
       "      <th>MA Model Prediction_recover</th>\n",
       "      <th>ARIMA Model Prediction_death</th>\n",
       "      <th>ARIMA Model Prediction_recover</th>\n",
       "    </tr>\n",
       "    <tr>\n",
       "      <th>ObservationDate</th>\n",
       "      <th></th>\n",
       "      <th></th>\n",
       "      <th></th>\n",
       "      <th></th>\n",
       "      <th></th>\n",
       "      <th></th>\n",
       "      <th></th>\n",
       "      <th></th>\n",
       "      <th></th>\n",
       "      <th></th>\n",
       "      <th></th>\n",
       "      <th></th>\n",
       "    </tr>\n",
       "  </thead>\n",
       "  <tbody>\n",
       "    <tr>\n",
       "      <th>2020-03-12</th>\n",
       "      <td>128343.0</td>\n",
       "      <td>68324.0</td>\n",
       "      <td>4720.0</td>\n",
       "      <td>133018.485724</td>\n",
       "      <td>4946.186564</td>\n",
       "      <td>135019.851963</td>\n",
       "      <td>133094.331836</td>\n",
       "      <td>70279.662846</td>\n",
       "      <td>5077.721621</td>\n",
       "      <td>73539.392373</td>\n",
       "      <td>5010.093417</td>\n",
       "      <td>70201.125445</td>\n",
       "    </tr>\n",
       "    <tr>\n",
       "      <th>2020-03-13</th>\n",
       "      <td>145193.0</td>\n",
       "      <td>70251.0</td>\n",
       "      <td>5404.0</td>\n",
       "      <td>141862.088082</td>\n",
       "      <td>5373.621925</td>\n",
       "      <td>146515.902416</td>\n",
       "      <td>141787.362645</td>\n",
       "      <td>73953.135283</td>\n",
       "      <td>5541.900890</td>\n",
       "      <td>79284.675032</td>\n",
       "      <td>5488.857165</td>\n",
       "      <td>73685.904096</td>\n",
       "    </tr>\n",
       "    <tr>\n",
       "      <th>2020-03-14</th>\n",
       "      <td>156099.0</td>\n",
       "      <td>72624.0</td>\n",
       "      <td>5819.0</td>\n",
       "      <td>151931.018194</td>\n",
       "      <td>5869.432503</td>\n",
       "      <td>160663.445307</td>\n",
       "      <td>151746.127830</td>\n",
       "      <td>78019.546506</td>\n",
       "      <td>6029.550295</td>\n",
       "      <td>86799.446713</td>\n",
       "      <td>6056.015188</td>\n",
       "      <td>77736.916815</td>\n",
       "    </tr>\n",
       "    <tr>\n",
       "      <th>2020-03-15</th>\n",
       "      <td>167447.0</td>\n",
       "      <td>76034.0</td>\n",
       "      <td>6440.0</td>\n",
       "      <td>163230.286686</td>\n",
       "      <td>6387.113848</td>\n",
       "      <td>177771.284662</td>\n",
       "      <td>163101.205559</td>\n",
       "      <td>82546.239383</td>\n",
       "      <td>6707.979814</td>\n",
       "      <td>95961.476865</td>\n",
       "      <td>6712.860888</td>\n",
       "      <td>82401.039414</td>\n",
       "    </tr>\n",
       "    <tr>\n",
       "      <th>2020-03-16</th>\n",
       "      <td>181546.0</td>\n",
       "      <td>78088.0</td>\n",
       "      <td>7126.0</td>\n",
       "      <td>176207.774386</td>\n",
       "      <td>7021.089955</td>\n",
       "      <td>197790.462104</td>\n",
       "      <td>176004.463323</td>\n",
       "      <td>87694.530871</td>\n",
       "      <td>7495.862532</td>\n",
       "      <td>108088.616599</td>\n",
       "      <td>7463.666520</td>\n",
       "      <td>87734.294564</td>\n",
       "    </tr>\n",
       "    <tr>\n",
       "      <th>2020-03-17</th>\n",
       "      <td>197168.0</td>\n",
       "      <td>80840.0</td>\n",
       "      <td>7905.0</td>\n",
       "      <td>190845.839912</td>\n",
       "      <td>7728.273557</td>\n",
       "      <td>220292.931731</td>\n",
       "      <td>190631.246337</td>\n",
       "      <td>93515.075544</td>\n",
       "      <td>8376.462598</td>\n",
       "      <td>125276.663691</td>\n",
       "      <td>8315.078142</td>\n",
       "      <td>93802.537257</td>\n",
       "    </tr>\n",
       "    <tr>\n",
       "      <th>2020-03-18</th>\n",
       "      <td>214915.0</td>\n",
       "      <td>83313.0</td>\n",
       "      <td>8733.0</td>\n",
       "      <td>207397.080902</td>\n",
       "      <td>8506.236028</td>\n",
       "      <td>245355.490120</td>\n",
       "      <td>207182.990417</td>\n",
       "      <td>100029.198611</td>\n",
       "      <td>9360.513931</td>\n",
       "      <td>145197.921477</td>\n",
       "      <td>9275.803697</td>\n",
       "      <td>100682.333164</td>\n",
       "    </tr>\n",
       "    <tr>\n",
       "      <th>2020-03-19</th>\n",
       "      <td>242713.0</td>\n",
       "      <td>84962.0</td>\n",
       "      <td>9867.0</td>\n",
       "      <td>226118.058942</td>\n",
       "      <td>9424.441301</td>\n",
       "      <td>273269.396612</td>\n",
       "      <td>225890.290384</td>\n",
       "      <td>107312.391725</td>\n",
       "      <td>10460.169794</td>\n",
       "      <td>168287.019946</td>\n",
       "      <td>10356.472718</td>\n",
       "      <td>108462.034857</td>\n",
       "    </tr>\n",
       "    <tr>\n",
       "      <th>2020-03-20</th>\n",
       "      <td>272167.0</td>\n",
       "      <td>87403.0</td>\n",
       "      <td>11299.0</td>\n",
       "      <td>247231.783832</td>\n",
       "      <td>10442.679013</td>\n",
       "      <td>304359.046900</td>\n",
       "      <td>247016.465421</td>\n",
       "      <td>115437.185485</td>\n",
       "      <td>11689.011194</td>\n",
       "      <td>195047.703122</td>\n",
       "      <td>11569.605447</td>\n",
       "      <td>117243.066410</td>\n",
       "    </tr>\n",
       "    <tr>\n",
       "      <th>2020-03-21</th>\n",
       "      <td>304528.0</td>\n",
       "      <td>91676.0</td>\n",
       "      <td>12973.0</td>\n",
       "      <td>271060.356367</td>\n",
       "      <td>11588.610097</td>\n",
       "      <td>338985.742928</td>\n",
       "      <td>270861.673084</td>\n",
       "      <td>124527.208265</td>\n",
       "      <td>13062.214609</td>\n",
       "      <td>226063.819453</td>\n",
       "      <td>12929.658234</td>\n",
       "      <td>127141.431994</td>\n",
       "    </tr>\n",
       "    <tr>\n",
       "      <th>2020-03-22</th>\n",
       "      <td>337020.0</td>\n",
       "      <td>97243.0</td>\n",
       "      <td>14623.0</td>\n",
       "      <td>297940.203627</td>\n",
       "      <td>12911.076113</td>\n",
       "      <td>377551.891685</td>\n",
       "      <td>297767.634213</td>\n",
       "      <td>134685.148678</td>\n",
       "      <td>14596.739421</td>\n",
       "      <td>262012.059858</td>\n",
       "      <td>14453.127083</td>\n",
       "      <td>138289.469031</td>\n",
       "    </tr>\n",
       "    <tr>\n",
       "      <th>2020-03-23</th>\n",
       "      <td>378287.0</td>\n",
       "      <td>100958.0</td>\n",
       "      <td>16497.0</td>\n",
       "      <td>328254.149434</td>\n",
       "      <td>14384.235934</td>\n",
       "      <td>420505.681695</td>\n",
       "      <td>328123.042147</td>\n",
       "      <td>146028.848279</td>\n",
       "      <td>16311.537370</td>\n",
       "      <td>303676.721366</td>\n",
       "      <td>16158.699378</td>\n",
       "      <td>150837.871370</td>\n",
       "    </tr>\n",
       "    <tr>\n",
       "      <th>2020-03-24</th>\n",
       "      <td>417966.0</td>\n",
       "      <td>107705.0</td>\n",
       "      <td>18615.0</td>\n",
       "      <td>362448.128724</td>\n",
       "      <td>16055.747767</td>\n",
       "      <td>468346.291548</td>\n",
       "      <td>362369.741739</td>\n",
       "      <td>158699.393686</td>\n",
       "      <td>18227.786610</td>\n",
       "      <td>351966.818434</td>\n",
       "      <td>18067.448624</td>\n",
       "      <td>164958.013078</td>\n",
       "    </tr>\n",
       "  </tbody>\n",
       "</table>\n",
       "</div>"
      ],
      "text/plain": [
       "                 Confirmed  Recovered   Deaths  AR Model Prediction  \\\n",
       "ObservationDate                                                       \n",
       "2020-03-12        128343.0    68324.0   4720.0        133018.485724   \n",
       "2020-03-13        145193.0    70251.0   5404.0        141862.088082   \n",
       "2020-03-14        156099.0    72624.0   5819.0        151931.018194   \n",
       "2020-03-15        167447.0    76034.0   6440.0        163230.286686   \n",
       "2020-03-16        181546.0    78088.0   7126.0        176207.774386   \n",
       "2020-03-17        197168.0    80840.0   7905.0        190845.839912   \n",
       "2020-03-18        214915.0    83313.0   8733.0        207397.080902   \n",
       "2020-03-19        242713.0    84962.0   9867.0        226118.058942   \n",
       "2020-03-20        272167.0    87403.0  11299.0        247231.783832   \n",
       "2020-03-21        304528.0    91676.0  12973.0        271060.356367   \n",
       "2020-03-22        337020.0    97243.0  14623.0        297940.203627   \n",
       "2020-03-23        378287.0   100958.0  16497.0        328254.149434   \n",
       "2020-03-24        417966.0   107705.0  18615.0        362448.128724   \n",
       "\n",
       "                 AR Model Prediction_death  MA Model Prediction  \\\n",
       "ObservationDate                                                   \n",
       "2020-03-12                     4946.186564        135019.851963   \n",
       "2020-03-13                     5373.621925        146515.902416   \n",
       "2020-03-14                     5869.432503        160663.445307   \n",
       "2020-03-15                     6387.113848        177771.284662   \n",
       "2020-03-16                     7021.089955        197790.462104   \n",
       "2020-03-17                     7728.273557        220292.931731   \n",
       "2020-03-18                     8506.236028        245355.490120   \n",
       "2020-03-19                     9424.441301        273269.396612   \n",
       "2020-03-20                    10442.679013        304359.046900   \n",
       "2020-03-21                    11588.610097        338985.742928   \n",
       "2020-03-22                    12911.076113        377551.891685   \n",
       "2020-03-23                    14384.235934        420505.681695   \n",
       "2020-03-24                    16055.747767        468346.291548   \n",
       "\n",
       "                 ARIMA Model Prediction  AR Model Prediction_Recover  \\\n",
       "ObservationDate                                                        \n",
       "2020-03-12                133094.331836                 70279.662846   \n",
       "2020-03-13                141787.362645                 73953.135283   \n",
       "2020-03-14                151746.127830                 78019.546506   \n",
       "2020-03-15                163101.205559                 82546.239383   \n",
       "2020-03-16                176004.463323                 87694.530871   \n",
       "2020-03-17                190631.246337                 93515.075544   \n",
       "2020-03-18                207182.990417                100029.198611   \n",
       "2020-03-19                225890.290384                107312.391725   \n",
       "2020-03-20                247016.465421                115437.185485   \n",
       "2020-03-21                270861.673084                124527.208265   \n",
       "2020-03-22                297767.634213                134685.148678   \n",
       "2020-03-23                328123.042147                146028.848279   \n",
       "2020-03-24                362369.741739                158699.393686   \n",
       "\n",
       "                 MA Model Prediction_death  MA Model Prediction_recover  \\\n",
       "ObservationDate                                                           \n",
       "2020-03-12                     5077.721621                 73539.392373   \n",
       "2020-03-13                     5541.900890                 79284.675032   \n",
       "2020-03-14                     6029.550295                 86799.446713   \n",
       "2020-03-15                     6707.979814                 95961.476865   \n",
       "2020-03-16                     7495.862532                108088.616599   \n",
       "2020-03-17                     8376.462598                125276.663691   \n",
       "2020-03-18                     9360.513931                145197.921477   \n",
       "2020-03-19                    10460.169794                168287.019946   \n",
       "2020-03-20                    11689.011194                195047.703122   \n",
       "2020-03-21                    13062.214609                226063.819453   \n",
       "2020-03-22                    14596.739421                262012.059858   \n",
       "2020-03-23                    16311.537370                303676.721366   \n",
       "2020-03-24                    18227.786610                351966.818434   \n",
       "\n",
       "                 ARIMA Model Prediction_death  ARIMA Model Prediction_recover  \n",
       "ObservationDate                                                                \n",
       "2020-03-12                        5010.093417                    70201.125445  \n",
       "2020-03-13                        5488.857165                    73685.904096  \n",
       "2020-03-14                        6056.015188                    77736.916815  \n",
       "2020-03-15                        6712.860888                    82401.039414  \n",
       "2020-03-16                        7463.666520                    87734.294564  \n",
       "2020-03-17                        8315.078142                    93802.537257  \n",
       "2020-03-18                        9275.803697                   100682.333164  \n",
       "2020-03-19                       10356.472718                   108462.034857  \n",
       "2020-03-20                       11569.605447                   117243.066410  \n",
       "2020-03-21                       12929.658234                   127141.431994  \n",
       "2020-03-22                       14453.127083                   138289.469031  \n",
       "2020-03-23                       16158.699378                   150837.871370  \n",
       "2020-03-24                       18067.448624                   164958.013078  "
      ]
     },
     "execution_count": 105,
     "metadata": {},
     "output_type": "execute_result"
    }
   ],
   "source": [
    "y_pred # validation for the testing set "
   ]
  },
  {
   "cell_type": "code",
   "execution_count": null,
   "metadata": {},
   "outputs": [],
   "source": []
  }
 ],
 "metadata": {
  "kernelspec": {
   "display_name": "Python [conda env:learn-env] *",
   "language": "python",
   "name": "conda-env-learn-env-py"
  },
  "language_info": {
   "codemirror_mode": {
    "name": "ipython",
    "version": 3
   },
   "file_extension": ".py",
   "mimetype": "text/x-python",
   "name": "python",
   "nbconvert_exporter": "python",
   "pygments_lexer": "ipython3",
   "version": "3.6.9"
  },
  "toc": {
   "base_numbering": 1,
   "nav_menu": {},
   "number_sections": true,
   "sideBar": true,
   "skip_h1_title": false,
   "title_cell": "Table of Contents",
   "title_sidebar": "Contents",
   "toc_cell": false,
   "toc_position": {
    "height": "calc(100% - 180px)",
    "left": "10px",
    "top": "150px",
    "width": "167.273px"
   },
   "toc_section_display": true,
   "toc_window_display": true
  }
 },
 "nbformat": 4,
 "nbformat_minor": 2
}
